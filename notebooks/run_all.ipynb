{
 "cells": [
  {
   "cell_type": "markdown",
   "metadata": {},
   "source": [
    "### Notebook to Execute all the experiments and Plots"
   ]
  },
  {
   "cell_type": "markdown",
   "metadata": {},
   "source": [
    "### Run All Experiments"
   ]
  },
  {
   "cell_type": "code",
   "execution_count": 72,
   "metadata": {},
   "outputs": [],
   "source": [
    "# imports\n",
    "import os\n",
    "import sys\n",
    "import subprocess"
   ]
  },
  {
   "cell_type": "code",
   "execution_count": null,
   "metadata": {},
   "outputs": [],
   "source": [
    "script_dir = os.path.abspath(os.path.join(\"..\", \"scripts\"))\n",
    "\n",
    "# test the command, turn it False to execute\n",
    "debug = False\n",
    "\n",
    "# Define parameters\n",
    "command = [\n",
    "    \"python\",\n",
    "    \"run_all.py\", # main script name\n",
    "\n",
    "    ## Dataset and Model Configuration\n",
    "\n",
    "    \"--model_name\", \"gpt2\", # [\"gpt2\", \"pythia-6.9b\",  \"Llama-3.2-1B\", \"Llama-3.1-8B\"]\n",
    "    \"--dataset\", \"copyVSfact\", # [\"copyVSfact\", \"copyVSfactQnA\", \"copyVSfactDomain\"]\n",
    "    \"--start\", \"0\", # None for the entire dataset\n",
    "    \"--end\", \"100\", # None for the entire dataset\n",
    "    # \"--prompt_type\", \"qna\", # Domain/Normal Dataset: \"None\", QnA Dataset: \"qna\" \n",
    "    # \"--domain\", \"Science\", # Name of the domain (if dataset is copyVSfactDomain), else None\n",
    "    # \"--downsampled-dataset\", # used fixed dataset or not\n",
    "    # \"--quantize\", # used quantized version of the model\n",
    "\n",
    "    ## Setup Configuration\n",
    "\n",
    "    \"--batch\", \"16\", # batch size\n",
    "    \"--device\", \"cuda\",\n",
    "\n",
    "    ## Plotting Configuration\n",
    "\n",
    "    # \"--only-plot\", # to only plot the results\n",
    "    # \"--no-plot\", # disables plotting after each experiment run\n",
    "\n",
    "    ## Experiments Configuration\n",
    "\n",
    "    # \"--logit-attribution\",\n",
    "    # \"--logit_lens\", # fails on MPS device with batch mismatch\n",
    "    # \"--ov-diff\",\n",
    "    # \"--ablate\",\n",
    "    # \"--pattern\",\n",
    "    \"--all\", # to run all the experiments\n",
    "\n",
    "]\n",
    "\n",
    "# Run \"run_all.py\"\n",
    "print(f\"Running command in: {script_dir.split(\"/\")[-1]}\")\n",
    "print(f\"Running command: {' '.join(command)}\")\n",
    "if not debug:\n",
    "    subprocess.run(command, cwd=script_dir)"
   ]
  },
  {
   "cell_type": "markdown",
   "metadata": {},
   "source": [
    "### Visualize Results"
   ]
  },
  {
   "cell_type": "code",
   "execution_count": null,
   "metadata": {},
   "outputs": [],
   "source": [
    "script_dir = os.path.abspath(os.path.join(\"..\"))\n",
    "\n",
    "command = [\n",
    "    \"streamlit\", \n",
    "    \"run\", f\"dashboard.py\",\n",
    "]\n",
    "\n",
    "print(f\"Running command in: {script_dir.split(\"/\")[-1]}\")\n",
    "print(f\"Running command: {' '.join(command)}\")\n",
    "subprocess.run(command, cwd=script_dir)"
   ]
  },
  {
   "cell_type": "markdown",
   "metadata": {},
   "source": [
    "### Save Plots for Specific Experiment and Dataset"
   ]
  },
  {
   "cell_type": "code",
   "execution_count": 61,
   "metadata": {},
   "outputs": [],
   "source": [
    "sys.path.append(os.path.abspath(os.path.join(\"..\")))\n",
    "sys.path.append(os.path.abspath(os.path.join(\"../src\")))\n",
    "from dataset import DOMAINS"
   ]
  },
  {
   "cell_type": "code",
   "execution_count": 70,
   "metadata": {},
   "outputs": [],
   "source": [
    "# Define constants for default values\n",
    "\n",
    "# domain name\n",
    "DOMAIN = None\n",
    "\n",
    "# downsampled dataset\n",
    "DOWNSAMPLED = False\n",
    "\n",
    "# models\n",
    "MODEL = \"gpt2\"\n",
    "# MODEL = \"pythia-6.9b\"\n",
    "# MODEL = \"Llama-3.2-1B\"\n",
    "# MODEL = \"Llama-3.1-8B\"\n",
    "\n",
    "# model folder\n",
    "MODEL_FOLDER = f\"{MODEL}_full\"\n",
    "\n",
    "# experiment name\n",
    "EXPERIMENT = \"copyVSfact\"\n",
    "# EXPERIMENT = \"copyVSfactQnA\"\n",
    "# EXPERIMENT = \"copyVSfactDomain\"\n",
    "\n",
    "# if EXPERIMENT == \"copyVSfactDomain\":\n",
    "#     MODEL_FOLDER += f\"_{DOMAIN}\"\n",
    "\n",
    "scripts = [\n",
    "    \"plot_logit_lens_fig_2.py\",\n",
    "    \"plot_logit_attribution_fig_3_4a.py\",\n",
    "    \"plot_head_pattern_fig_4b.py\",\n",
    "    # \"plot_ablation_fig_5.py\"\n",
    "]\n",
    "\n",
    "script_dir = os.path.abspath(os.path.join(\"..\", \"plotting_scripts\"))\n",
    "\n",
    "def save_plots(debug=True):\n",
    "    for script in scripts:\n",
    "        if EXPERIMENT == \"copyVSfactDomain\":\n",
    "            for domain in DOMAINS:\n",
    "                command = [\n",
    "                    \"python\",\n",
    "                    script,\n",
    "                    \"--model\", MODEL,\n",
    "                    \"--experiment\", EXPERIMENT,\n",
    "                    \"--model_folder\", f\"{MODEL_FOLDER}_{domain}\",\n",
    "                    \"--domain\", domain,\n",
    "                ]\n",
    "                if DOWNSAMPLED:\n",
    "                    command.append(\"--downsampled\")\n",
    "                print(f\"Running command: {' '.join(command)}\")\n",
    "                if not debug:\n",
    "                    subprocess.run(command, cwd=script_dir)\n",
    "                    print()\n",
    "        else:\n",
    "            command = [\n",
    "                \"python\",\n",
    "                script,\n",
    "                \"--model\", MODEL,\n",
    "                \"--experiment\", EXPERIMENT,\n",
    "                \"--model_folder\", MODEL_FOLDER,\n",
    "            ]\n",
    "            if DOWNSAMPLED:\n",
    "                command.append(\"--downsampled\")\n",
    "            print(f\"Running command: {' '.join(command)}\")\n",
    "            if not debug:\n",
    "                subprocess.run(command, cwd=script_dir)\n",
    "                print()"
   ]
  },
  {
   "cell_type": "code",
   "execution_count": null,
   "metadata": {},
   "outputs": [],
   "source": [
    "# test the command, turn it False to execute\n",
    "debug=True\n",
    "\n",
    "# execute the command\n",
    "save_plots(debug)"
   ]
  }
 ],
 "metadata": {
  "kernelspec": {
   "display_name": "fact",
   "language": "python",
   "name": "python3"
  },
  "language_info": {
   "codemirror_mode": {
    "name": "ipython",
    "version": 3
   },
   "file_extension": ".py",
   "mimetype": "text/x-python",
   "name": "python",
   "nbconvert_exporter": "python",
   "pygments_lexer": "ipython3",
   "version": "3.12.7"
  }
 },
 "nbformat": 4,
 "nbformat_minor": 2
}
