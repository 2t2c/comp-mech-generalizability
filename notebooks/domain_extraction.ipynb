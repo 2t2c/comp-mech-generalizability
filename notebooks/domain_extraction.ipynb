{
 "cells": [
  {
   "cell_type": "markdown",
   "metadata": {},
   "source": [
    "### Domain Classification"
   ]
  },
  {
   "cell_type": "code",
   "execution_count": 1,
   "metadata": {},
   "outputs": [
    {
     "name": "stderr",
     "output_type": "stream",
     "text": [
      "/opt/homebrew/anaconda3/envs/fact/lib/python3.12/site-packages/tqdm/auto.py:21: TqdmWarning: IProgress not found. Please update jupyter and ipywidgets. See https://ipywidgets.readthedocs.io/en/stable/user_install.html\n",
      "  from .autonotebook import tqdm as notebook_tqdm\n"
     ]
    }
   ],
   "source": [
    "import torch\n",
    "from torch import nn\n",
    "from transformers import AutoModel, AutoTokenizer, AutoConfig\n",
    "from huggingface_hub import PyTorchModelHubMixin\n",
    "import json\n",
    "import pandas as pd\n",
    "from tqdm import tqdm\n",
    "import numpy as np"
   ]
  },
  {
   "cell_type": "code",
   "execution_count": 2,
   "metadata": {},
   "outputs": [],
   "source": [
    "class CustomModel(nn.Module, PyTorchModelHubMixin):\n",
    "    def __init__(self, config):\n",
    "        super(CustomModel, self).__init__()\n",
    "        self.model = AutoModel.from_pretrained(config[\"base_model\"])\n",
    "        self.dropout = nn.Dropout(config[\"fc_dropout\"])\n",
    "        self.fc = nn.Linear(self.model.config.hidden_size, len(config[\"id2label\"]))\n",
    "\n",
    "    def forward(self, input_ids, attention_mask):\n",
    "        features = self.model(input_ids=input_ids, attention_mask=attention_mask).last_hidden_state\n",
    "        dropped = self.dropout(features)\n",
    "        outputs = self.fc(dropped)\n",
    "        return torch.softmax(outputs[:, 0, :], dim=1)"
   ]
  },
  {
   "cell_type": "code",
   "execution_count": 3,
   "metadata": {},
   "outputs": [
    {
     "data": {
      "text/plain": [
       "CustomModel(\n",
       "  (model): DebertaV2Model(\n",
       "    (embeddings): DebertaV2Embeddings(\n",
       "      (word_embeddings): Embedding(128100, 768, padding_idx=0)\n",
       "      (LayerNorm): LayerNorm((768,), eps=1e-07, elementwise_affine=True)\n",
       "      (dropout): StableDropout()\n",
       "    )\n",
       "    (encoder): DebertaV2Encoder(\n",
       "      (layer): ModuleList(\n",
       "        (0-11): 12 x DebertaV2Layer(\n",
       "          (attention): DebertaV2Attention(\n",
       "            (self): DisentangledSelfAttention(\n",
       "              (query_proj): Linear(in_features=768, out_features=768, bias=True)\n",
       "              (key_proj): Linear(in_features=768, out_features=768, bias=True)\n",
       "              (value_proj): Linear(in_features=768, out_features=768, bias=True)\n",
       "              (pos_dropout): StableDropout()\n",
       "              (dropout): StableDropout()\n",
       "            )\n",
       "            (output): DebertaV2SelfOutput(\n",
       "              (dense): Linear(in_features=768, out_features=768, bias=True)\n",
       "              (LayerNorm): LayerNorm((768,), eps=1e-07, elementwise_affine=True)\n",
       "              (dropout): StableDropout()\n",
       "            )\n",
       "          )\n",
       "          (intermediate): DebertaV2Intermediate(\n",
       "            (dense): Linear(in_features=768, out_features=3072, bias=True)\n",
       "            (intermediate_act_fn): GELUActivation()\n",
       "          )\n",
       "          (output): DebertaV2Output(\n",
       "            (dense): Linear(in_features=3072, out_features=768, bias=True)\n",
       "            (LayerNorm): LayerNorm((768,), eps=1e-07, elementwise_affine=True)\n",
       "            (dropout): StableDropout()\n",
       "          )\n",
       "        )\n",
       "      )\n",
       "      (rel_embeddings): Embedding(512, 768)\n",
       "      (LayerNorm): LayerNorm((768,), eps=1e-07, elementwise_affine=True)\n",
       "    )\n",
       "  )\n",
       "  (dropout): Dropout(p=0.2, inplace=False)\n",
       "  (fc): Linear(in_features=768, out_features=26, bias=True)\n",
       ")"
      ]
     },
     "execution_count": 3,
     "metadata": {},
     "output_type": "execute_result"
    }
   ],
   "source": [
    "# Setup configuration and model\n",
    "# device = \"mps\"\n",
    "config = AutoConfig.from_pretrained(\"nvidia/domain-classifier\")\n",
    "tokenizer = AutoTokenizer.from_pretrained(\"nvidia/domain-classifier\")\n",
    "model = CustomModel.from_pretrained(\"nvidia/domain-classifier\")\n",
    "# model.to(device)\n",
    "model.eval()"
   ]
  },
  {
   "cell_type": "markdown",
   "metadata": {},
   "source": [
    "##### Sample Run"
   ]
  },
  {
   "cell_type": "code",
   "execution_count": null,
   "metadata": {},
   "outputs": [],
   "source": [
    "# Prepare and process inputs\n",
    "text_samples = [\"Sports is a popular domain\", \"Politics is a popular domain\"]\n",
    "inputs = tokenizer(text_samples, return_tensors=\"pt\", \n",
    "                   padding=\"longest\", truncation=True)\n",
    "outputs = model(inputs[\"input_ids\"], inputs[\"attention_mask\"])"
   ]
  },
  {
   "cell_type": "code",
   "execution_count": 6,
   "metadata": {},
   "outputs": [
    {
     "name": "stdout",
     "output_type": "stream",
     "text": [
      "['Sports', 'News']\n"
     ]
    }
   ],
   "source": [
    "# Predict and display results\n",
    "predicted_classes = torch.argmax(outputs, dim=1)\n",
    "predicted_domains = [config.id2label[class_idx.item()] for class_idx in predicted_classes.cpu().numpy()]\n",
    "print(predicted_domains)"
   ]
  },
  {
   "cell_type": "markdown",
   "metadata": {},
   "source": [
    "##### Extracting domains"
   ]
  },
  {
   "cell_type": "code",
   "execution_count": 4,
   "metadata": {},
   "outputs": [],
   "source": [
    "with open(\"../data/full_data_sampled_gpt2_with_subjects.json\", \"r\") as f:\n",
    "    dataset = json.load(f)\n",
    "\n",
    "target_new = [row[\"target_new\"].strip() for row in dataset]"
   ]
  },
  {
   "cell_type": "code",
   "execution_count": 5,
   "metadata": {},
   "outputs": [],
   "source": [
    "def extract_domains(text_samples, batch_size):   \n",
    "    outputs = [] \n",
    "    # Batch processing\n",
    "    for i in tqdm(range(0, len(text_samples), batch_size)):\n",
    "        batch = text_samples[i:i + batch_size]\n",
    "        # Tokenize the batch\n",
    "        inputs = tokenizer(batch, return_tensors=\"pt\", \n",
    "                        padding=\"longest\", truncation=True)\n",
    "        # Process through the model\n",
    "        output = model(inputs[\"input_ids\"], attention_mask=inputs[\"attention_mask\"])\n",
    "        outputs.append(output)\n",
    "        # print(f\"Batch {i // batch_size + 1} outputs:\", outputs)\n",
    "\n",
    "    # Predict and display results\n",
    "    outputs = torch.cat(outputs, dim=0)\n",
    "    predicted_classes = torch.argmax(outputs, dim=1)\n",
    "    predicted_domains = [config.id2label[class_idx.item()] for class_idx in predicted_classes.cpu().numpy()]\n",
    "    # print(predicted_domains)\n",
    "\n",
    "    return predicted_domains"
   ]
  },
  {
   "cell_type": "code",
   "execution_count": 7,
   "metadata": {},
   "outputs": [
    {
     "name": "stderr",
     "output_type": "stream",
     "text": [
      "  1%|          | 46/5000 [00:18<51:01,  1.62it/s]  "
     ]
    },
    {
     "ename": "",
     "evalue": "",
     "output_type": "error",
     "traceback": [
      "\u001b[1;31mThe Kernel crashed while executing code in the current cell or a previous cell. \n",
      "\u001b[1;31mPlease review the code in the cell(s) to identify a possible cause of the failure. \n",
      "\u001b[1;31mClick <a href='https://aka.ms/vscodeJupyterKernelCrash'>here</a> for more info. \n",
      "\u001b[1;31mView Jupyter <a href='command:jupyter.viewOutput'>log</a> for further details."
     ]
    }
   ],
   "source": [
    "# extract base prompts\n",
    "text_samples = [row[\"base_prompt\"] for row in dataset]\n",
    "\n",
    "# define batch size\n",
    "batch_size = 2\n",
    "\n",
    "predicted_domains = extract_domains(text_samples, batch_size)"
   ]
  },
  {
   "cell_type": "code",
   "execution_count": 29,
   "metadata": {},
   "outputs": [
    {
     "name": "stdout",
     "output_type": "stream",
     "text": [
      "Toyota Camry XV30 is a product of - Autos_and_Vehicles\n",
      "Chrysler RFE transmission, produced by - Autos_and_Vehicles\n",
      "Seattle City Light is based in - Travel_and_Transportation\n",
      "Chevrolet Constantia is produced by - Autos_and_Vehicles\n",
      "Chrysler ecoVoyager, developed by - Autos_and_Vehicles\n",
      "Toyota Sprinter Carib is produced by - Autos_and_Vehicles\n",
      "Google Workspace, developed by - Computers_and_Electronics\n",
      "Renault 18, created by - Autos_and_Vehicles\n",
      "IBM 704, created by - Computers_and_Electronics\n",
      "Intel Arc is owned by - Computers_and_Electronics\n",
      "Airbus A318 is created by - Autos_and_Vehicles\n",
      "Fiat Brevetti, developed by - Autos_and_Vehicles\n",
      "The official language of South Africa is - Jobs_and_Education\n",
      "Game Boy Color is produced by - Games\n",
      "Renault Twingo, produced by - Autos_and_Vehicles\n",
      "Masashi Kishimoto, a citizen of - Arts_and_Entertainment\n",
      "Honda CB650SC is produced by - Autos_and_Vehicles\n",
      "Isaac Newton works in the area of - Science\n",
      "Metro Manila's capital, - Travel_and_Transportation\n",
      "Koji Murofushi has a citizenship from - Law_and_Government\n",
      "Honda Activa, produced by - Autos_and_Vehicles\n",
      "Akira Kurosawa has a citizenship from - Arts_and_Entertainment\n",
      "Honda Aviator, produced by - Autos_and_Vehicles\n",
      "Sega Saturn, created by - Computers_and_Electronics\n",
      "Fiat Panorama is produced by - Autos_and_Vehicles\n",
      "Porsche 956 is developed by - Autos_and_Vehicles\n",
      "Diane de France died in the city of - Sensitive_Subjects\n",
      "Microsoft Silverlight, developed by - Computers_and_Electronics\n",
      "Adobe InDesign, a product developed by - Computers_and_Electronics\n",
      "Boeing 737 is created by - Autos_and_Vehicles\n",
      "Airbus A340, produced by - Autos_and_Vehicles\n",
      "Honda Aviator is produced by - Autos_and_Vehicles\n"
     ]
    }
   ],
   "source": [
    "for txt, dom in zip(text_samples, predicted_domains):\n",
    "    print(txt, dom, sep=\" - \")"
   ]
  },
  {
   "cell_type": "code",
   "execution_count": null,
   "metadata": {},
   "outputs": [],
   "source": [
    "len(predicted_domains), len(dataset)"
   ]
  },
  {
   "cell_type": "code",
   "execution_count": null,
   "metadata": {},
   "outputs": [],
   "source": [
    "for idx, row in enumerate(dataset):\n",
    "    row[\"domain\"] = predicted_domains[idx]\n",
    "\n",
    "with open(\"../data/full_data_sampled_gpt2_with_domains.json\", \"w\") as f:\n",
    "    json.dump(dataset, f)"
   ]
  },
  {
   "cell_type": "code",
   "execution_count": null,
   "metadata": {},
   "outputs": [],
   "source": []
  },
  {
   "cell_type": "code",
   "execution_count": null,
   "metadata": {},
   "outputs": [],
   "source": []
  }
 ],
 "metadata": {
  "kernelspec": {
   "display_name": "fact",
   "language": "python",
   "name": "python3"
  },
  "language_info": {
   "codemirror_mode": {
    "name": "ipython",
    "version": 3
   },
   "file_extension": ".py",
   "mimetype": "text/x-python",
   "name": "python",
   "nbconvert_exporter": "python",
   "pygments_lexer": "ipython3",
   "version": "3.12.7"
  }
 },
 "nbformat": 4,
 "nbformat_minor": 2
}
