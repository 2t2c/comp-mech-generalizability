{
 "cells": [
  {
   "cell_type": "markdown",
   "metadata": {},
   "source": [
    "### Domain Classification"
   ]
  },
  {
   "cell_type": "code",
   "execution_count": 1,
   "metadata": {},
   "outputs": [
    {
     "name": "stderr",
     "output_type": "stream",
     "text": [
      "/opt/homebrew/anaconda3/envs/fact/lib/python3.12/site-packages/tqdm/auto.py:21: TqdmWarning: IProgress not found. Please update jupyter and ipywidgets. See https://ipywidgets.readthedocs.io/en/stable/user_install.html\n",
      "  from .autonotebook import tqdm as notebook_tqdm\n"
     ]
    }
   ],
   "source": [
    "import torch\n",
    "from torch import nn\n",
    "from transformers import AutoModel, AutoTokenizer, AutoConfig\n",
    "from huggingface_hub import PyTorchModelHubMixin\n",
    "import json\n",
    "import pandas as pd\n",
    "from tqdm import tqdm\n",
    "import numpy as np"
   ]
  },
  {
   "cell_type": "code",
   "execution_count": 2,
   "metadata": {},
   "outputs": [],
   "source": [
    "class CustomModel(nn.Module, PyTorchModelHubMixin):\n",
    "    def __init__(self, config):\n",
    "        super(CustomModel, self).__init__()\n",
    "        self.model = AutoModel.from_pretrained(config[\"base_model\"])\n",
    "        self.dropout = nn.Dropout(config[\"fc_dropout\"])\n",
    "        self.fc = nn.Linear(self.model.config.hidden_size, len(config[\"id2label\"]))\n",
    "\n",
    "    def forward(self, input_ids, attention_mask):\n",
    "        features = self.model(input_ids=input_ids, attention_mask=attention_mask).last_hidden_state\n",
    "        dropped = self.dropout(features)\n",
    "        outputs = self.fc(dropped)\n",
    "        return torch.softmax(outputs[:, 0, :], dim=1)"
   ]
  },
  {
   "cell_type": "code",
   "execution_count": 3,
   "metadata": {},
   "outputs": [
    {
     "data": {
      "text/plain": [
       "CustomModel(\n",
       "  (model): DebertaV2Model(\n",
       "    (embeddings): DebertaV2Embeddings(\n",
       "      (word_embeddings): Embedding(128100, 768, padding_idx=0)\n",
       "      (LayerNorm): LayerNorm((768,), eps=1e-07, elementwise_affine=True)\n",
       "      (dropout): StableDropout()\n",
       "    )\n",
       "    (encoder): DebertaV2Encoder(\n",
       "      (layer): ModuleList(\n",
       "        (0-11): 12 x DebertaV2Layer(\n",
       "          (attention): DebertaV2Attention(\n",
       "            (self): DisentangledSelfAttention(\n",
       "              (query_proj): Linear(in_features=768, out_features=768, bias=True)\n",
       "              (key_proj): Linear(in_features=768, out_features=768, bias=True)\n",
       "              (value_proj): Linear(in_features=768, out_features=768, bias=True)\n",
       "              (pos_dropout): StableDropout()\n",
       "              (dropout): StableDropout()\n",
       "            )\n",
       "            (output): DebertaV2SelfOutput(\n",
       "              (dense): Linear(in_features=768, out_features=768, bias=True)\n",
       "              (LayerNorm): LayerNorm((768,), eps=1e-07, elementwise_affine=True)\n",
       "              (dropout): StableDropout()\n",
       "            )\n",
       "          )\n",
       "          (intermediate): DebertaV2Intermediate(\n",
       "            (dense): Linear(in_features=768, out_features=3072, bias=True)\n",
       "            (intermediate_act_fn): GELUActivation()\n",
       "          )\n",
       "          (output): DebertaV2Output(\n",
       "            (dense): Linear(in_features=3072, out_features=768, bias=True)\n",
       "            (LayerNorm): LayerNorm((768,), eps=1e-07, elementwise_affine=True)\n",
       "            (dropout): StableDropout()\n",
       "          )\n",
       "        )\n",
       "      )\n",
       "      (rel_embeddings): Embedding(512, 768)\n",
       "      (LayerNorm): LayerNorm((768,), eps=1e-07, elementwise_affine=True)\n",
       "    )\n",
       "  )\n",
       "  (dropout): Dropout(p=0.2, inplace=False)\n",
       "  (fc): Linear(in_features=768, out_features=26, bias=True)\n",
       ")"
      ]
     },
     "execution_count": 3,
     "metadata": {},
     "output_type": "execute_result"
    }
   ],
   "source": [
    "# Setup configuration and model\n",
    "# device = \"mps\"\n",
    "config = AutoConfig.from_pretrained(\"nvidia/domain-classifier\")\n",
    "tokenizer = AutoTokenizer.from_pretrained(\"nvidia/domain-classifier\")\n",
    "model = CustomModel.from_pretrained(\"nvidia/domain-classifier\")\n",
    "# model.to(device)\n",
    "model.eval()"
   ]
  },
  {
   "cell_type": "markdown",
   "metadata": {},
   "source": [
    "##### Sample Run"
   ]
  },
  {
   "cell_type": "code",
   "execution_count": null,
   "metadata": {},
   "outputs": [],
   "source": [
    "# Prepare and process inputs\n",
    "text_samples = [\"Sports is a popular domain\", \"Politics is a popular domain\"]\n",
    "inputs = tokenizer(text_samples, return_tensors=\"pt\", \n",
    "                   padding=\"longest\", truncation=True)\n",
    "outputs = model(inputs[\"input_ids\"], inputs[\"attention_mask\"])"
   ]
  },
  {
   "cell_type": "code",
   "execution_count": 6,
   "metadata": {},
   "outputs": [
    {
     "name": "stdout",
     "output_type": "stream",
     "text": [
      "['Sports', 'News']\n"
     ]
    }
   ],
   "source": [
    "# Predict and display results\n",
    "predicted_classes = torch.argmax(outputs, dim=1)\n",
    "predicted_domains = [config.id2label[class_idx.item()] for class_idx in predicted_classes.cpu().numpy()]\n",
    "print(predicted_domains)"
   ]
  },
  {
   "cell_type": "markdown",
   "metadata": {},
   "source": [
    "##### Extracting domains"
   ]
  },
  {
   "cell_type": "code",
   "execution_count": 4,
   "metadata": {},
   "outputs": [],
   "source": [
    "with open(\"../data/full_data_sampled_gpt2_with_subjects.json\", \"r\") as f:\n",
    "    dataset = json.load(f)\n",
    "\n",
    "target_new = [row[\"target_new\"].strip() for row in dataset]"
   ]
  },
  {
   "cell_type": "code",
   "execution_count": 5,
   "metadata": {},
   "outputs": [],
   "source": [
    "def extract_domains(text_samples, batch_size):   \n",
    "    outputs = [] \n",
    "    # Batch processing\n",
    "    for i in tqdm(range(0, len(text_samples), batch_size)):\n",
    "        batch = text_samples[i:i + batch_size]\n",
    "        # Tokenize the batch\n",
    "        inputs = tokenizer(batch, return_tensors=\"pt\", \n",
    "                        padding=\"longest\", truncation=True)\n",
    "        # Process through the model\n",
    "        output = model(inputs[\"input_ids\"], attention_mask=inputs[\"attention_mask\"])\n",
    "        outputs.append(output)\n",
    "        # print(f\"Batch {i // batch_size + 1} outputs:\", outputs)\n",
    "\n",
    "    # Predict and display results\n",
    "    outputs = torch.cat(outputs, dim=0)\n",
    "    predicted_classes = torch.argmax(outputs, dim=1)\n",
    "    predicted_domains = [config.id2label[class_idx.item()] for class_idx in predicted_classes.cpu().numpy()]\n",
    "    # print(predicted_domains)\n",
    "\n",
    "    return predicted_domains"
   ]
  },
  {
   "cell_type": "code",
   "execution_count": 7,
   "metadata": {},
   "outputs": [
    {
     "name": "stderr",
     "output_type": "stream",
     "text": [
      "  1%|          | 46/5000 [00:18<51:01,  1.62it/s]  "
     ]
    },
    {
     "ename": "",
     "evalue": "",
     "output_type": "error",
     "traceback": [
      "\u001b[1;31mThe Kernel crashed while executing code in the current cell or a previous cell. \n",
      "\u001b[1;31mPlease review the code in the cell(s) to identify a possible cause of the failure. \n",
      "\u001b[1;31mClick <a href='https://aka.ms/vscodeJupyterKernelCrash'>here</a> for more info. \n",
      "\u001b[1;31mView Jupyter <a href='command:jupyter.viewOutput'>log</a> for further details."
     ]
    }
   ],
   "source": [
    "# extract base prompts\n",
    "text_samples = [row[\"base_prompt\"] for row in dataset]\n",
    "\n",
    "# define batch size\n",
    "batch_size = 2\n",
    "\n",
    "predicted_domains = extract_domains(text_samples, batch_size)"
   ]
  },
  {
   "cell_type": "code",
   "execution_count": 29,
   "metadata": {},
   "outputs": [
    {
     "name": "stdout",
     "output_type": "stream",
     "text": [
      "Toyota Camry XV30 is a product of - Autos_and_Vehicles\n",
      "Chrysler RFE transmission, produced by - Autos_and_Vehicles\n",
      "Seattle City Light is based in - Travel_and_Transportation\n",
      "Chevrolet Constantia is produced by - Autos_and_Vehicles\n",
      "Chrysler ecoVoyager, developed by - Autos_and_Vehicles\n",
      "Toyota Sprinter Carib is produced by - Autos_and_Vehicles\n",
      "Google Workspace, developed by - Computers_and_Electronics\n",
      "Renault 18, created by - Autos_and_Vehicles\n",
      "IBM 704, created by - Computers_and_Electronics\n",
      "Intel Arc is owned by - Computers_and_Electronics\n",
      "Airbus A318 is created by - Autos_and_Vehicles\n",
      "Fiat Brevetti, developed by - Autos_and_Vehicles\n",
      "The official language of South Africa is - Jobs_and_Education\n",
      "Game Boy Color is produced by - Games\n",
      "Renault Twingo, produced by - Autos_and_Vehicles\n",
      "Masashi Kishimoto, a citizen of - Arts_and_Entertainment\n",
      "Honda CB650SC is produced by - Autos_and_Vehicles\n",
      "Isaac Newton works in the area of - Science\n",
      "Metro Manila's capital, - Travel_and_Transportation\n",
      "Koji Murofushi has a citizenship from - Law_and_Government\n",
      "Honda Activa, produced by - Autos_and_Vehicles\n",
      "Akira Kurosawa has a citizenship from - Arts_and_Entertainment\n",
      "Honda Aviator, produced by - Autos_and_Vehicles\n",
      "Sega Saturn, created by - Computers_and_Electronics\n",
      "Fiat Panorama is produced by - Autos_and_Vehicles\n",
      "Porsche 956 is developed by - Autos_and_Vehicles\n",
      "Diane de France died in the city of - Sensitive_Subjects\n",
      "Microsoft Silverlight, developed by - Computers_and_Electronics\n",
      "Adobe InDesign, a product developed by - Computers_and_Electronics\n",
      "Boeing 737 is created by - Autos_and_Vehicles\n",
      "Airbus A340, produced by - Autos_and_Vehicles\n",
      "Honda Aviator is produced by - Autos_and_Vehicles\n"
     ]
    }
   ],
   "source": [
    "for txt, dom in zip(text_samples, predicted_domains):\n",
    "    print(txt, dom, sep=\" - \")"
   ]
  },
  {
   "cell_type": "code",
   "execution_count": null,
   "metadata": {},
   "outputs": [],
   "source": [
    "len(predicted_domains), len(dataset)"
   ]
  },
  {
   "cell_type": "code",
   "execution_count": null,
   "metadata": {},
   "outputs": [],
   "source": [
    "# for idx, row in enumerate(dataset):\n",
    "#     row[\"domain\"] = predicted_domains[idx]\n",
    "\n",
    "# with open(\"../data/full_data_sampled_gpt2_with_domains.json\", \"w\") as f:\n",
    "#     json.dump(dataset, f)"
   ]
  },
  {
   "cell_type": "markdown",
   "metadata": {},
   "source": [
    "### Basic Inference"
   ]
  },
  {
   "cell_type": "code",
   "execution_count": 1,
   "metadata": {},
   "outputs": [
    {
     "name": "stderr",
     "output_type": "stream",
     "text": [
      "/opt/homebrew/anaconda3/envs/fact/lib/python3.12/site-packages/tqdm/auto.py:21: TqdmWarning: IProgress not found. Please update jupyter and ipywidgets. See https://ipywidgets.readthedocs.io/en/stable/user_install.html\n",
      "  from .autonotebook import tqdm as notebook_tqdm\n"
     ]
    }
   ],
   "source": [
    "import torch\n",
    "import transformer_lens\n",
    "from transformers import AutoTokenizer, AutoModelForCausalLM\n",
    "from pprint import pprint\n",
    "import json\n",
    "import numpy as np\n",
    "import pandas as pd\n",
    "from tqdm import tqdm\n",
    "from sklearn.metrics import accuracy_score, classification_report\n",
    "from concurrent.futures import ThreadPoolExecutor, ProcessPoolExecutor\n",
    "from IPython.display import HTML, display\n",
    "from collections import defaultdict"
   ]
  },
  {
   "cell_type": "code",
   "execution_count": 2,
   "metadata": {},
   "outputs": [],
   "source": [
    "import sys\n",
    "import os\n",
    "sys.path.append('..')\n",
    "sys.path.append('../src')\n",
    "sys.path.append('../data')\n",
    "\n",
    "from model import WrapHookedTransformer"
   ]
  },
  {
   "cell_type": "code",
   "execution_count": 6,
   "metadata": {},
   "outputs": [],
   "source": [
    "# gpt2 inference\n",
    "tokenizer = AutoTokenizer.from_pretrained(\"gpt2\")\n",
    "model = AutoModelForCausalLM.from_pretrained(\"gpt2\", pad_token_id=tokenizer.eos_token_id)\n",
    "# tokenizer.pad_token_id = tokenizer.eos_token_id"
   ]
  },
  {
   "cell_type": "code",
   "execution_count": 7,
   "metadata": {},
   "outputs": [],
   "source": [
    "def inference(prompt, model, tokenizer):\n",
    "    inputs = tokenizer(prompt, return_tensors=\"pt\")\n",
    "    model_outputs = model.generate(**inputs, \n",
    "                                   max_new_tokens=1, \n",
    "                                   return_dict_in_generate=True, output_scores=True, \n",
    "                                   pad_token_id=tokenizer.eos_token_id)\n",
    "    generated_tokens_ids = model_outputs.sequences[0]\n",
    "    generation = tokenizer.decode(generated_tokens_ids)\n",
    "    attribute = tokenizer.decode(generated_tokens_ids[-1])\n",
    "\n",
    "    return generation, attribute"
   ]
  },
  {
   "cell_type": "code",
   "execution_count": 3,
   "metadata": {},
   "outputs": [],
   "source": [
    "with open(\"../data/full_data_sampled_gpt2_with_subjects.json\", \"r\") as f:\n",
    "    dataset = json.load(f)\n",
    "target_new = [row[\"target_new\"].strip() for row in dataset]\n",
    "\n",
    "with open(\"../data/full_data_sampled_gpt2_with_questions.json\", \"r\") as f:\n",
    "    qa_dataset = json.load(f)\n",
    "qa_target_new = [row[\"target_new\"].strip() for row in qa_dataset]\n",
    "\n",
    "with open(\"../data/cft_data_sampled_10k_gpt2_with_questions.json\", \"r\") as f:\n",
    "    qa_cft_dataset = json.load(f)\n",
    "qa_cft_target_new = [row[\"target_new\"].strip() for row in qa_dataset]\n",
    "\n",
    "with open(\"../data/full_data_sampled_gpt2_with_domains.json\", \"r\") as f:\n",
    "    domain_dataset = json.load(f)\n",
    "domain_dataset_target_new = [row[\"target_new\"].strip() for row in domain_dataset]"
   ]
  },
  {
   "cell_type": "code",
   "execution_count": 39,
   "metadata": {},
   "outputs": [],
   "source": [
    "process_domain = lambda x : \" \".join(x.split(\"_\"))\n",
    "for row in domain_dataset:\n",
    "    row[\"prompt\"] = f\"{process_domain(row['domain'])}: {row['base_prompt']}{row['target_new']}. \" + f\"{row['base_prompt']}\""
   ]
  },
  {
   "cell_type": "code",
   "execution_count": 40,
   "metadata": {},
   "outputs": [
    {
     "name": "stdout",
     "output_type": "stream",
     "text": [
      "{'base_prompt': 'Toyota Camry XV30 is a product of',\n",
      " 'domain': 'Autos_and_Vehicles',\n",
      " 'prompt': 'Autos and Vehicles: Toyota Camry XV30 is a product of Chrysler. '\n",
      "           'Toyota Camry XV30 is a product of',\n",
      " 'subject': 'Toyota Camry XV30',\n",
      " 'target_new': ' Chrysler',\n",
      " 'target_true': ' Toyota',\n",
      " 'template': '{}: Toyota Camry XV30 is a product of{}. Toyota Camry XV30 is a '\n",
      "             'product of'}\n"
     ]
    }
   ],
   "source": [
    "pprint(domain_dataset[0])"
   ]
  },
  {
   "cell_type": "code",
   "execution_count": 41,
   "metadata": {},
   "outputs": [
    {
     "name": "stderr",
     "output_type": "stream",
     "text": [
      "100%|██████████| 100/100 [00:02<00:00, 38.57it/s]\n"
     ]
    },
    {
     "data": {
      "text/plain": [
       "(array(['Adobe', 'Apple', 'Argentina', 'BMW', 'Bahrain', 'Bangalore',\n",
       "        'Belgium', 'Boeing', 'Cadillac', 'Cairo', 'Canada', 'Chevrolet',\n",
       "        'Chrysler', 'Dodge', 'Ecuador', 'English', 'Estonia', 'Ferrari',\n",
       "        'Fiat', 'Florence', 'France', 'Georgetown', 'Google', 'Greece',\n",
       "        'Honda', 'IBM', 'India', 'Intel', 'Italy', 'Lifetime', 'Mexico',\n",
       "        'Microsoft', 'Nintendo', 'Nissan', 'Nokia', 'Norway',\n",
       "        'Philadelphia', 'Philippines', 'Poland', 'Porsche', 'Renault',\n",
       "        'Seoul', 'Shanghai', 'Sony', 'Suzuki', 'TNT', 'Tamil', 'Toyota',\n",
       "        'Volvo', 'Yahoo', 'Yamaha', 'astronomy', 'musical', 'piano'],\n",
       "       dtype='<U12'),\n",
       " array([1, 3, 1, 3, 1, 1, 1, 3, 1, 1, 1, 1, 4, 1, 1, 1, 1, 2, 3, 1, 1, 1,\n",
       "        1, 1, 4, 3, 1, 1, 1, 1, 1, 6, 2, 6, 1, 1, 1, 1, 1, 5, 4, 1, 1, 2,\n",
       "        5, 1, 1, 6, 1, 1, 2, 1, 1, 1]))"
      ]
     },
     "execution_count": 41,
     "metadata": {},
     "output_type": "execute_result"
    }
   ],
   "source": [
    "# sequential inference\n",
    "gts, preds = [], []\n",
    "for idx, row in enumerate(tqdm(domain_dataset[:100])):\n",
    "    gts.append(row[\"target_true\"].strip())\n",
    "    _, attribute = inference(row[\"prompt\"], model, tokenizer)\n",
    "    preds.append(attribute.strip())\n",
    "    # print(attribute.strip())\n",
    "\n",
    "np.unique(preds, return_counts=True)"
   ]
  },
  {
   "cell_type": "code",
   "execution_count": 42,
   "metadata": {},
   "outputs": [
    {
     "name": "stdout",
     "output_type": "stream",
     "text": [
      "Indices where elements are equal: 8\n",
      "t-cofac accuracy: 92.0\n",
      "t-fact accuracy: 8.0\n"
     ]
    }
   ],
   "source": [
    "gts = np.array(gts)\n",
    "preds = np.array(preds)\n",
    "indices = np.where(gts == preds)\n",
    "print(\"Indices where elements are equal:\", len(indices[0]))\n",
    "print(\"t-cofac accuracy:\", (1-accuracy_score(gts, preds))*100)\n",
    "print(\"t-fact accuracy:\", round((accuracy_score(gts, preds))*100, 2))"
   ]
  },
  {
   "cell_type": "code",
   "execution_count": 44,
   "metadata": {},
   "outputs": [],
   "source": [
    "def parallel_inference(dataset, prompt_key=\"prompt\", subset=None):\n",
    "    # parallel execution using threading\n",
    "    ground_truths, predictions = [], []\n",
    "\n",
    "    def process_row(row):\n",
    "        ground_truth = row[\"target_true\"].strip()\n",
    "        _, attribute = inference(row[prompt_key], model, tokenizer)\n",
    "        \n",
    "        return ground_truth, attribute.strip()\n",
    "\n",
    "    # Use ThreadPoolExecutor for I/O-bound tasks (or ProcessPoolExecutor for CPU-bound tasks)\n",
    "    with ThreadPoolExecutor() as executor:\n",
    "        if subset:\n",
    "            results = list(tqdm(executor.map(process_row, dataset[:subset]), total=len(dataset[:subset])))\n",
    "        else:    \n",
    "            results = list(tqdm(executor.map(process_row, dataset), total=len(dataset)))\n",
    "\n",
    "    ground_truths, predictions = zip(*results)\n",
    "\n",
    "    return ground_truths, predictions"
   ]
  },
  {
   "cell_type": "code",
   "execution_count": 45,
   "metadata": {},
   "outputs": [
    {
     "name": "stderr",
     "output_type": "stream",
     "text": [
      "100%|██████████| 10000/10000 [02:34<00:00, 64.64it/s]\n"
     ]
    }
   ],
   "source": [
    "d_ground_truths, d_predictions = parallel_inference(domain_dataset, subset=None)\n",
    "# qa_ground_truths, qa_predictions = parallel_inference(qa_dataset, subset=None)\n",
    "# qa_cft_ground_truths, qa_cft_predictions = parallel_inference(qa_cft_dataset, subset=None)"
   ]
  },
  {
   "cell_type": "code",
   "execution_count": 46,
   "metadata": {},
   "outputs": [],
   "source": [
    "def check_qa_stats(dataset, ground_truths, predictions):    \n",
    "    target_new = np.array([row[\"target_new\"].strip() for row in dataset])\n",
    "    target_true = np.array([row[\"target_true\"].strip() for row in dataset])\n",
    "\n",
    "    ground_truths = np.array(ground_truths)\n",
    "    predictions = np.array(predictions)\n",
    "\n",
    "    fact_indices = np.where(predictions == target_true)[0]\n",
    "    cofact_indices = np.where(predictions == target_new)[0]\n",
    "    indices = np.concatenate([fact_indices, cofact_indices])\n",
    "\n",
    "    print(\"Total indices which are factual:\", len(fact_indices))\n",
    "    print(\"Total indices which are counterfactual:\", len(cofact_indices))\n",
    "    print(\"Total indices where elements are either cofac or fact:\", len(indices))\n",
    "\n",
    "    df = pd.DataFrame({\"ground_truths\": target_true, \"predictions\": predictions})\n",
    "    random_tokens = list(set(predictions.tolist()) - set(list(target_true.tolist())+target_new.tolist()))\n",
    "    print(\"Total Random Tokens:\", len(random_tokens))\n",
    "\n",
    "    df_filtered = df[df[\"predictions\"].isin(random_tokens)]\n",
    "    print(df_filtered[\"predictions\"].value_counts().head(5))\n",
    "\n",
    "    invalid_indices = list(df_filtered.index)\n",
    "    print(\"Total invalid Indices:\", len(invalid_indices))\n",
    "\n",
    "    return fact_indices, cofact_indices, indices, invalid_indices"
   ]
  },
  {
   "cell_type": "code",
   "execution_count": 47,
   "metadata": {},
   "outputs": [
    {
     "name": "stdout",
     "output_type": "stream",
     "text": [
      "Total indices which are factual: 836\n",
      "Total indices which are counterfactual: 9006\n",
      "Total indices where elements are either cofac or fact: 9842\n",
      "Total Random Tokens: 13\n",
      "predictions\n",
      "the       38\n",
      "ABC        4\n",
      "Disney     3\n",
      "New        3\n",
      "China      2\n",
      "Name: count, dtype: int64\n",
      "Total invalid Indices: 60\n"
     ]
    }
   ],
   "source": [
    "fact_indices, cofact_indices, qa_indices, invalid_indices = check_qa_stats(qa_dataset, \n",
    "                                                            d_ground_truths, \n",
    "                                                            d_predictions)"
   ]
  },
  {
   "cell_type": "markdown",
   "metadata": {},
   "source": [
    "### Domain Study"
   ]
  },
  {
   "cell_type": "code",
   "execution_count": 41,
   "metadata": {},
   "outputs": [],
   "source": [
    "import torch\n",
    "import transformer_lens\n",
    "from transformers import AutoTokenizer, AutoModelForCausalLM\n",
    "from pprint import pprint\n",
    "import json\n",
    "import numpy as np\n",
    "import pandas as pd\n",
    "from tqdm import tqdm\n",
    "from sklearn.metrics import accuracy_score, classification_report\n",
    "from concurrent.futures import ThreadPoolExecutor, ProcessPoolExecutor\n",
    "from IPython.display import HTML, display\n",
    "from collections import defaultdict\n",
    "import circuitsvis as cv "
   ]
  },
  {
   "cell_type": "code",
   "execution_count": 111,
   "metadata": {},
   "outputs": [
    {
     "data": {
      "text/plain": [
       "domain\n",
       "Autos_and_Vehicles           3755\n",
       "Computers_and_Electronics    2406\n",
       "Arts_and_Entertainment        669\n",
       "Law_and_Government            544\n",
       "Jobs_and_Education            484\n",
       "Business_and_Industrial       473\n",
       "People_and_Society            345\n",
       "Games                         267\n",
       "Internet_and_Telecom          235\n",
       "News                          234\n",
       "Sports                        193\n",
       "Travel_and_Transportation      99\n",
       "Sensitive_Subjects             86\n",
       "Science                        46\n",
       "Online_Communities             42\n",
       "Finance                        36\n",
       "Health                         33\n",
       "Books_and_Literature           27\n",
       "Food_and_Drink                 12\n",
       "Real_Estate                     6\n",
       "Shopping                        4\n",
       "Hobbies_and_Leisure             3\n",
       "Home_and_Garden                 1\n",
       "Name: count, dtype: int64"
      ]
     },
     "execution_count": 111,
     "metadata": {},
     "output_type": "execute_result"
    }
   ],
   "source": [
    "domains = [row[\"domain\"] for row in domain_dataset]\n",
    "domains_df = pd.DataFrame({\"domain\": domains})\n",
    "domains_df[\"domain\"].value_counts()"
   ]
  },
  {
   "cell_type": "code",
   "execution_count": 75,
   "metadata": {},
   "outputs": [
    {
     "name": "stdout",
     "output_type": "stream",
     "text": [
      "[{'base_prompt': 'Seattle City Light is based in',\n",
      "  'domain': 'Travel_and_Transportation',\n",
      "  'prompt': 'Redefine: Seattle City Light is based in Philadelphia. Seattle '\n",
      "            'City Light is based in',\n",
      "  'subject': 'Seattle City Light',\n",
      "  'target_new': ' Philadelphia',\n",
      "  'target_true': ' Seattle',\n",
      "  'template': '{}: Seattle City Light is based in{}. Seattle City Light is '\n",
      "              'based in'},\n",
      " {'base_prompt': \"Metro Manila's capital,\",\n",
      "  'domain': 'Travel_and_Transportation',\n",
      "  'prompt': \"Redefine: Metro Manila's capital, Cairo. Metro Manila's capital,\",\n",
      "  'subject': 'Metro Manila',\n",
      "  'target_new': ' Cairo',\n",
      "  'target_true': ' Manila',\n",
      "  'template': \"{}: Metro Manila's capital,{}. Metro Manila's capital,\"},\n",
      " {'base_prompt': 'Nilgiris district is located in the country of',\n",
      "  'domain': 'Travel_and_Transportation',\n",
      "  'prompt': 'Redefine: Nilgiris district is located in the country of '\n",
      "            'Australia. Nilgiris district is located in the country of',\n",
      "  'subject': 'Nilgiris district',\n",
      "  'target_new': ' Australia',\n",
      "  'target_true': ' India',\n",
      "  'template': '{}: Nilgiris district is located in the country of{}. Nilgiris '\n",
      "              'district is located in the country of'}]\n"
     ]
    }
   ],
   "source": [
    "domain_name = \"Travel_and_Transportation\"\n",
    "domain_subset = [row for row in domain_dataset if row[\"domain\"] == domain_name]\n",
    "pprint(domain_subset[0:3])"
   ]
  },
  {
   "cell_type": "code",
   "execution_count": 37,
   "metadata": {},
   "outputs": [
    {
     "data": {
      "text/plain": [
       "{'base_prompt': 'Toyota Camry XV30 is a product of',\n",
       " 'template': '{}: Toyota Camry XV30 is a product of{}. Toyota Camry XV30 is a product of',\n",
       " 'target_true': ' Toyota',\n",
       " 'target_new': ' Chrysler',\n",
       " 'prompt': 'Redefine: Toyota Camry XV30 is a product of Chrysler. Toyota Camry XV30 is a product of',\n",
       " 'subject': 'Toyota Camry XV30',\n",
       " 'domain': 'Autos_and_Vehicles'}"
      ]
     },
     "execution_count": 37,
     "metadata": {},
     "output_type": "execute_result"
    }
   ],
   "source": [
    "domain_subset[0]"
   ]
  },
  {
   "cell_type": "code",
   "execution_count": 39,
   "metadata": {},
   "outputs": [
    {
     "name": "stdout",
     "output_type": "stream",
     "text": [
      "Loaded pretrained model gpt2-small into HookedTransformer\n"
     ]
    }
   ],
   "source": [
    "# load model\n",
    "# Load a model (eg GPT-2 Small)\n",
    "model = transformer_lens.HookedTransformer.from_pretrained(\"gpt2-small\")"
   ]
  },
  {
   "cell_type": "code",
   "execution_count": 83,
   "metadata": {},
   "outputs": [],
   "source": [
    "prompt = domain_subset[3]\n",
    "prompts = [row[\"prompt\"] for row in domain_subset]\n",
    "\n",
    "# Run the model and get logits and activations\n",
    "logits, activation_cache = model.run_with_cache(prompts)"
   ]
  },
  {
   "cell_type": "code",
   "execution_count": null,
   "metadata": {},
   "outputs": [],
   "source": [
    "activation_cache.get_full_resid_decomposition()"
   ]
  },
  {
   "cell_type": "code",
   "execution_count": 92,
   "metadata": {},
   "outputs": [
    {
     "name": "stdout",
     "output_type": "stream",
     "text": [
      "<class 'transformer_lens.ActivationCache.ActivationCache'>\n",
      "torch.Size([12, 37, 37])\n",
      "Layer 10 Head Attention Heads:\n"
     ]
    },
    {
     "data": {
      "text/html": [
       "<div id=\"circuits-vis-906cfa66-0880\" style=\"margin: 15px 0;\"/>\n",
       "    <script crossorigin type=\"module\">\n",
       "    import { render, AttentionHeads } from \"https://unpkg.com/circuitsvis@1.43.3/dist/cdn/esm.js\";\n",
       "    render(\n",
       "      \"circuits-vis-906cfa66-0880\",\n",
       "      AttentionHeads,\n",
       "      {\"attention\": [[[1.0, 0.0, 0.0, 0.0, 0.0, 0.0, 0.0, 0.0, 0.0, 0.0, 0.0, 0.0, 0.0, 0.0, 0.0, 0.0, 0.0, 0.0, 0.0, 0.0, 0.0, 0.0, 0.0, 0.0, 0.0, 0.0, 0.0, 0.0, 0.0, 0.0, 0.0, 0.0, 0.0, 0.0, 0.0, 0.0, 0.0], [0.9899104237556458, 0.010089513845741749, 0.0, 0.0, 0.0, 0.0, 0.0, 0.0, 0.0, 0.0, 0.0, 0.0, 0.0, 0.0, 0.0, 0.0, 0.0, 0.0, 0.0, 0.0, 0.0, 0.0, 0.0, 0.0, 0.0, 0.0, 0.0, 0.0, 0.0, 0.0, 0.0, 0.0, 0.0, 0.0, 0.0, 0.0, 0.0], [0.9960934519767761, 0.0029738096054643393, 0.0009326885337941349, 0.0, 0.0, 0.0, 0.0, 0.0, 0.0, 0.0, 0.0, 0.0, 0.0, 0.0, 0.0, 0.0, 0.0, 0.0, 0.0, 0.0, 0.0, 0.0, 0.0, 0.0, 0.0, 0.0, 0.0, 0.0, 0.0, 0.0, 0.0, 0.0, 0.0, 0.0, 0.0, 0.0, 0.0], [0.9332383275032043, 0.030360665172338486, 0.0083338413387537, 0.028067218139767647, 0.0, 0.0, 0.0, 0.0, 0.0, 0.0, 0.0, 0.0, 0.0, 0.0, 0.0, 0.0, 0.0, 0.0, 0.0, 0.0, 0.0, 0.0, 0.0, 0.0, 0.0, 0.0, 0.0, 0.0, 0.0, 0.0, 0.0, 0.0, 0.0, 0.0, 0.0, 0.0, 0.0], [0.9101630449295044, 0.028479577973484993, 0.006295755039900541, 0.03566030412912369, 0.01940133608877659, 0.0, 0.0, 0.0, 0.0, 0.0, 0.0, 0.0, 0.0, 0.0, 0.0, 0.0, 0.0, 0.0, 0.0, 0.0, 0.0, 0.0, 0.0, 0.0, 0.0, 0.0, 0.0, 0.0, 0.0, 0.0, 0.0, 0.0, 0.0, 0.0, 0.0, 0.0, 0.0], [0.7649130821228027, 0.021037090569734573, 0.0015167994424700737, 0.003100551897659898, 0.009370632469654083, 0.20006191730499268, 0.0, 0.0, 0.0, 0.0, 0.0, 0.0, 0.0, 0.0, 0.0, 0.0, 0.0, 0.0, 0.0, 0.0, 0.0, 0.0, 0.0, 0.0, 0.0, 0.0, 0.0, 0.0, 0.0, 0.0, 0.0, 0.0, 0.0, 0.0, 0.0, 0.0, 0.0], [0.7638928294181824, 0.00921791885048151, 0.0022030072286725044, 0.002380663063377142, 0.01792067475616932, 0.1547040343284607, 0.04968088120222092, 0.0, 0.0, 0.0, 0.0, 0.0, 0.0, 0.0, 0.0, 0.0, 0.0, 0.0, 0.0, 0.0, 0.0, 0.0, 0.0, 0.0, 0.0, 0.0, 0.0, 0.0, 0.0, 0.0, 0.0, 0.0, 0.0, 0.0, 0.0, 0.0, 0.0], [0.8486295342445374, 0.0086058359593153, 0.010435046628117561, 0.005606961436569691, 0.0136653957888484, 0.040272366255521774, 0.007012099027633667, 0.06577271968126297, 0.0, 0.0, 0.0, 0.0, 0.0, 0.0, 0.0, 0.0, 0.0, 0.0, 0.0, 0.0, 0.0, 0.0, 0.0, 0.0, 0.0, 0.0, 0.0, 0.0, 0.0, 0.0, 0.0, 0.0, 0.0, 0.0, 0.0, 0.0, 0.0], [0.8271802663803101, 0.007445445749908686, 0.00852209609001875, 0.03192566707730293, 0.004316955804824829, 0.02465049922466278, 0.0064241718500852585, 0.07380178570747375, 0.015733176842331886, 0.0, 0.0, 0.0, 0.0, 0.0, 0.0, 0.0, 0.0, 0.0, 0.0, 0.0, 0.0, 0.0, 0.0, 0.0, 0.0, 0.0, 0.0, 0.0, 0.0, 0.0, 0.0, 0.0, 0.0, 0.0, 0.0, 0.0, 0.0], [0.9304001927375793, 0.0026680747978389263, 0.0014771386049687862, 0.007523168809711933, 0.004511495120823383, 0.01898076757788658, 0.005374031141400337, 0.01385532133281231, 0.007958676666021347, 0.007251075468957424, 0.0, 0.0, 0.0, 0.0, 0.0, 0.0, 0.0, 0.0, 0.0, 0.0, 0.0, 0.0, 0.0, 0.0, 0.0, 0.0, 0.0, 0.0, 0.0, 0.0, 0.0, 0.0, 0.0, 0.0, 0.0, 0.0, 0.0], [0.44797244668006897, 0.004252409562468529, 0.0003143999492749572, 0.0015455601969733834, 0.001554497517645359, 0.4888312518596649, 0.014414310455322266, 0.02576369233429432, 0.002706378698348999, 0.006467215716838837, 0.006177897099405527, 0.0, 0.0, 0.0, 0.0, 0.0, 0.0, 0.0, 0.0, 0.0, 0.0, 0.0, 0.0, 0.0, 0.0, 0.0, 0.0, 0.0, 0.0, 0.0, 0.0, 0.0, 0.0, 0.0, 0.0, 0.0, 0.0], [0.686834454536438, 0.007804639171808958, 0.0020637845154851675, 0.0032451190054416656, 0.003400501562282443, 0.07444125413894653, 0.014343963004648685, 0.029205791652202606, 0.006274308543652296, 0.010533916763961315, 0.00548672117292881, 0.15636561810970306, 0.0, 0.0, 0.0, 0.0, 0.0, 0.0, 0.0, 0.0, 0.0, 0.0, 0.0, 0.0, 0.0, 0.0, 0.0, 0.0, 0.0, 0.0, 0.0, 0.0, 0.0, 0.0, 0.0, 0.0, 0.0], [0.4495108127593994, 0.055373936891555786, 0.007620912976562977, 0.022147757932543755, 0.005466524977236986, 0.19298037886619568, 0.03983546793460846, 0.11579269170761108, 0.01133032701909542, 0.011123540811240673, 0.002730586566030979, 0.0674654170870781, 0.018621671944856644, 0.0, 0.0, 0.0, 0.0, 0.0, 0.0, 0.0, 0.0, 0.0, 0.0, 0.0, 0.0, 0.0, 0.0, 0.0, 0.0, 0.0, 0.0, 0.0, 0.0, 0.0, 0.0, 0.0, 0.0], [0.6241268515586853, 0.013140860013663769, 0.001227441942319274, 0.003681252710521221, 0.00321213505230844, 0.042981017380952835, 0.04028671607375145, 0.21175071597099304, 0.007317004259675741, 0.0035177061799913645, 0.0018395304214209318, 0.022537503391504288, 0.00798830110579729, 0.016393085941672325, 0.0, 0.0, 0.0, 0.0, 0.0, 0.0, 0.0, 0.0, 0.0, 0.0, 0.0, 0.0, 0.0, 0.0, 0.0, 0.0, 0.0, 0.0, 0.0, 0.0, 0.0, 0.0, 0.0], [0.5401566624641418, 0.0062371003441512585, 0.0013734052190557122, 0.002894977806136012, 0.0055658225901424885, 0.03840602934360504, 0.026290973648428917, 0.31780198216438293, 0.010954407975077629, 0.0037622370291501284, 0.003811661619693041, 0.010082502849400043, 0.009046667255461216, 0.007872585207223892, 0.015742940828204155, 0.0, 0.0, 0.0, 0.0, 0.0, 0.0, 0.0, 0.0, 0.0, 0.0, 0.0, 0.0, 0.0, 0.0, 0.0, 0.0, 0.0, 0.0, 0.0, 0.0, 0.0, 0.0], [0.6066123247146606, 0.0034670261666178703, 0.0019941646605730057, 0.01047118566930294, 0.0029263708274811506, 0.015583254396915436, 0.012185837142169476, 0.1922076791524887, 0.01584506407380104, 0.042694419622421265, 0.007153268903493881, 0.01159772090613842, 0.0074333976954221725, 0.0018218252807855606, 0.0027557683642953634, 0.06525059789419174, 0.0, 0.0, 0.0, 0.0, 0.0, 0.0, 0.0, 0.0, 0.0, 0.0, 0.0, 0.0, 0.0, 0.0, 0.0, 0.0, 0.0, 0.0, 0.0, 0.0, 0.0], [0.6739241480827332, 0.00504404678940773, 0.003731811884790659, 0.011019491590559483, 0.004545511677861214, 0.02474694885313511, 0.011866636574268341, 0.09222418069839478, 0.012020740658044815, 0.04939047619700432, 0.006744384765625, 0.02286309190094471, 0.013099057599902153, 0.007449586410075426, 0.004916107747703791, 0.04898255690932274, 0.007431264501065016, 0.0, 0.0, 0.0, 0.0, 0.0, 0.0, 0.0, 0.0, 0.0, 0.0, 0.0, 0.0, 0.0, 0.0, 0.0, 0.0, 0.0, 0.0, 0.0, 0.0], [0.8967490196228027, 0.002386294538155198, 0.0023624238092452288, 0.009352326393127441, 0.0028580150101333857, 0.016114134341478348, 0.003950013779103756, 0.010559888556599617, 0.004608968272805214, 0.009709007106721401, 0.002939940895885229, 0.009858130477368832, 0.007420210633426905, 0.00372386840172112, 0.0008734673610888422, 0.005857880227267742, 0.004281490575522184, 0.006394953466951847, 0.0, 0.0, 0.0, 0.0, 0.0, 0.0, 0.0, 0.0, 0.0, 0.0, 0.0, 0.0, 0.0, 0.0, 0.0, 0.0, 0.0, 0.0, 0.0], [0.2626459002494812, 0.0016435327706858516, 0.0006000717985443771, 0.00269872322678566, 0.0017785577801987529, 0.17531025409698486, 0.008205772377550602, 0.017553558573126793, 0.0033597443252801895, 0.008569750934839249, 0.005453328136354685, 0.43536850810050964, 0.008606122806668282, 0.05161929503083229, 0.0010555629851296544, 0.006066128145903349, 0.0027749380096793175, 0.0029931899625808, 0.003697018139064312, 0.0, 0.0, 0.0, 0.0, 0.0, 0.0, 0.0, 0.0, 0.0, 0.0, 0.0, 0.0, 0.0, 0.0, 0.0, 0.0, 0.0, 0.0], [0.9727271199226379, 0.00033697771141305566, 4.604531204677187e-05, 0.00022980211360845715, 0.0001694078091531992, 0.0011989345075562596, 0.00022948872356209904, 0.0009626462706364691, 0.0002610533847473562, 0.00022457490558736026, 0.0001507773413322866, 0.0006569750257767737, 0.00025661304243840277, 0.00017007668793667108, 3.6759993236046284e-05, 0.0003461932356003672, 9.713013423606753e-05, 4.170875035924837e-05, 3.816366006503813e-05, 0.021819576621055603, 0.0, 0.0, 0.0, 0.0, 0.0, 0.0, 0.0, 0.0, 0.0, 0.0, 0.0, 0.0, 0.0, 0.0, 0.0, 0.0, 0.0], [0.9605899453163147, 0.0002584994654171169, 3.318297603982501e-05, 0.00017306288646068424, 0.00012372199853416532, 0.0009109238744713366, 0.0001686902396613732, 0.000699574826285243, 0.0001988456933759153, 0.0001695054379524663, 0.00011675664427457377, 0.00043913020635955036, 0.00018847295723389834, 0.00011640376033028588, 2.4602461053291336e-05, 0.00023274259001482278, 7.01761819072999e-05, 2.868840419978369e-05, 2.6985417207470164e-05, 0.016335198655724525, 0.019094962626695633, 0.0, 0.0, 0.0, 0.0, 0.0, 0.0, 0.0, 0.0, 0.0, 0.0, 0.0, 0.0, 0.0, 0.0, 0.0, 0.0], [0.9495446681976318, 0.00021941830345895141, 2.7170111934538e-05, 0.00014435478078667074, 0.00010052746802102774, 0.000769291480537504, 0.00013787334319204092, 0.0005683974013663828, 0.00016532689915038645, 0.0001398291642544791, 9.796882659429684e-05, 0.0003396913525648415, 0.00015456524852197617, 9.205022070091218e-05, 1.898346636153292e-05, 0.00017966664745472372, 5.6351978855673224e-05, 2.2434687707573175e-05, 2.1420337361632846e-05, 0.013613694347441196, 0.015971656888723373, 0.01761486567556858, 0.0, 0.0, 0.0, 0.0, 0.0, 0.0, 0.0, 0.0, 0.0, 0.0, 0.0, 0.0, 0.0, 0.0, 0.0], [0.9394360780715942, 0.0001938693894771859, 2.3442778910975903e-05, 0.00012577637971844524, 8.54880127008073e-05, 0.0006789706530980766, 0.00011782166984630749, 0.00048392644384875894, 0.00014277022273745388, 0.00011965734302066267, 8.49893840495497e-05, 0.000279759056866169, 0.0001328288490185514, 7.717160769971088e-05, 1.5513302059844136e-05, 0.00014700191968586296, 4.7312652895925567e-05, 1.8453078155289404e-05, 1.780462116585113e-05, 0.011855509132146835, 0.013951697386801243, 0.015412026084959507, 0.016552170738577843, 0.0, 0.0, 0.0, 0.0, 0.0, 0.0, 0.0, 0.0, 0.0, 0.0, 0.0, 0.0, 0.0, 0.0], [0.9303191900253296, 0.00017401181685272604, 2.0618970665964298e-05, 0.00011169707431690767, 7.433834252879024e-05, 0.000609566573984921, 0.00010274758096784353, 0.00042187151848338544, 0.00012553122360259295, 0.0001043968804879114, 7.504610402975231e-05, 0.00023757072631269693, 0.00011673178232740611, 6.639186904067174e-05, 1.3047400898358319e-05, 0.0001239646808244288, 4.064704990014434e-05, 1.5590725524816662e-05, 1.5177745808614418e-05, 0.010544732213020325, 0.012440773658454418, 0.01376177929341793, 0.014794460497796535, 0.015690192580223083, 0.0, 0.0, 0.0, 0.0, 0.0, 0.0, 0.0, 0.0, 0.0, 0.0, 0.0, 0.0, 0.0], [0.9216837882995605, 0.00015856599202379584, 1.8516659110900946e-05, 0.00010098878556163982, 6.593368016183376e-05, 0.000555827806238085, 9.116531873587519e-05, 0.0003740823012776673, 0.00011224374611629173, 9.24849882721901e-05, 6.717495125485584e-05, 0.00020624751050490886, 0.00010459773329785094, 5.832688475493342e-05, 1.1213669495191425e-05, 0.00010698367259465158, 3.560992263373919e-05, 1.3438384485198185e-05, 1.3187943295633886e-05, 0.009553853422403336, 0.01130053773522377, 0.012518770061433315, 0.013473091647028923, 0.014301902614533901, 0.014981426298618317, 0.0, 0.0, 0.0, 0.0, 0.0, 0.0, 0.0, 0.0, 0.0, 0.0, 0.0, 0.0], [0.9136369824409485, 0.00014537187234964222, 1.6721058273105882e-05, 9.186589159071445e-05, 5.9071473515359685e-05, 0.0005104690208099782, 8.17216350696981e-05, 0.0003356885863468051, 0.00010127264249604195, 8.25359602458775e-05, 6.0505717556225136e-05, 0.0001813108247006312, 9.463245805818588e-05, 5.176951890462078e-05, 9.76779938355321e-06, 9.367313759867102e-05, 3.1528350518783554e-05, 1.1702103620336857e-05, 1.1567160072445404e-05, 0.008748429827392101, 0.010372014716267586, 0.011505715548992157, 0.012395694851875305, 0.01316970307379961, 0.013805343769490719, 0.014395037665963173, 0.0, 0.0, 0.0, 0.0, 0.0, 0.0, 0.0, 0.0, 0.0, 0.0, 0.0], [0.9061163067817688, 0.00013412233965937048, 1.5243043890222907e-05, 8.425690612057224e-05, 5.346019679564051e-05, 0.00047209986951202154, 7.383679621852934e-05, 0.00030368712032213807, 9.219931234838441e-05, 7.416198786813766e-05, 5.489387331181206e-05, 0.00016102050722111017, 8.64421745063737e-05, 4.632519630831666e-05, 8.58439761941554e-06, 8.289866673294455e-05, 2.820251029334031e-05, 1.0277100045641419e-05, 1.0249136721540708e-05, 0.008073022589087486, 0.009592434391379356, 0.010654698126018047, 0.011490345001220703, 0.01221811305731535, 0.012816828675568104, 0.013372335582971573, 0.013874020427465439, 0.0, 0.0, 0.0, 0.0, 0.0, 0.0, 0.0, 0.0, 0.0, 0.0], [0.8988891839981079, 0.000124329628306441, 1.3978722563479096e-05, 7.770872616674751e-05, 4.87071301904507e-05, 0.00043807749170809984, 6.703231338178739e-05, 0.00027661313652060926, 8.446859283139929e-05, 6.699965160805732e-05, 4.999641532776877e-05, 0.0001438837789464742, 7.950330473249778e-05, 4.166991857346147e-05, 7.597114290547324e-06, 7.398059096885845e-05, 2.539929664635565e-05, 9.08303900359897e-06, 9.133749699685723e-06, 0.0075067756697535515, 0.008939866907894611, 0.009943454526364803, 0.0107348607853055, 0.011425243690609932, 0.011994466185569763, 0.012522849254310131, 0.013001110404729843, 0.013404136523604393, 0.0, 0.0, 0.0, 0.0, 0.0, 0.0, 0.0, 0.0, 0.0], [0.892303466796875, 0.00011545346933417022, 1.283889650949277e-05, 7.178082887548953e-05, 4.45782279712148e-05, 0.0004075046454090625, 6.111372204031795e-05, 0.0002528517215978354, 7.755838305456564e-05, 6.076907811802812e-05, 4.5696866436628625e-05, 0.00012928091746289283, 7.33610795577988e-05, 3.767434463952668e-05, 6.766713795514079e-06, 6.639730418100953e-05, 2.2983438611845486e-05, 8.081606210907921e-06, 8.189285836124327e-06, 0.006999810226261616, 0.008352808654308319, 0.009301585145294666, 0.010051341727375984, 0.010706368833780289, 0.011247455142438412, 0.011749936267733574, 0.012205667793750763, 0.012590013444423676, 0.012988770380616188, 0.0, 0.0, 0.0, 0.0, 0.0, 0.0, 0.0, 0.0], [0.8860815763473511, 0.00010757301060948521, 1.1838623322546482e-05, 6.648518319707364e-05, 4.1015995520865545e-05, 0.0003800657868850976, 5.599472933681682e-05, 0.00023250111553352326, 7.160640234360471e-05, 5.5344276916002855e-05, 4.1907649574568495e-05, 0.00011667377111734822, 6.801367999287322e-05, 3.417044717934914e-05, 6.064069111744175e-06, 5.996705294819549e-05, 2.0913466869387776e-05, 7.223256943689194e-06, 7.378434020210989e-06, 0.006554325111210346, 0.007835609838366508, 0.008735129609704018, 0.009447278454899788, 0.01007025595754385, 0.010585692711174488, 0.011064537800848484, 0.011499589309096336, 0.0118667371571064, 0.012247766368091106, 0.01262678112834692, 0.0, 0.0, 0.0, 0.0, 0.0, 0.0, 0.0], [0.8800656199455261, 0.00010043200018117204, 1.0947303962893784e-05, 6.18061312707141e-05, 3.78863223886583e-05, 0.0003550803230609745, 5.140201028552838e-05, 0.000214348518056795, 6.634384044446051e-05, 5.047808735980652e-05, 3.848922278848477e-05, 0.00010552973981248215, 6.326940638246015e-05, 3.1029088859213516e-05, 5.445418992167106e-06, 5.432941179606132e-05, 1.9090904970653355e-05, 6.464880698331399e-06, 6.662081432295963e-06, 0.006161045283079147, 0.007379800081253052, 0.008236605674028397, 0.008916258811950684, 0.009511622600257397, 0.010005113668739796, 0.010463793762028217, 0.010881281457841396, 0.011233968660235405, 0.011600066907703876, 0.011964577250182629, 0.012301227077841759, 0.0, 0.0, 0.0, 0.0, 0.0, 0.0], [0.8747197389602661, 9.401517309015617e-05, 1.016125224850839e-05, 5.760185013059527e-05, 3.513499177643098e-05, 0.0003323822165839374, 4.734820322482847e-05, 0.00019830826204270124, 6.16549514234066e-05, 4.6309996832860634e-05, 3.550554902176373e-05, 9.592359856469557e-05, 5.90267482039053e-05, 2.8289488909649663e-05, 4.9160416892846115e-06, 4.94635351060424e-05, 1.7514425053377636e-05, 5.8290538618166465e-06, 6.051968739484437e-06, 0.005797114223241806, 0.006954241544008255, 0.007768115494400263, 0.00841440912336111, 0.008980976417660713, 0.009450997225940228, 0.009887891821563244, 0.010286017321050167, 0.010622317902743816, 0.010971532203257084, 0.01131946686655283, 0.011640860699117184, 0.012000827118754387, 0.0, 0.0, 0.0, 0.0, 0.0], [0.869265615940094, 8.806141704553738e-05, 9.454798600927461e-06, 5.377770867198706e-05, 3.267817010055296e-05, 0.00031131465220823884, 4.364419146440923e-05, 0.00018379357061348855, 5.7461413234705105e-05, 4.2471780034247786e-05, 3.2769417884992436e-05, 8.72057062224485e-05, 5.528423935174942e-05, 2.579305692052003e-05, 4.441948476596735e-06, 4.5140965085010976e-05, 1.6109848729684018e-05, 5.2540785873134155e-06, 5.507582045538584e-06, 0.005478409584611654, 0.006583760026842356, 0.007362198084592819, 0.007981433533132076, 0.00852495152503252, 0.008976608514785767, 0.009396654553711414, 0.009780044667422771, 0.0101042240858078, 0.010440921410918236, 0.01077666599303484, 0.011087062768638134, 0.011434978805482388, 0.01170626375824213, 0.0, 0.0, 0.0, 0.0], [0.8642808794975281, 8.281079499283805e-05, 8.829048965708353e-06, 5.033762499806471e-05, 3.0508726922562346e-05, 0.00029242286109365523, 4.0454440750181675e-05, 0.00017115306400228292, 5.3730374929727986e-05, 3.914716580766253e-05, 3.034755718545057e-05, 7.969725265866145e-05, 5.18715605721809e-05, 2.361694714636542e-05, 4.039404757349985e-06, 4.138212534599006e-05, 1.4871176972519606e-05, 4.7632870519009884e-06, 5.031226010032697e-06, 0.005184325389564037, 0.006239395122975111, 0.006982801947742701, 0.007574773859232664, 0.008094735443592072, 0.00852719321846962, 0.008929431438446045, 0.009296963922679424, 0.009607759304344654, 0.009930668398737907, 0.010252890177071095, 0.010550863109529018, 0.0108852693811059, 0.01114604715257883, 0.011490968987345695, 0.0, 0.0, 0.0], [0.85984867811203, 7.786686910549179e-05, 8.248081940109842e-06, 4.719289063359611e-05, 2.8528143957373686e-05, 0.00027442589635029435, 3.74512565031182e-05, 0.00015939712466206402, 5.02886286994908e-05, 3.615334571804851e-05, 2.8154403480584733e-05, 7.285271567525342e-05, 4.8734902520664036e-05, 2.160804797313176e-05, 3.673183755381615e-06, 3.797628960455768e-05, 1.3753652638115454e-05, 4.327172518969746e-06, 4.6076484068180434e-06, 0.004906185436993837, 0.005912556312978268, 0.006621846463531256, 0.0071870554238557816, 0.007683751173317432, 0.008097074925899506, 0.008481510914862156, 0.008833067491650581, 0.009130286984145641, 0.009439169429242611, 0.009747572243213654, 0.010032780468463898, 0.010353298857808113, 0.010603091679513454, 0.010933777317404747, 0.011233062483370304, 0.0, 0.0], [0.8558043837547302, 7.320696022361517e-05, 7.69933012634283e-06, 4.421039193402976e-05, 2.6705247364589013e-05, 0.00025811424711719155, 3.481868407106958e-05, 0.00014878167712595314, 4.7096960770431906e-05, 3.3449345210101455e-05, 2.6171595891355537e-05, 6.687753193546087e-05, 4.5816464989911765e-05, 1.9860004613292404e-05, 3.3582641663087998e-06, 3.498974547255784e-05, 1.2752388101944234e-05, 3.948050107283052e-06, 4.2355022742412984e-06, 0.00464843912050128, 0.005607916973531246, 0.006284055765718222, 0.006823060568422079, 0.007296865340322256, 0.007691210601478815, 0.00805794820189476, 0.008393524214625359, 0.008677034638822079, 0.008971785195171833, 0.00926622562110424, 0.009538482874631882, 0.009844894520938396, 0.010083402507007122, 0.010399634018540382, 0.010685966350138187, 0.011033200658857822, 0.0], [0.8520152568817139, 6.908968498464674e-05, 7.22309096090612e-06, 4.1556308133294806e-05, 2.5106190150836483e-05, 0.00024289065913762897, 3.243397441110574e-05, 0.00013931260036770254, 4.4265787437325343e-05, 3.105142241111025e-05, 2.4421122361673042e-05, 6.156190647743642e-05, 4.322466338635422e-05, 1.827678170229774e-05, 3.0817520837445045e-06, 3.233462484786287e-05, 1.1865909073094372e-05, 3.6138073937763693e-06, 3.909254246536875e-06, 0.00441121868789196, 0.005326705519109964, 0.005971526261419058, 0.006485567893832922, 0.006937425583600998, 0.007313418667763472, 0.007662964519113302, 0.007982905954122543, 0.008252904750406742, 0.00853370875120163, 0.008814333938062191, 0.009073703549802303, 0.009366095997393131, 0.009593254886567593, 0.00989506021142006, 0.010168376378715038, 0.010500159114599228, 0.010860412381589413]], [[1.0, 0.0, 0.0, 0.0, 0.0, 0.0, 0.0, 0.0, 0.0, 0.0, 0.0, 0.0, 0.0, 0.0, 0.0, 0.0, 0.0, 0.0, 0.0, 0.0, 0.0, 0.0, 0.0, 0.0, 0.0, 0.0, 0.0, 0.0, 0.0, 0.0, 0.0, 0.0, 0.0, 0.0, 0.0, 0.0, 0.0], [0.9892488718032837, 0.010751147754490376, 0.0, 0.0, 0.0, 0.0, 0.0, 0.0, 0.0, 0.0, 0.0, 0.0, 0.0, 0.0, 0.0, 0.0, 0.0, 0.0, 0.0, 0.0, 0.0, 0.0, 0.0, 0.0, 0.0, 0.0, 0.0, 0.0, 0.0, 0.0, 0.0, 0.0, 0.0, 0.0, 0.0, 0.0, 0.0], [0.998429000377655, 0.0014246369246393442, 0.00014627246127929538, 0.0, 0.0, 0.0, 0.0, 0.0, 0.0, 0.0, 0.0, 0.0, 0.0, 0.0, 0.0, 0.0, 0.0, 0.0, 0.0, 0.0, 0.0, 0.0, 0.0, 0.0, 0.0, 0.0, 0.0, 0.0, 0.0, 0.0, 0.0, 0.0, 0.0, 0.0, 0.0, 0.0, 0.0], [0.7663528323173523, 0.11876053363084793, 0.004209924954921007, 0.11067666858434677, 0.0, 0.0, 0.0, 0.0, 0.0, 0.0, 0.0, 0.0, 0.0, 0.0, 0.0, 0.0, 0.0, 0.0, 0.0, 0.0, 0.0, 0.0, 0.0, 0.0, 0.0, 0.0, 0.0, 0.0, 0.0, 0.0, 0.0, 0.0, 0.0, 0.0, 0.0, 0.0, 0.0], [0.6966952681541443, 0.1866743415594101, 0.004109486937522888, 0.09972472488880157, 0.012796066701412201, 0.0, 0.0, 0.0, 0.0, 0.0, 0.0, 0.0, 0.0, 0.0, 0.0, 0.0, 0.0, 0.0, 0.0, 0.0, 0.0, 0.0, 0.0, 0.0, 0.0, 0.0, 0.0, 0.0, 0.0, 0.0, 0.0, 0.0, 0.0, 0.0, 0.0, 0.0, 0.0], [0.9461527466773987, 0.036508236080408096, 0.0005241468898020685, 0.002558654872700572, 0.001759146573022008, 0.012497054412961006, 0.0, 0.0, 0.0, 0.0, 0.0, 0.0, 0.0, 0.0, 0.0, 0.0, 0.0, 0.0, 0.0, 0.0, 0.0, 0.0, 0.0, 0.0, 0.0, 0.0, 0.0, 0.0, 0.0, 0.0, 0.0, 0.0, 0.0, 0.0, 0.0, 0.0, 0.0], [0.9460439682006836, 0.026304421946406364, 0.0005848773289471865, 0.0013763874303549528, 0.0008551070932298899, 0.004518254194408655, 0.02031702548265457, 0.0, 0.0, 0.0, 0.0, 0.0, 0.0, 0.0, 0.0, 0.0, 0.0, 0.0, 0.0, 0.0, 0.0, 0.0, 0.0, 0.0, 0.0, 0.0, 0.0, 0.0, 0.0, 0.0, 0.0, 0.0, 0.0, 0.0, 0.0, 0.0, 0.0], [0.915770411491394, 0.03325448930263519, 0.0033990584779530764, 0.003333653323352337, 0.002943037310615182, 0.005043430253863335, 0.004041848238557577, 0.03221398591995239, 0.0, 0.0, 0.0, 0.0, 0.0, 0.0, 0.0, 0.0, 0.0, 0.0, 0.0, 0.0, 0.0, 0.0, 0.0, 0.0, 0.0, 0.0, 0.0, 0.0, 0.0, 0.0, 0.0, 0.0, 0.0, 0.0, 0.0, 0.0, 0.0], [0.8505688905715942, 0.048390455543994904, 0.003615781432017684, 0.03160834684967995, 0.003516574390232563, 0.015587979927659035, 0.00666292617097497, 0.03400958329439163, 0.006039471365511417, 0.0, 0.0, 0.0, 0.0, 0.0, 0.0, 0.0, 0.0, 0.0, 0.0, 0.0, 0.0, 0.0, 0.0, 0.0, 0.0, 0.0, 0.0, 0.0, 0.0, 0.0, 0.0, 0.0, 0.0, 0.0, 0.0, 0.0, 0.0], [0.947675883769989, 0.012014555744826794, 0.0018044277094304562, 0.009943014942109585, 0.006842694245278835, 0.0036814550403505564, 0.0013202765258029103, 0.0076459310948848724, 0.0030344154220074415, 0.006037448067218065, 0.0, 0.0, 0.0, 0.0, 0.0, 0.0, 0.0, 0.0, 0.0, 0.0, 0.0, 0.0, 0.0, 0.0, 0.0, 0.0, 0.0, 0.0, 0.0, 0.0, 0.0, 0.0, 0.0, 0.0, 0.0, 0.0, 0.0], [0.8735356330871582, 0.06190839037299156, 0.0003760400868486613, 0.0019327722257003188, 0.00148492818698287, 0.023422665894031525, 0.003940926864743233, 0.024653099477291107, 0.001845389255322516, 0.0030841887928545475, 0.0038158250972628593, 0.0, 0.0, 0.0, 0.0, 0.0, 0.0, 0.0, 0.0, 0.0, 0.0, 0.0, 0.0, 0.0, 0.0, 0.0, 0.0, 0.0, 0.0, 0.0, 0.0, 0.0, 0.0, 0.0, 0.0, 0.0, 0.0], [0.9147056341171265, 0.018375445157289505, 0.00037820430588908494, 0.0020073524210602045, 0.0011329937260597944, 0.0056612528860569, 0.009090686216950417, 0.03520234301686287, 0.001274376641958952, 0.0045833894982934, 0.0028612001333385706, 0.004727163817733526, 0.0, 0.0, 0.0, 0.0, 0.0, 0.0, 0.0, 0.0, 0.0, 0.0, 0.0, 0.0, 0.0, 0.0, 0.0, 0.0, 0.0, 0.0, 0.0, 0.0, 0.0, 0.0, 0.0, 0.0, 0.0], [0.35126793384552, 0.4023941457271576, 0.0029291873797774315, 0.02847723476588726, 0.004362922161817551, 0.023745093494653702, 0.013660854659974575, 0.1382116973400116, 0.0049979835748672485, 0.009255744516849518, 0.002251802012324333, 0.004550539888441563, 0.013894855976104736, 0.0, 0.0, 0.0, 0.0, 0.0, 0.0, 0.0, 0.0, 0.0, 0.0, 0.0, 0.0, 0.0, 0.0, 0.0, 0.0, 0.0, 0.0, 0.0, 0.0, 0.0, 0.0, 0.0, 0.0], [0.2607533931732178, 0.06999953836202621, 0.0004401435435283929, 0.005466736853122711, 0.0014484201092272997, 0.004349356517195702, 0.13458290696144104, 0.5024840831756592, 0.0037626689299941063, 0.009723217226564884, 0.0009155353764072061, 0.0008732505375519395, 0.0031715098302811384, 0.002029233844950795, 0.0, 0.0, 0.0, 0.0, 0.0, 0.0, 0.0, 0.0, 0.0, 0.0, 0.0, 0.0, 0.0, 0.0, 0.0, 0.0, 0.0, 0.0, 0.0, 0.0, 0.0, 0.0, 0.0], [0.11363884061574936, 0.028806835412979126, 0.00023460872762370855, 0.0016802239697426558, 0.0006066796486265957, 0.00035046771517954767, 0.007675054483115673, 0.8382417559623718, 0.0008071322808973491, 0.0008054086938500404, 0.0001719962019706145, 0.00015311712922994047, 0.0019447696395218372, 7.38726303097792e-05, 0.004809170495718718, 0.0, 0.0, 0.0, 0.0, 0.0, 0.0, 0.0, 0.0, 0.0, 0.0, 0.0, 0.0, 0.0, 0.0, 0.0, 0.0, 0.0, 0.0, 0.0, 0.0, 0.0, 0.0], [0.8213899731636047, 0.02557046338915825, 0.0011628386564552784, 0.016821017488837242, 0.0032587728928774595, 0.002625567838549614, 0.004005645867437124, 0.04222039133310318, 0.03225526958703995, 0.037974268198013306, 0.004737088922411203, 0.001486232620663941, 0.003885851940140128, 0.000222368907998316, 0.00020319012401159853, 0.002181062940508127, 0.0, 0.0, 0.0, 0.0, 0.0, 0.0, 0.0, 0.0, 0.0, 0.0, 0.0, 0.0, 0.0, 0.0, 0.0, 0.0, 0.0, 0.0, 0.0, 0.0, 0.0], [0.7786684036254883, 0.031395431607961655, 0.0013208824675530195, 0.010422631166875362, 0.0027988131623715162, 0.006161372642964125, 0.006951141636818647, 0.04115030914545059, 0.00590051943436265, 0.09041948616504669, 0.006302394438534975, 0.003481266787275672, 0.004306167829781771, 0.0007232894422486424, 0.0005742534413002431, 0.005050214473158121, 0.004373427480459213, 0.0, 0.0, 0.0, 0.0, 0.0, 0.0, 0.0, 0.0, 0.0, 0.0, 0.0, 0.0, 0.0, 0.0, 0.0, 0.0, 0.0, 0.0, 0.0, 0.0], [0.7430978417396545, 0.030230475589632988, 0.0066658202558755875, 0.03822445124387741, 0.012066311202943325, 0.005386695731431246, 0.0036373825278133154, 0.019730452448129654, 0.006285475101321936, 0.040043964982032776, 0.05918632075190544, 0.0067097702994942665, 0.007868013344705105, 0.0007412019767798483, 0.00021736009512096643, 0.0018096365965902805, 0.003272703383117914, 0.014826212078332901, 0.0, 0.0, 0.0, 0.0, 0.0, 0.0, 0.0, 0.0, 0.0, 0.0, 0.0, 0.0, 0.0, 0.0, 0.0, 0.0, 0.0, 0.0, 0.0], [0.7559440732002258, 0.0628117248415947, 0.0007472133147530258, 0.0048282565549016, 0.0012490944936871529, 0.019526243209838867, 0.006235813722014427, 0.03254808485507965, 0.002810831181704998, 0.019629623740911484, 0.005965502001345158, 0.06618944555521011, 0.002614854369312525, 0.005438819993287325, 0.000516762025654316, 0.0031683703418821096, 0.00181011448148638, 0.005548172630369663, 0.0024169455282390118, 0.0, 0.0, 0.0, 0.0, 0.0, 0.0, 0.0, 0.0, 0.0, 0.0, 0.0, 0.0, 0.0, 0.0, 0.0, 0.0, 0.0, 0.0], [0.9524854421615601, 0.009240609593689442, 0.00014702380576636642, 0.0007346691563725471, 0.0007145640556700528, 0.0014448025031015277, 0.000502087059430778, 0.00499356584623456, 0.0007978896028362215, 0.0006783545832149684, 0.0005358423222787678, 0.00043781037675216794, 0.0007568920846097171, 0.0002770750143099576, 0.00010432073759147897, 0.0006086080684326589, 0.00021527729404624552, 0.0001704995520412922, 0.0001963639515452087, 0.024958333000540733, 0.0, 0.0, 0.0, 0.0, 0.0, 0.0, 0.0, 0.0, 0.0, 0.0, 0.0, 0.0, 0.0, 0.0, 0.0, 0.0, 0.0], [0.9404683709144592, 0.007606581784784794, 0.00011349893611622974, 0.000575543730519712, 0.0005659355083480477, 0.0011892245383933187, 0.0004010812845081091, 0.0038493007887154818, 0.000635810662060976, 0.0005408729193732142, 0.0004224653239361942, 0.00031275898800231516, 0.0005927506135776639, 0.00020874195615760982, 7.909882697276771e-05, 0.00044485731632448733, 0.0001638654648559168, 0.00012511380191426724, 0.0001446452661184594, 0.020226622000336647, 0.021332919597625732, 0.0, 0.0, 0.0, 0.0, 0.0, 0.0, 0.0, 0.0, 0.0, 0.0, 0.0, 0.0, 0.0, 0.0, 0.0, 0.0], [0.9282513856887817, 0.006817438639700413, 9.683155076345429e-05, 0.0005035017966292799, 0.0004897426697425544, 0.001046699588187039, 0.0003473800898063928, 0.0032934374175965786, 0.0005492707132361829, 0.0004690803471021354, 0.00036366551648825407, 0.0002511887578293681, 0.0005083848955109715, 0.00017436810594517738, 6.648156704613939e-05, 0.0003678807115647942, 0.00013741606380790472, 0.00010402784391772002, 0.00011991243809461594, 0.017831599339842796, 0.01887211948633194, 0.01933816447854042, 0.0, 0.0, 0.0, 0.0, 0.0, 0.0, 0.0, 0.0, 0.0, 0.0, 0.0, 0.0, 0.0, 0.0, 0.0], [0.9167070984840393, 0.006305966060608625, 8.604211325291544e-05, 0.00045947128091938794, 0.00043911096872761846, 0.0009486451745033264, 0.0003106700605712831, 0.0029350644908845425, 0.0004914673045277596, 0.00042051076889038086, 0.0003245474072173238, 0.0002127823099726811, 0.00045261456398293376, 0.00015181783237494528, 5.802965461043641e-05, 0.00031938860774971545, 0.0001200615952257067, 9.071995009435341e-05, 0.00010415168799227104, 0.01624046079814434, 0.01723536103963852, 0.017685357481241226, 0.017900684848427773, 0.0, 0.0, 0.0, 0.0, 0.0, 0.0, 0.0, 0.0, 0.0, 0.0, 0.0, 0.0, 0.0, 0.0], [0.9061012864112854, 0.005892574787139893, 7.782988541293889e-05, 0.0004258940170984715, 0.0004001827328465879, 0.0008718358585610986, 0.0002824568946380168, 0.002669762121513486, 0.00044721082667820156, 0.00038255032268352807, 0.0002951477363239974, 0.0001857956376625225, 0.00041084265103563666, 0.00013507500989362597, 5.1721530326176435e-05, 0.0002844472764991224, 0.0001071569204214029, 8.088984031928703e-05, 9.273817704524845e-05, 0.015019970014691353, 0.015974605455994606, 0.01641031540930271, 0.016623811796307564, 0.01677580550312996, 0.0, 0.0, 0.0, 0.0, 0.0, 0.0, 0.0, 0.0, 0.0, 0.0, 0.0, 0.0, 0.0], [0.8960708975791931, 0.00556549709290266, 7.152812031563371e-05, 0.0004010028496850282, 0.0003696757776197046, 0.0008103957516141236, 0.00025971184368245304, 0.0024568585213273764, 0.0004130051238462329, 0.0003518767189234495, 0.0002721253549680114, 0.00016532852896489203, 0.0003777985111810267, 0.00012204612721689045, 4.673589864978567e-05, 0.00025749520864337683, 9.726589632919058e-05, 7.330715743592009e-05, 8.399779471801594e-05, 0.014064904302358627, 0.014990056864917278, 0.01541727315634489, 0.015632202848792076, 0.015787387266755104, 0.0158415287733078, 0.0, 0.0, 0.0, 0.0, 0.0, 0.0, 0.0, 0.0, 0.0, 0.0, 0.0, 0.0], [0.8869180083274841, 0.005272436887025833, 6.620093336096033e-05, 0.00037909753154963255, 0.0003430428041610867, 0.0007581166573800147, 0.00024041060532908887, 0.0022809652145951986, 0.00038343676715157926, 0.0003252773894928396, 0.0002524794836062938, 0.0001489315036451444, 0.00034939960460178554, 0.00011111613275716081, 4.2532836232567206e-05, 0.00023549323668703437, 8.887832518666983e-05, 6.692950410069898e-05, 7.672232459299266e-05, 0.013241766020655632, 0.014138538390398026, 0.01455702818930149, 0.014772418886423111, 0.014929899014532566, 0.014990797266364098, 0.015030029229819775, 0.0, 0.0, 0.0, 0.0, 0.0, 0.0, 0.0, 0.0, 0.0, 0.0, 0.0], [0.8784464001655579, 0.005009864456951618, 6.167017272673547e-05, 0.0003600970085244626, 0.0003200637875124812, 0.0007126359269022942, 0.00022363751486409456, 0.002127434127032757, 0.00035857444163411856, 0.0003020968579221517, 0.0002355588658247143, 0.00013526722614187747, 0.0003251301241107285, 0.00010185161227127537, 3.8961792597547174e-05, 0.0002170974330510944, 8.191503002308309e-05, 6.150853005237877e-05, 7.056017057038844e-05, 0.012527831830084324, 0.013398597948253155, 0.01380896009504795, 0.014024514704942703, 0.014183911494910717, 0.014250735752284527, 0.014296049252152443, 0.014319048263132572, 0.0, 0.0, 0.0, 0.0, 0.0, 0.0, 0.0, 0.0, 0.0, 0.0], [0.8704617023468018, 0.004780816379934549, 5.781032086815685e-05, 0.0003440159489400685, 0.0002998978307005018, 0.0006729194428771734, 0.0002089471381623298, 0.0019948899280279875, 0.00033678216277621686, 0.00028172688325867057, 0.00022062947391532362, 0.00012361870903987437, 0.00030350007000379264, 9.383916767546907e-05, 3.586595630622469e-05, 0.0002012693148571998, 7.583986007375643e-05, 5.682694973074831e-05, 6.522478361148387e-05, 0.01190903875976801, 0.012757624499499798, 0.013161527924239635, 0.013377891853451729, 0.013539724051952362, 0.013612480834126472, 0.013663914985954762, 0.013693761080503464, 0.013667908497154713, 0.0, 0.0, 0.0, 0.0, 0.0, 0.0, 0.0, 0.0, 0.0], [0.8630921840667725, 0.0045619443990290165, 5.432247053249739e-05, 0.0003287001745775342, 0.0002819367509800941, 0.0006369012407958508, 0.00019605751731432974, 0.0018770621391013265, 0.00031722738640382886, 0.0002636240387801081, 0.00020767627574969083, 0.00011370109132258222, 0.00028474669670686126, 8.689029345987365e-05, 3.3224747312488034e-05, 0.0001875765883596614, 7.056751201162115e-05, 5.2751260227523744e-05, 6.066215428290889e-05, 0.011347891762852669, 0.012174539268016815, 0.012571452185511589, 0.012787683866918087, 0.012950964272022247, 0.013028456829488277, 0.013084894977509975, 0.013120457530021667, 0.013101920485496521, 0.013123936019837856, 0.0, 0.0, 0.0, 0.0, 0.0, 0.0, 0.0, 0.0], [0.8562395572662354, 0.004365005996078253, 5.122747097630054e-05, 0.00031453228439204395, 0.0002656304568517953, 0.0006053760880604386, 0.00018464337335899472, 0.001773503958247602, 0.00029992093914188445, 0.0002476720546837896, 0.00019592340686358511, 0.0001050951104843989, 0.0002677546872291714, 8.085286390269175e-05, 3.089964229729958e-05, 0.00017561255663167685, 6.593922444153577e-05, 4.916359830531292e-05, 5.658879308612086e-05, 0.010838731192052364, 0.011643579229712486, 0.012032822705805302, 0.01224782969802618, 0.012411464005708694, 0.012492404319345951, 0.012552623637020588, 0.012592647224664688, 0.01258010882884264, 0.01260648388415575, 0.0126265287399292, 0.0, 0.0, 0.0, 0.0, 0.0, 0.0, 0.0], [0.8498268127441406, 0.0041847811080515385, 4.853105201618746e-05, 0.0003019146097358316, 0.0002509478945285082, 0.0005759646883234382, 0.00017400315846316516, 0.0016782762249931693, 0.00028385076439008117, 0.000232487844186835, 0.00018494916730560362, 9.72109119175002e-05, 0.0002520079433452338, 7.523068779846653e-05, 2.8756712708855048e-05, 0.0001646189921302721, 6.161907367641106e-05, 4.5793934987159446e-05, 5.283683640300296e-05, 0.010371899232268333, 0.011157304048538208, 0.011539927683770657, 0.011754128150641918, 0.011918365955352783, 0.012002755887806416, 0.012066695839166641, 0.012111058458685875, 0.012104291468858719, 0.012134920805692673, 0.012159479781985283, 0.012158622033894062, 0.0, 0.0, 0.0, 0.0, 0.0, 0.0], [0.8439485430717468, 0.004015197977423668, 4.600166721502319e-05, 0.0002896989753935486, 0.00023753374989610165, 0.0005494765937328339, 0.00016456730372738093, 0.0015921200392767787, 0.00026975281070917845, 0.00021956385171506554, 0.0001751694653648883, 9.042604506248608e-05, 0.000238105290918611, 7.040380296530202e-05, 2.6906644052360207e-05, 0.00015498269931413233, 5.794241587864235e-05, 4.292581070330925e-05, 4.954404357704334e-05, 0.00994152668863535, 0.010705444030463696, 0.011079146526753902, 0.011290129274129868, 0.011452648788690567, 0.011538103222846985, 0.011603523045778275, 0.011650027707219124, 0.011646861210465431, 0.011679712682962418, 0.011706783436238766, 0.011709021404385567, 0.011758202686905861, 0.0, 0.0, 0.0, 0.0, 0.0], [0.8382173776626587, 0.0038616564124822617, 4.377632649266161e-05, 0.0002792456652969122, 0.00022552213340532035, 0.0005250420072115958, 0.0001557784271426499, 0.001512282295152545, 0.0002569579519331455, 0.00020736365695483983, 0.00016621682152617723, 8.423932013101876e-05, 0.00022531728609465063, 6.595576996915042e-05, 2.5192772227455862e-05, 0.00014602355076931417, 5.459786189021543e-05, 4.0250106394523755e-05, 4.653686119127087e-05, 0.009551563300192356, 0.010297966189682484, 0.010665293782949448, 0.010874941945075989, 0.011037399992346764, 0.01112526748329401, 0.011193426325917244, 0.011243174783885479, 0.011244552209973335, 0.01128070056438446, 0.011311294510960579, 0.01131751574575901, 0.011369545012712479, 0.011348133906722069, 0.0, 0.0, 0.0, 0.0], [0.8331174254417419, 0.003718244843184948, 4.179468669462949e-05, 0.00026889590662904084, 0.0002141742588719353, 0.0005032425397075713, 0.00014789140550419688, 0.0014409859431907535, 0.0002445130667183548, 0.00019655907817650586, 0.0001579060626681894, 7.872495916672051e-05, 0.00021318042126949877, 6.197121547302231e-05, 2.365307773288805e-05, 0.00013793753169011325, 5.138235792401247e-05, 3.785616718232632e-05, 4.377998993732035e-05, 0.009176496416330338, 0.009903458878397942, 0.010262585245072842, 0.010469064116477966, 0.010629715397953987, 0.010718235746026039, 0.010787444189190865, 0.010838809423148632, 0.010843120515346527, 0.010881014168262482, 0.010913599282503128, 0.010922339744865894, 0.010975734330713749, 0.010957744903862476, 0.011020473204553127, 0.0, 0.0, 0.0], [0.8283006548881531, 0.0035860904026776552, 3.989103061030619e-05, 0.00025912217097356915, 0.00020406382100190967, 0.00048248155508190393, 0.00014058190572541207, 0.001373850740492344, 0.00023379840422421694, 0.0001867200480774045, 0.0001503742823842913, 7.376773282885551e-05, 0.00020251750538591295, 5.838926153955981e-05, 2.2266549422056414e-05, 0.0001304636534769088, 4.864064248977229e-05, 3.5673172533279285e-05, 4.1298659198218957e-05, 0.008833096362650394, 0.009540921077132225, 0.009891456924378872, 0.010094087570905685, 0.010252200067043304, 0.010340539738535881, 0.010409969836473465, 0.010462122038006783, 0.010468513704836369, 0.010507388040423393, 0.010541210882365704, 0.010551732033491135, 0.010605801828205585, 0.010590478777885437, 0.01065342128276825, 0.010686501860618591, 0.0, 0.0], [0.8240783214569092, 0.0034487193915992975, 3.8155772926984355e-05, 0.0002495114167686552, 0.00019449100363999605, 0.0004629421455319971, 0.00013380780001170933, 0.0013121910160407424, 0.00022335002722684294, 0.00017747492529451847, 0.00014346967509482056, 6.923345063114539e-05, 0.00019251588673796505, 5.507646346813999e-05, 2.1004787413403392e-05, 0.00012380367843434215, 4.606618676916696e-05, 3.36692355631385e-05, 3.9055357774486765e-05, 0.008498385548591614, 0.009186066687107086, 0.009527157060801983, 0.009725111536681652, 0.00987989455461502, 0.009967207908630371, 0.010036082938313484, 0.010088251903653145, 0.010095941834151745, 0.010135055519640446, 0.010169368237257004, 0.010180939920246601, 0.01023495476692915, 0.010221581906080246, 0.010284056887030602, 0.010317633859813213, 0.010409430600702763, 0.0], [0.820073664188385, 0.003328838851302862, 3.6534642276819795e-05, 0.00024016521638259292, 0.00018576221191324294, 0.0004448189865797758, 0.0001276065013371408, 0.0012558187590911984, 0.00021379796089604497, 0.00016929091361816972, 0.00013710510393138975, 6.519890303025022e-05, 0.00018345448188483715, 5.210537710809149e-05, 1.9862520275637507e-05, 0.0001175792858703062, 4.371832255856134e-05, 3.186575122526847e-05, 3.699309309013188e-05, 0.0081892479211092, 0.008857314474880695, 0.009188800118863583, 0.009381603449583054, 0.009532537311315536, 0.009618173353374004, 0.009685833938419819, 0.009737337939441204, 0.009745610877871513, 0.009784313850104809, 0.009818470105528831, 0.009830443188548088, 0.009883800521492958, 0.00987169984728098, 0.009933145716786385, 0.009966650977730751, 0.01005675457417965, 0.010153978131711483]], [[1.0, 0.0, 0.0, 0.0, 0.0, 0.0, 0.0, 0.0, 0.0, 0.0, 0.0, 0.0, 0.0, 0.0, 0.0, 0.0, 0.0, 0.0, 0.0, 0.0, 0.0, 0.0, 0.0, 0.0, 0.0, 0.0, 0.0, 0.0, 0.0, 0.0, 0.0, 0.0, 0.0, 0.0, 0.0, 0.0, 0.0], [0.9976187348365784, 0.0023812619037926197, 0.0, 0.0, 0.0, 0.0, 0.0, 0.0, 0.0, 0.0, 0.0, 0.0, 0.0, 0.0, 0.0, 0.0, 0.0, 0.0, 0.0, 0.0, 0.0, 0.0, 0.0, 0.0, 0.0, 0.0, 0.0, 0.0, 0.0, 0.0, 0.0, 0.0, 0.0, 0.0, 0.0, 0.0, 0.0], [0.9989925026893616, 0.0008404817781411111, 0.00016696851525921375, 0.0, 0.0, 0.0, 0.0, 0.0, 0.0, 0.0, 0.0, 0.0, 0.0, 0.0, 0.0, 0.0, 0.0, 0.0, 0.0, 0.0, 0.0, 0.0, 0.0, 0.0, 0.0, 0.0, 0.0, 0.0, 0.0, 0.0, 0.0, 0.0, 0.0, 0.0, 0.0, 0.0, 0.0], [0.892186164855957, 0.038740284740924835, 0.0058240764774382114, 0.06324944645166397, 0.0, 0.0, 0.0, 0.0, 0.0, 0.0, 0.0, 0.0, 0.0, 0.0, 0.0, 0.0, 0.0, 0.0, 0.0, 0.0, 0.0, 0.0, 0.0, 0.0, 0.0, 0.0, 0.0, 0.0, 0.0, 0.0, 0.0, 0.0, 0.0, 0.0, 0.0, 0.0, 0.0], [0.8893607258796692, 0.017924563959240913, 0.005575536284595728, 0.03234478831291199, 0.05479438230395317, 0.0, 0.0, 0.0, 0.0, 0.0, 0.0, 0.0, 0.0, 0.0, 0.0, 0.0, 0.0, 0.0, 0.0, 0.0, 0.0, 0.0, 0.0, 0.0, 0.0, 0.0, 0.0, 0.0, 0.0, 0.0, 0.0, 0.0, 0.0, 0.0, 0.0, 0.0, 0.0], [0.9701098799705505, 0.00368655938655138, 0.003057187655940652, 0.0032533230260014534, 0.01111951656639576, 0.008773431181907654, 0.0, 0.0, 0.0, 0.0, 0.0, 0.0, 0.0, 0.0, 0.0, 0.0, 0.0, 0.0, 0.0, 0.0, 0.0, 0.0, 0.0, 0.0, 0.0, 0.0, 0.0, 0.0, 0.0, 0.0, 0.0, 0.0, 0.0, 0.0, 0.0, 0.0, 0.0], [0.9668970108032227, 0.0022688517346978188, 0.002284199232235551, 0.002354029566049576, 0.01057516224682331, 0.007588439155369997, 0.00803234800696373, 0.0, 0.0, 0.0, 0.0, 0.0, 0.0, 0.0, 0.0, 0.0, 0.0, 0.0, 0.0, 0.0, 0.0, 0.0, 0.0, 0.0, 0.0, 0.0, 0.0, 0.0, 0.0, 0.0, 0.0, 0.0, 0.0, 0.0, 0.0, 0.0, 0.0], [0.959749162197113, 0.00541354576125741, 0.0017781632486730814, 0.0020481327082961798, 0.009984724223613739, 0.0059543270617723465, 0.004164841026067734, 0.010906931944191456, 0.0, 0.0, 0.0, 0.0, 0.0, 0.0, 0.0, 0.0, 0.0, 0.0, 0.0, 0.0, 0.0, 0.0, 0.0, 0.0, 0.0, 0.0, 0.0, 0.0, 0.0, 0.0, 0.0, 0.0, 0.0, 0.0, 0.0, 0.0, 0.0], [0.9151819348335266, 0.010666606947779655, 0.002310989424586296, 0.014889228157699108, 0.01832142472267151, 0.015502285212278366, 0.005513923708349466, 0.008747517131268978, 0.008866043761372566, 0.0, 0.0, 0.0, 0.0, 0.0, 0.0, 0.0, 0.0, 0.0, 0.0, 0.0, 0.0, 0.0, 0.0, 0.0, 0.0, 0.0, 0.0, 0.0, 0.0, 0.0, 0.0, 0.0, 0.0, 0.0, 0.0, 0.0, 0.0], [0.9636877775192261, 0.0023366401437669992, 0.0010389708913862705, 0.004156141076236963, 0.0073235793970525265, 0.00590495252981782, 0.003724888898432255, 0.0014592738589271903, 0.007445821538567543, 0.002921933075413108, 0.0, 0.0, 0.0, 0.0, 0.0, 0.0, 0.0, 0.0, 0.0, 0.0, 0.0, 0.0, 0.0, 0.0, 0.0, 0.0, 0.0, 0.0, 0.0, 0.0, 0.0, 0.0, 0.0, 0.0, 0.0, 0.0, 0.0], [0.9177345037460327, 0.005953388288617134, 0.0004952543531544507, 0.002744601806625724, 0.003283924888819456, 0.03953659534454346, 0.015999292954802513, 0.0016212466871365905, 0.0018846982857212424, 0.003159568877890706, 0.007586997468024492, 0.0, 0.0, 0.0, 0.0, 0.0, 0.0, 0.0, 0.0, 0.0, 0.0, 0.0, 0.0, 0.0, 0.0, 0.0, 0.0, 0.0, 0.0, 0.0, 0.0, 0.0, 0.0, 0.0, 0.0, 0.0, 0.0], [0.9002794623374939, 0.005593935027718544, 0.00146381463855505, 0.005205659661442041, 0.007520824670791626, 0.006872689351439476, 0.020989155396819115, 0.00610489584505558, 0.012799017131328583, 0.0074983080849051476, 0.012589151039719582, 0.013083039782941341, 0.0, 0.0, 0.0, 0.0, 0.0, 0.0, 0.0, 0.0, 0.0, 0.0, 0.0, 0.0, 0.0, 0.0, 0.0, 0.0, 0.0, 0.0, 0.0, 0.0, 0.0, 0.0, 0.0, 0.0, 0.0], [0.6847860813140869, 0.06127135455608368, 0.005730535369366407, 0.019122162833809853, 0.031605951488018036, 0.07018319517374039, 0.02179594710469246, 0.02553892508149147, 0.012163245119154453, 0.009219184517860413, 0.0065973661839962006, 0.008334771730005741, 0.043651338666677475, 0.0, 0.0, 0.0, 0.0, 0.0, 0.0, 0.0, 0.0, 0.0, 0.0, 0.0, 0.0, 0.0, 0.0, 0.0, 0.0, 0.0, 0.0, 0.0, 0.0, 0.0, 0.0, 0.0, 0.0], [0.575879693031311, 0.01158982515335083, 0.005294513888657093, 0.0066151549108326435, 0.012580640614032745, 0.018715940415859222, 0.1313071995973587, 0.18867087364196777, 0.014252431690692902, 0.002235654043033719, 0.002460366813465953, 0.0059098354540765285, 0.017967335879802704, 0.006520576309412718, 0.0, 0.0, 0.0, 0.0, 0.0, 0.0, 0.0, 0.0, 0.0, 0.0, 0.0, 0.0, 0.0, 0.0, 0.0, 0.0, 0.0, 0.0, 0.0, 0.0, 0.0, 0.0, 0.0], [0.7395486831665039, 0.007227674592286348, 0.0013736390974372625, 0.0030850444454699755, 0.009543998166918755, 0.011682163923978806, 0.022263897582888603, 0.1308358758687973, 0.01295276079326868, 0.002811963902786374, 0.0033072656951844692, 0.001789031201042235, 0.013535351492464542, 0.003222549566999078, 0.03682013601064682, 0.0, 0.0, 0.0, 0.0, 0.0, 0.0, 0.0, 0.0, 0.0, 0.0, 0.0, 0.0, 0.0, 0.0, 0.0, 0.0, 0.0, 0.0, 0.0, 0.0, 0.0, 0.0], [0.7723709940910339, 0.010400675237178802, 0.001215132069773972, 0.010052355006337166, 0.017875557765364647, 0.005782604217529297, 0.007147614844143391, 0.012589086778461933, 0.01811816729605198, 0.058573223650455475, 0.0161798857152462, 0.005808526184409857, 0.05478510633111, 0.000760673894546926, 0.0015928966458886862, 0.006747521925717592, 0.0, 0.0, 0.0, 0.0, 0.0, 0.0, 0.0, 0.0, 0.0, 0.0, 0.0, 0.0, 0.0, 0.0, 0.0, 0.0, 0.0, 0.0, 0.0, 0.0, 0.0], [0.8534464836120605, 0.007520811166614294, 0.0006892958772368729, 0.006824481766670942, 0.01071999128907919, 0.013881162740290165, 0.008944518864154816, 0.007417880930006504, 0.0049278042279183865, 0.0321459025144577, 0.007310548797249794, 0.01573689840734005, 0.018673643469810486, 0.002662384882569313, 0.001465492881834507, 0.003334883600473404, 0.004297859035432339, 0.0, 0.0, 0.0, 0.0, 0.0, 0.0, 0.0, 0.0, 0.0, 0.0, 0.0, 0.0, 0.0, 0.0, 0.0, 0.0, 0.0, 0.0, 0.0, 0.0], [0.8578809499740601, 0.004129041451960802, 0.0009946873178705573, 0.007554851938039064, 0.008757301606237888, 0.009692992083728313, 0.007125820964574814, 0.0018795212963595986, 0.011045695282518864, 0.00979108177125454, 0.011339757591485977, 0.006111392751336098, 0.041659291833639145, 0.0036355985794216394, 0.0014918529195711017, 0.0008945080335251987, 0.010276591405272484, 0.005739110521972179, 0.0, 0.0, 0.0, 0.0, 0.0, 0.0, 0.0, 0.0, 0.0, 0.0, 0.0, 0.0, 0.0, 0.0, 0.0, 0.0, 0.0, 0.0, 0.0], [0.8191328048706055, 0.005289487540721893, 0.00026641032309271395, 0.0030192274134606123, 0.002195576671510935, 0.04058707877993584, 0.011353714391589165, 0.0015024066669866443, 0.001981717301532626, 0.006908392533659935, 0.00723000755533576, 0.05422887206077576, 0.01327192597091198, 0.02437739446759224, 0.002256816951557994, 0.0005966403405182064, 0.0010088153649121523, 0.0023849322460591793, 0.0024078302085399628, 0.0, 0.0, 0.0, 0.0, 0.0, 0.0, 0.0, 0.0, 0.0, 0.0, 0.0, 0.0, 0.0, 0.0, 0.0, 0.0, 0.0, 0.0], [0.8917428255081177, 0.00153943186160177, 0.00010822364856721833, 0.0012242798693478107, 0.0027268703561276197, 0.005124309100210667, 0.0008325812523253262, 0.001233234885148704, 0.0008800069917924702, 0.00047373969573527575, 0.0005245613865554333, 0.0010211189510300756, 0.0019540833309292793, 0.000462041178252548, 0.00013032594870310277, 0.0002903515996877104, 0.00024275151372421533, 0.00013694092922378331, 0.00012142120976932347, 0.08923090249300003, 0.0, 0.0, 0.0, 0.0, 0.0, 0.0, 0.0, 0.0, 0.0, 0.0, 0.0, 0.0, 0.0, 0.0, 0.0, 0.0, 0.0], [0.840648353099823, 0.001193793024867773, 7.895247108535841e-05, 0.0009164041839540005, 0.001951530808582902, 0.0040196143090724945, 0.0006274128099903464, 0.0009618425974622369, 0.0006530425744131207, 0.00033821631222963333, 0.0003851017099805176, 0.0007198319071903825, 0.0013881151098757982, 0.00034070893889293075, 9.622411744203418e-05, 0.0002103863807860762, 0.0001702969748293981, 9.381687414133921e-05, 8.52610610309057e-05, 0.06818433851003647, 0.07693662494421005, 0.0, 0.0, 0.0, 0.0, 0.0, 0.0, 0.0, 0.0, 0.0, 0.0, 0.0, 0.0, 0.0, 0.0, 0.0, 0.0], [0.7971005439758301, 0.0010115737095475197, 6.417735130526125e-05, 0.0007584990235045552, 0.0015674345195293427, 0.0034113568253815174, 0.0005203448818065226, 0.0008158043492585421, 0.0005379518261179328, 0.0002695602015592158, 0.0003135960141662508, 0.0005675528664141893, 0.0011147416662424803, 0.00027864155708812177, 7.938739872770384e-05, 0.00017012935131788254, 0.0001354564301436767, 7.324921898543835e-05, 6.792287604184821e-05, 0.057086773216724396, 0.06457176804542542, 0.06948361545801163, 0.0, 0.0, 0.0, 0.0, 0.0, 0.0, 0.0, 0.0, 0.0, 0.0, 0.0, 0.0, 0.0, 0.0, 0.0], [0.7594323754310608, 0.0008884791750460863, 5.459536623675376e-05, 0.0006548005039803684, 0.0013231257908046246, 0.002988126128911972, 0.00044860190246254206, 0.0007156130741350353, 0.0004633605421986431, 0.00022523563529830426, 0.0002662589540705085, 0.00046909486991353333, 0.0009435667307116091, 0.00023704224440734833, 6.822573050158098e-05, 0.0001436552411178127, 0.00011353557056281716, 6.028092320775613e-05, 5.677155058947392e-05, 0.049675293266773224, 0.05630016699433327, 0.06063982844352722, 0.06383194029331207, 0.0, 0.0, 0.0, 0.0, 0.0, 0.0, 0.0, 0.0, 0.0, 0.0, 0.0, 0.0, 0.0, 0.0], [0.7267597913742065, 0.0007936760084703565, 4.757024726131931e-05, 0.0005779900820925832, 0.001146751339547336, 0.002661616075783968, 0.0003947367367800325, 0.0006387942121364176, 0.0004081671650055796, 0.00019326845358591527, 0.00023171033535618335, 0.0003990257973782718, 0.0008206575294025242, 0.0002061927953036502, 5.992397927911952e-05, 0.0001244110899278894, 9.78637472144328e-05, 5.11389080202207e-05, 4.8793823225423694e-05, 0.04412839189171791, 0.05009114369750023, 0.05399349704384804, 0.0568661130964756, 0.059258848428726196, 0.0, 0.0, 0.0, 0.0, 0.0, 0.0, 0.0, 0.0, 0.0, 0.0, 0.0, 0.0, 0.0], [0.6976779103279114, 0.0007189440075308084, 4.230855483911e-05, 0.000518983171787113, 0.0010134732583537698, 0.0023975293152034283, 0.0003521263715811074, 0.0005770988063886762, 0.0003660456568468362, 0.00016907676763366908, 0.00020494847558438778, 0.00034504063660278916, 0.0007275882526300848, 0.00018189613183494657, 5.3416912123793736e-05, 0.00010955202742479742, 8.607501513324678e-05, 4.429528780747205e-05, 4.2695315642049536e-05, 0.03980720043182373, 0.04525577276945114, 0.04882248491048813, 0.05145275592803955, 0.05364638939499855, 0.05538633093237877, 0.0, 0.0, 0.0, 0.0, 0.0, 0.0, 0.0, 0.0, 0.0, 0.0, 0.0, 0.0], [0.671754777431488, 0.0006555686704814434, 3.799285332206637e-05, 0.00046987339737825096, 0.0009064836194738746, 0.0021757008507847786, 0.0003168433322571218, 0.0005253138951957226, 0.000331434712279588, 0.00014960704720579088, 0.00018306219135411084, 0.00030201615300029516, 0.000652962364256382, 0.00016168033471331, 4.79565242130775e-05, 9.744710405357182e-05, 7.658579852432013e-05, 3.8833561120554805e-05, 3.775900404434651e-05, 0.03628627955913544, 0.041311945766210556, 0.044603683054447174, 0.047035686671733856, 0.04906687140464783, 0.050681836903095245, 0.05209185555577278, 0.0, 0.0, 0.0, 0.0, 0.0, 0.0, 0.0, 0.0, 0.0, 0.0, 0.0], [0.6485902070999146, 0.0006020023720338941, 3.444518006290309e-05, 0.00042863242560997605, 0.0008183890022337437, 0.0019867727532982826, 0.0002872837649192661, 0.00048137689009308815, 0.0003027389757335186, 0.00013367021165322512, 0.000164955563377589, 0.00026665726909413934, 0.0005914303474128246, 0.00014482253754977137, 4.3385189201217145e-05, 8.75294063007459e-05, 6.884612957946956e-05, 3.439895954215899e-05, 3.370480771991424e-05, 0.03332950547337532, 0.037995848804712296, 0.041054461151361465, 0.04331859573721886, 0.045212358236312866, 0.04672178998589516, 0.048041049391031265, 0.049225155264139175, 0.0, 0.0, 0.0, 0.0, 0.0, 0.0, 0.0, 0.0, 0.0, 0.0], [0.6273325085639954, 0.000555965700186789, 3.147199095110409e-05, 0.00039355354965664446, 0.0007449789554812014, 0.0018223895458504558, 0.000261489738477394, 0.000442911172285676, 0.00027831830084323883, 0.00012032883387291804, 0.0001494597236160189, 0.00023681600578129292, 0.0005397219210863113, 0.00013033076538704336, 3.940584429074079e-05, 7.900837226770818e-05, 6.231525185285136e-05, 3.070259481319226e-05, 3.0270759452832863e-05, 0.03083467110991478, 0.03520023450255394, 0.03806495666503906, 0.040190357714891434, 0.041971057653427124, 0.04339440539479256, 0.044640056788921356, 0.04576032981276512, 0.04666198045015335, 0.0, 0.0, 0.0, 0.0, 0.0, 0.0, 0.0, 0.0, 0.0], [0.6082677841186523, 0.0005154723185114563, 2.8955952075193636e-05, 0.00036313553573563695, 0.0006823156145401299, 0.0016791247762739658, 0.00023965175205376, 0.00040997605537995696, 0.0002572996017988771, 0.00010900653433054686, 0.00013635502546094358, 0.000212038416066207, 0.0004955499898642302, 0.00011800431093433872, 3.6047815228812397e-05, 7.186693255789578e-05, 5.68157083762344e-05, 2.761573705356568e-05, 2.7411128030507825e-05, 0.028655976057052612, 0.032752856612205505, 0.03544393926858902, 0.037444569170475006, 0.0391232855618, 0.04046854376792908, 0.04164733737707138, 0.04270932450890541, 0.04356568679213524, 0.04445412755012512, 0.0, 0.0, 0.0, 0.0, 0.0, 0.0, 0.0, 0.0], [0.5906563401222229, 0.0004801308095920831, 2.6728972443379462e-05, 0.0003360658884048462, 0.0006285408744588494, 0.0015537305735051632, 0.00022044814249966294, 0.00038085354026407003, 0.00023894094920251518, 9.929721272783354e-05, 0.00012494622205849737, 0.0001907258410938084, 0.00045764684909954667, 0.00010731961810961366, 3.306863800389692e-05, 6.567590753547847e-05, 5.2052117098355666e-05, 2.4963184841908514e-05, 2.4931137886596844e-05, 0.026763206347823143, 0.03062378615140915, 0.0331619568169117, 0.03505231440067291, 0.036640752106904984, 0.037916477769613266, 0.039035599678754807, 0.04004544019699097, 0.04086102545261383, 0.041706815361976624, 0.04249018430709839, 0.0, 0.0, 0.0, 0.0, 0.0, 0.0, 0.0], [0.5743176937103271, 0.00044788981904275715, 2.4748605937929824e-05, 0.00031182882958091795, 0.000581095227971673, 0.0014398255152627826, 0.0002029463939834386, 0.00035404402296990156, 0.00022242976410780102, 9.063089964911342e-05, 0.00011473001359263435, 0.00017182706505991518, 0.00042370290611870587, 9.762690751813352e-05, 3.032008135051001e-05, 6.003593443892896e-05, 4.780004746862687e-05, 2.260784458485432e-05, 2.2722317225998268e-05, 0.025087352842092514, 0.028741171583533287, 0.031145911663770676, 0.03294025734066963, 0.03445010632276535, 0.03566555306315422, 0.03673302382230759, 0.03769775852560997, 0.03847843036055565, 0.039287589490413666, 0.040038079023361206, 0.04075024276971817, 0.0, 0.0, 0.0, 0.0, 0.0, 0.0], [0.5595000386238098, 0.00041980674723163247, 2.3033946490613744e-05, 0.0002904286084230989, 0.0005399506189860404, 0.0013406267389655113, 0.00018794392235577106, 0.00033086506300605834, 0.00020804189261980355, 8.322616486111656e-05, 0.00010596051288302988, 0.00015592604177072644, 0.0003943603078369051, 8.940947009250522e-05, 2.7985126507701352e-05, 5.526205131900497e-05, 4.4175332732265815e-05, 2.061668419628404e-05, 2.0849267457379028e-05, 0.023591700941324234, 0.027053216472268105, 0.029332218691706657, 0.031034715473651886, 0.0324685275554657, 0.03362440690398216, 0.03464023768901825, 0.035559315234422684, 0.03630360960960388, 0.03707486391067505, 0.037790898233652115, 0.0384703204035759, 0.03921746835112572, 0.0, 0.0, 0.0, 0.0, 0.0], [0.5454800128936768, 0.00039422372356057167, 2.1516158085432835e-05, 0.00027117968420498073, 0.0005032630870118737, 0.001248180982656777, 0.00017407481209374964, 0.00030941321165300906, 0.0001949776051333174, 7.65293589211069e-05, 9.793959907256067e-05, 0.00014151805953588337, 0.00036807527067139745, 8.17957115941681e-05, 2.5808187274378724e-05, 5.0830749387387186e-05, 4.0874518163036555e-05, 1.8823222490027547e-05, 1.9149754734826274e-05, 0.02224777452647686, 0.025540431961417198, 0.027710428461432457, 0.029334310442209244, 0.030703691765666008, 0.03181001543998718, 0.03278334438800812, 0.0336652472615242, 0.034380730241537094, 0.0351218655705452, 0.035810813307762146, 0.03646472468972206, 0.03718370199203491, 0.03772468492388725, 0.0, 0.0, 0.0, 0.0], [0.5323591232299805, 0.00037110550329089165, 2.0099843823118135e-05, 0.0002536445972509682, 0.0004706750041805208, 0.0011677254224196076, 0.0001618258684175089, 0.000290145690087229, 0.00018325979181099683, 7.06288919900544e-05, 9.091088577406481e-05, 0.00012908023199997842, 0.0003448514034971595, 7.523527892772108e-05, 2.387915264989715e-05, 4.693913797382265e-05, 3.795473458012566e-05, 1.7235861378139816e-05, 1.7655236661084928e-05, 0.02104240283370018, 0.024180321022868156, 0.02624928392469883, 0.027799298986792564, 0.0291074700653553, 0.030165819451212883, 0.031097544357180595, 0.03194255754351616, 0.03262877091765404, 0.033339351415634155, 0.03400060161948204, 0.034628186374902725, 0.03531840816140175, 0.03583851456642151, 0.036529358476400375, 0.0, 0.0, 0.0], [0.5205170512199402, 0.00035062801907770336, 1.8867380276788026e-05, 0.0002379604266025126, 0.0004414654104039073, 0.00109450938180089, 0.00015083493781276047, 0.0002728886902332306, 0.00017265196947846562, 6.538241723319516e-05, 8.458732918370515e-05, 0.00011815719335572794, 0.00032381602795794606, 6.939177546883002e-05, 2.214998494309839e-05, 4.344870467321016e-05, 3.534208008204587e-05, 1.5843594155739993e-05, 1.6327236153301783e-05, 0.019936852157115936, 0.022929102182388306, 0.02490232139825821, 0.026381896808743477, 0.027631442993879318, 0.02864345721900463, 0.029534785076975822, 0.03034389764070511, 0.031001297757029533, 0.03168191760778427, 0.032315824180841446, 0.03291746601462364, 0.03357934579253197, 0.03407862409949303, 0.03474092110991478, 0.03532949462532997, 0.0, 0.0], [0.5096207857131958, 0.00033114993129856884, 1.7726537407725118e-05, 0.00022363111202139407, 0.0004152853798586875, 0.001028638333082199, 0.0001410071417922154, 0.00025724925217218697, 0.00016313025844283402, 6.0725353250745684e-05, 7.907957478892058e-05, 0.00010861307964660227, 0.00030495281680487096, 6.422959268093109e-05, 2.0622257579816505e-05, 4.043020817334764e-05, 3.3053609513444826e-05, 1.4621864465880208e-05, 1.5178487046796363e-05, 0.018926260992884636, 0.021781861782073975, 0.02366478182375431, 0.02507740631699562, 0.026270946487784386, 0.02723824977874756, 0.02809043787419796, 0.02886446751654148, 0.029493317008018494, 0.030144423246383667, 0.030751187354326248, 0.031326889991760254, 0.031960707157850266, 0.03243877366185188, 0.033072784543037415, 0.033636558800935745, 0.03432082757353783, 0.0], [0.4993332624435425, 0.0003139148757327348, 1.6662173948134296e-05, 0.00021050428040325642, 0.00039163578185252845, 0.0009696610504761338, 0.000132131899590604, 0.00024283996026497334, 0.00015424937009811401, 5.6514130847062916e-05, 7.40102186682634e-05, 0.00010021396883530542, 0.0002879188978113234, 5.9652516938513145e-05, 1.9221712136641145e-05, 3.763317363336682e-05, 3.094268686254509e-05, 1.3519303138309624e-05, 1.4124248991720378e-05, 0.01800590753555298, 0.020735524594783783, 0.02253466658294201, 0.023884756490588188, 0.025025757029652596, 0.025950826704502106, 0.026765862479805946, 0.02750653401017189, 0.0281080212444067, 0.028730835765600204, 0.02931153029203415, 0.02986232377588749, 0.030469149351119995, 0.030926641076803207, 0.031533583998680115, 0.03207352012395859, 0.03272915259003639, 0.033386796712875366]], [[1.0, 0.0, 0.0, 0.0, 0.0, 0.0, 0.0, 0.0, 0.0, 0.0, 0.0, 0.0, 0.0, 0.0, 0.0, 0.0, 0.0, 0.0, 0.0, 0.0, 0.0, 0.0, 0.0, 0.0, 0.0, 0.0, 0.0, 0.0, 0.0, 0.0, 0.0, 0.0, 0.0, 0.0, 0.0, 0.0, 0.0], [0.9950703382492065, 0.004929679445922375, 0.0, 0.0, 0.0, 0.0, 0.0, 0.0, 0.0, 0.0, 0.0, 0.0, 0.0, 0.0, 0.0, 0.0, 0.0, 0.0, 0.0, 0.0, 0.0, 0.0, 0.0, 0.0, 0.0, 0.0, 0.0, 0.0, 0.0, 0.0, 0.0, 0.0, 0.0, 0.0, 0.0, 0.0, 0.0], [0.9991315007209778, 0.0007189435418695211, 0.00014954304788261652, 0.0, 0.0, 0.0, 0.0, 0.0, 0.0, 0.0, 0.0, 0.0, 0.0, 0.0, 0.0, 0.0, 0.0, 0.0, 0.0, 0.0, 0.0, 0.0, 0.0, 0.0, 0.0, 0.0, 0.0, 0.0, 0.0, 0.0, 0.0, 0.0, 0.0, 0.0, 0.0, 0.0, 0.0], [0.8716497421264648, 0.0473826602101326, 0.0022317231632769108, 0.07873585820198059, 0.0, 0.0, 0.0, 0.0, 0.0, 0.0, 0.0, 0.0, 0.0, 0.0, 0.0, 0.0, 0.0, 0.0, 0.0, 0.0, 0.0, 0.0, 0.0, 0.0, 0.0, 0.0, 0.0, 0.0, 0.0, 0.0, 0.0, 0.0, 0.0, 0.0, 0.0, 0.0, 0.0], [0.8652312159538269, 0.03694470599293709, 0.0019664007704705, 0.022107455879449844, 0.0737501010298729, 0.0, 0.0, 0.0, 0.0, 0.0, 0.0, 0.0, 0.0, 0.0, 0.0, 0.0, 0.0, 0.0, 0.0, 0.0, 0.0, 0.0, 0.0, 0.0, 0.0, 0.0, 0.0, 0.0, 0.0, 0.0, 0.0, 0.0, 0.0, 0.0, 0.0, 0.0, 0.0], [0.964424729347229, 0.006954202428460121, 0.0002638291916809976, 0.004171805921941996, 0.013714613392949104, 0.010470733977854252, 0.0, 0.0, 0.0, 0.0, 0.0, 0.0, 0.0, 0.0, 0.0, 0.0, 0.0, 0.0, 0.0, 0.0, 0.0, 0.0, 0.0, 0.0, 0.0, 0.0, 0.0, 0.0, 0.0, 0.0, 0.0, 0.0, 0.0, 0.0, 0.0, 0.0, 0.0], [0.9591314792633057, 0.0024996972642838955, 0.00017728473176248372, 0.002373020863160491, 0.009970697574317455, 0.007304662372916937, 0.01854305900633335, 0.0, 0.0, 0.0, 0.0, 0.0, 0.0, 0.0, 0.0, 0.0, 0.0, 0.0, 0.0, 0.0, 0.0, 0.0, 0.0, 0.0, 0.0, 0.0, 0.0, 0.0, 0.0, 0.0, 0.0, 0.0, 0.0, 0.0, 0.0, 0.0, 0.0], [0.9250668287277222, 0.004174827132374048, 0.0006249172729440033, 0.003247676882892847, 0.020734453573822975, 0.02142438106238842, 0.011490145698189735, 0.013236730359494686, 0.0, 0.0, 0.0, 0.0, 0.0, 0.0, 0.0, 0.0, 0.0, 0.0, 0.0, 0.0, 0.0, 0.0, 0.0, 0.0, 0.0, 0.0, 0.0, 0.0, 0.0, 0.0, 0.0, 0.0, 0.0, 0.0, 0.0, 0.0, 0.0], [0.8225665092468262, 0.006236561108380556, 0.003620362840592861, 0.03339312970638275, 0.02679780311882496, 0.03295901417732239, 0.015393832698464394, 0.021699028089642525, 0.037333738058805466, 0.0, 0.0, 0.0, 0.0, 0.0, 0.0, 0.0, 0.0, 0.0, 0.0, 0.0, 0.0, 0.0, 0.0, 0.0, 0.0, 0.0, 0.0, 0.0, 0.0, 0.0, 0.0, 0.0, 0.0, 0.0, 0.0, 0.0, 0.0], [0.9075759053230286, 0.0013489460106939077, 0.00041304188198409975, 0.005016956944018602, 0.02236461639404297, 0.013812423683702946, 0.010478267446160316, 0.0055361902341246605, 0.02509484626352787, 0.008358824998140335, 0.0, 0.0, 0.0, 0.0, 0.0, 0.0, 0.0, 0.0, 0.0, 0.0, 0.0, 0.0, 0.0, 0.0, 0.0, 0.0, 0.0, 0.0, 0.0, 0.0, 0.0, 0.0, 0.0, 0.0, 0.0, 0.0, 0.0], [0.9274693727493286, 0.004058790393173695, 0.0003137254389002919, 0.004915995988994837, 0.009374230168759823, 0.01197431143373251, 0.007662847172468901, 0.006696384400129318, 0.009804327972233295, 0.004516685847193003, 0.013213356025516987, 0.0, 0.0, 0.0, 0.0, 0.0, 0.0, 0.0, 0.0, 0.0, 0.0, 0.0, 0.0, 0.0, 0.0, 0.0, 0.0, 0.0, 0.0, 0.0, 0.0, 0.0, 0.0, 0.0, 0.0, 0.0, 0.0], [0.8874677419662476, 0.006720374803990126, 6.51369773549959e-05, 0.0025878953747451305, 0.01685658097267151, 0.0062334416434168816, 0.02241583541035652, 0.02646113745868206, 0.014711273834109306, 0.001458136597648263, 0.0067708357237279415, 0.008251551538705826, 0.0, 0.0, 0.0, 0.0, 0.0, 0.0, 0.0, 0.0, 0.0, 0.0, 0.0, 0.0, 0.0, 0.0, 0.0, 0.0, 0.0, 0.0, 0.0, 0.0, 0.0, 0.0, 0.0, 0.0, 0.0], [0.49478328227996826, 0.033549483865499496, 0.0021904550958424807, 0.014703372493386269, 0.017519285902380943, 0.20207418501377106, 0.09609106928110123, 0.04400860145688057, 0.009120470844209194, 0.006862035486847162, 0.0026571028865873814, 0.037064921110868454, 0.039375633001327515, 0.0, 0.0, 0.0, 0.0, 0.0, 0.0, 0.0, 0.0, 0.0, 0.0, 0.0, 0.0, 0.0, 0.0, 0.0, 0.0, 0.0, 0.0, 0.0, 0.0, 0.0, 0.0, 0.0, 0.0], [0.5328901410102844, 0.008209417574107647, 0.0013725387398153543, 0.008698465302586555, 0.009051012806594372, 0.01566886715590954, 0.1377716362476349, 0.22525614500045776, 0.019009999930858612, 0.0033793519251048565, 0.001365498173981905, 0.004478554241359234, 0.026459340006113052, 0.006389106623828411, 0.0, 0.0, 0.0, 0.0, 0.0, 0.0, 0.0, 0.0, 0.0, 0.0, 0.0, 0.0, 0.0, 0.0, 0.0, 0.0, 0.0, 0.0, 0.0, 0.0, 0.0, 0.0, 0.0], [0.6911267638206482, 0.0035192929208278656, 0.0011958825634792447, 0.008040265180170536, 0.011956916190683842, 0.01957535557448864, 0.05717715620994568, 0.1050686240196228, 0.028237920254468918, 0.004784469958394766, 0.004457745235413313, 0.005127545911818743, 0.023985130712389946, 0.0028023512568324804, 0.03294462710618973, 0.0, 0.0, 0.0, 0.0, 0.0, 0.0, 0.0, 0.0, 0.0, 0.0, 0.0, 0.0, 0.0, 0.0, 0.0, 0.0, 0.0, 0.0, 0.0, 0.0, 0.0, 0.0], [0.6051464676856995, 0.0025844064075499773, 0.0006412877701222897, 0.010774349793791771, 0.016038060188293457, 0.03871035575866699, 0.023694010451436043, 0.026972759515047073, 0.06558077037334442, 0.03663094714283943, 0.021934354677796364, 0.02276158146560192, 0.1090308278799057, 0.007263280916959047, 0.0029750822577625513, 0.00926151778548956, 0.0, 0.0, 0.0, 0.0, 0.0, 0.0, 0.0, 0.0, 0.0, 0.0, 0.0, 0.0, 0.0, 0.0, 0.0, 0.0, 0.0, 0.0, 0.0, 0.0, 0.0], [0.707656741142273, 0.0031761431600898504, 0.001084740273654461, 0.01188107579946518, 0.01270654983818531, 0.023211471736431122, 0.017383785918354988, 0.023099014535546303, 0.028931478038430214, 0.0274825319647789, 0.012878392823040485, 0.016484364867210388, 0.06330611556768417, 0.003659354755654931, 0.0036987457424402237, 0.009769737720489502, 0.03358980268239975, 0.0, 0.0, 0.0, 0.0, 0.0, 0.0, 0.0, 0.0, 0.0, 0.0, 0.0, 0.0, 0.0, 0.0, 0.0, 0.0, 0.0, 0.0, 0.0, 0.0], [0.6397749185562134, 0.001925842952914536, 0.0007456503808498383, 0.010434620082378387, 0.02687796577811241, 0.026218539103865623, 0.030048182234168053, 0.009843979962170124, 0.034419719129800797, 0.020653219893574715, 0.02748449146747589, 0.02466701529920101, 0.08080146461725235, 0.007933332584798336, 0.006041534710675478, 0.010203051380813122, 0.03159479424357414, 0.010331595316529274, 0.0, 0.0, 0.0, 0.0, 0.0, 0.0, 0.0, 0.0, 0.0, 0.0, 0.0, 0.0, 0.0, 0.0, 0.0, 0.0, 0.0, 0.0, 0.0], [0.5226122140884399, 0.002717458177357912, 0.00035370749537833035, 0.008260556496679783, 0.008944820612668991, 0.046574197709560394, 0.020235124975442886, 0.008425264619290829, 0.018907543271780014, 0.019715793430805206, 0.030582299456000328, 0.14262130856513977, 0.10109379142522812, 0.0225149504840374, 0.0063411579467356205, 0.004445579368621111, 0.017456738278269768, 0.0057300180196762085, 0.01246738899499178, 0.0, 0.0, 0.0, 0.0, 0.0, 0.0, 0.0, 0.0, 0.0, 0.0, 0.0, 0.0, 0.0, 0.0, 0.0, 0.0, 0.0, 0.0], [0.9164468050003052, 0.0017581343417987227, 0.00010219666000921279, 0.0005418435903266072, 0.0017735279398038983, 0.00936981476843357, 0.002881695982068777, 0.0018264130922034383, 0.0021450133062899113, 0.0009473194950260222, 0.0006044082692824304, 0.0021673887968063354, 0.0028267770539969206, 0.0015789292519912124, 0.0005734504084102809, 0.00024116068379953504, 0.0005378905916586518, 0.0001423534849891439, 0.00011584618914639577, 0.0534190870821476, 0.0, 0.0, 0.0, 0.0, 0.0, 0.0, 0.0, 0.0, 0.0, 0.0, 0.0, 0.0, 0.0, 0.0, 0.0, 0.0, 0.0], [0.8906521201133728, 0.0013452094281092286, 7.348001963691786e-05, 0.0004053169977851212, 0.0012681942898780107, 0.00700350059196353, 0.0021587414667010307, 0.0014006947167217731, 0.001565495040267706, 0.000707824423443526, 0.0004397430457174778, 0.0014479925157502294, 0.0019966799300163984, 0.0010775071568787098, 0.00040435988921672106, 0.00016742845764383674, 0.0003755751240532845, 9.97650422505103e-05, 7.997683860594407e-05, 0.04051651433110237, 0.04681390896439552, 0.0, 0.0, 0.0, 0.0, 0.0, 0.0, 0.0, 0.0, 0.0, 0.0, 0.0, 0.0, 0.0, 0.0, 0.0, 0.0], [0.8662542104721069, 0.001129529788158834, 5.897123264730908e-05, 0.00033267837716266513, 0.0010138857178390026, 0.00581379234790802, 0.0017922844272106886, 0.0011677936417981982, 0.0012679260689765215, 0.0005810715374536812, 0.00035732524702325463, 0.0011167144402861595, 0.0015666729304939508, 0.0008428823202848434, 0.0003237098571844399, 0.00013063428923487663, 0.0002945888554677367, 7.916247704997659e-05, 6.311534525593743e-05, 0.03366729989647865, 0.03903515636920929, 0.043110575526952744, 0.0, 0.0, 0.0, 0.0, 0.0, 0.0, 0.0, 0.0, 0.0, 0.0, 0.0, 0.0, 0.0, 0.0, 0.0], [0.8439531922340393, 0.000983753940090537, 4.943887688568793e-05, 0.00028413612744770944, 0.0008505812147632241, 0.00503518246114254, 0.0015517412684857845, 0.0010058284970000386, 0.0010727758053690195, 0.0004946120898239315, 0.00030370085733011365, 0.00091306067770347, 0.0012900722213089466, 0.0006961727631278336, 0.00027223245706409216, 0.00010695419769035652, 0.0002423082769382745, 6.571278208866715e-05, 5.245133797870949e-05, 0.029101407155394554, 0.03383970260620117, 0.03742274269461632, 0.04041234031319618, 0.0, 0.0, 0.0, 0.0, 0.0, 0.0, 0.0, 0.0, 0.0, 0.0, 0.0, 0.0, 0.0, 0.0], [0.8240178227424622, 0.0008713116985745728, 4.239318150212057e-05, 0.0002473358472343534, 0.0007316475966945291, 0.004442077130079269, 0.0013673019129782915, 0.000880770618095994, 0.0009289107983931899, 0.00042991992086172104, 0.00026474572950974107, 0.0007693053921684623, 0.0010909957345575094, 0.0005904744612053037, 0.0002342886000405997, 8.992294169729576e-05, 0.000204756113816984, 5.595313268713653e-05, 4.48763275926467e-05, 0.02567538619041443, 0.029925117269158363, 0.033129993826150894, 0.035802289843559265, 0.03816225752234459, 0.0, 0.0, 0.0, 0.0, 0.0, 0.0, 0.0, 0.0, 0.0, 0.0, 0.0, 0.0, 0.0], [0.8054996728897095, 0.0007827877416275442, 3.7017289287177846e-05, 0.00021934874530415982, 0.0006416526739485562, 0.0039793942123651505, 0.001223285566084087, 0.0007806526264175773, 0.0008187819039449096, 0.0003795594675466418, 0.00023487819998990744, 0.0006617078324779868, 0.0009423803421668708, 0.0005108678014948964, 0.00020519114332273602, 7.704771996941417e-05, 0.00017634716641623527, 4.847119635087438e-05, 3.9128637581598014e-05, 0.02303474023938179, 0.026910321786999702, 0.029828384518623352, 0.032261770218610764, 0.034412093460559845, 0.03629462420940399, 0.0, 0.0, 0.0, 0.0, 0.0, 0.0, 0.0, 0.0, 0.0, 0.0, 0.0, 0.0], [0.7885500192642212, 0.0007090002181939781, 3.270879460615106e-05, 0.00019613975018728524, 0.000569554278627038, 0.0036038674879819155, 0.0011052412446588278, 0.0006980015896260738, 0.0007303318125195801, 0.0003382221912033856, 0.00021102088794577867, 0.0005778601043857634, 0.0008251469698734581, 0.0004481743962969631, 0.0001816936128307134, 6.69261789880693e-05, 0.00015397387323901057, 4.247207471053116e-05, 3.4575055906316265e-05, 0.020882150158286095, 0.024447157979011536, 0.027128539979457855, 0.029365379363298416, 0.03134358674287796, 0.03307580575346947, 0.03468235582113266, 0.0, 0.0, 0.0, 0.0, 0.0, 0.0, 0.0, 0.0, 0.0, 0.0, 0.0], [0.772936999797821, 0.000646187225356698, 2.9132233976270072e-05, 0.00017690104141365737, 0.0005103407893329859, 0.003284258535131812, 0.0010053401347249746, 0.0006278212531469762, 0.000657243886962533, 0.00030368936131708324, 0.00019106232502963394, 0.000508716853801161, 0.000730232335627079, 0.00039643418858759105, 0.0001621387345949188, 5.867998697794974e-05, 0.00013572828902397305, 3.7494672142202035e-05, 3.079401722061448e-05, 0.019085301086306572, 0.02238810621201992, 0.02487022429704666, 0.02694186009466648, 0.028775472193956375, 0.030381638556718826, 0.0318717360496521, 0.0332564078271389, 0.0, 0.0, 0.0, 0.0, 0.0, 0.0, 0.0, 0.0, 0.0, 0.0], [0.7581270933151245, 0.0005924119031988084, 2.613132346596103e-05, 0.0001606751320650801, 0.00046100205508992076, 0.00301429838873446, 0.0009203770896419883, 0.0005678853485733271, 0.0005958944093436003, 0.0002744930679909885, 0.00017419428331777453, 0.000451767846243456, 0.0006524288328364491, 0.00035378665779717267, 0.000145692378282547, 5.184344627195969e-05, 0.00012057688581990078, 3.3331147278659046e-05, 2.762071198958438e-05, 0.017578095197677612, 0.020663093775510788, 0.022980816662311554, 0.024916913360357285, 0.026632491499185562, 0.028136413544416428, 0.029532473534345627, 0.030831353738904, 0.031976789236068726, 0.0, 0.0, 0.0, 0.0, 0.0, 0.0, 0.0, 0.0, 0.0], [0.7447680830955505, 0.0005448046722449362, 2.359721838729456e-05, 0.00014646783529315144, 0.00041893983143381774, 0.0027747133281081915, 0.0008445140556432307, 0.0005159315187484026, 0.0005429902812466025, 0.0002494625805411488, 0.00015983841149136424, 0.0004038421902805567, 0.0005863073165528476, 0.000317496684147045, 0.00013152262545190752, 4.6137181925587356e-05, 0.00010786037455545738, 2.9854496460757218e-05, 2.4985127311083488e-05, 0.01625083200633526, 0.019137151539325714, 0.021305067464709282, 0.02311743050813675, 0.02472503110766411, 0.02613523229956627, 0.027445008978247643, 0.028664952144026756, 0.02974027954041958, 0.030841661617159843, 0.0, 0.0, 0.0, 0.0, 0.0, 0.0, 0.0, 0.0], [0.7323662638664246, 0.0005035502836108208, 2.140877586498391e-05, 0.00013401314208749682, 0.00038264054455794394, 0.00256868707947433, 0.0007789758965373039, 0.0004707110929302871, 0.0004974052426405251, 0.0002277830062666908, 0.00014723069034516811, 0.0003631108847912401, 0.0005299650365486741, 0.00028681717230938375, 0.00011938749958062544, 4.13106354244519e-05, 9.704589319881052e-05, 2.6859073841478676e-05, 2.268057141918689e-05, 0.015088691376149654, 0.017798032611608505, 0.019832538440823555, 0.021534550935029984, 0.023045694455504417, 0.024372080340981483, 0.02560456469655037, 0.0267536249011755, 0.027766026556491852, 0.028803426772356033, 0.02981487102806568, 0.0, 0.0, 0.0, 0.0, 0.0, 0.0, 0.0], [0.7205266952514648, 0.0004665849555749446, 1.950689693330787e-05, 0.00012318913650233299, 0.000350904738297686, 0.002382964827120304, 0.0007203415152616799, 0.00043063913471996784, 0.00045707152457907796, 0.00020847856649197638, 0.0001358379959128797, 0.0003272439062129706, 0.0004810811660718173, 0.0002597725542727858, 0.00010866302181966603, 3.708999065565877e-05, 8.7596352386754e-05, 2.42201622313587e-05, 2.0623165255528875e-05, 0.014068426564335823, 0.01662423089146614, 0.01854332536458969, 0.020150097087025642, 0.021578073501586914, 0.022832464426755905, 0.023998726159334183, 0.025087205693125725, 0.026046089828014374, 0.02702905423939228, 0.02798807993531227, 0.02888578735291958, 0.0, 0.0, 0.0, 0.0, 0.0, 0.0], [0.7097873091697693, 0.00043400569120422006, 1.7856604245025665e-05, 0.00011367847764631733, 0.00032335074502043426, 0.0022180811502039433, 0.0006681262166239321, 0.0003959460591431707, 0.0004220753035042435, 0.00019184280245099217, 0.00012587358651217073, 0.0002965383173432201, 0.000438999617472291, 0.00023656687699258327, 9.936559945344925e-05, 3.3523949241498485e-05, 7.954298780532554e-05, 2.197317371610552e-05, 1.8854001609724946e-05, 0.013155490159988403, 0.015566892921924591, 0.017376702278852463, 0.018892481923103333, 0.020240409299731255, 0.02142483927309513, 0.02252630516886711, 0.023555047810077667, 0.024460704997181892, 0.02538943476974964, 0.026296040043234825, 0.027144258841872215, 0.02804790437221527, 0.0, 0.0, 0.0, 0.0, 0.0], [0.6993663907051086, 0.00040410534711554646, 1.6387622963520698e-05, 0.00010521143121877685, 0.0002986298641189933, 0.0020669721998274326, 0.0006204947712831199, 0.0003640838258434087, 0.0003902169701177627, 0.00017680347082205117, 0.00011674801498884335, 0.00026907012215815485, 0.0004016197635792196, 0.00021564793132711202, 9.09492009668611e-05, 3.0315486583276652e-05, 7.234393706312403e-05, 1.996679202420637e-05, 1.7253241821890697e-05, 0.012338293716311455, 0.014623783528804779, 0.0163391325622797, 0.01777694746851921, 0.019056817516684532, 0.020182359963655472, 0.02122974582016468, 0.022208908572793007, 0.023070961236953735, 0.02395528554916382, 0.02481914684176445, 0.025627397000789642, 0.026489395648241043, 0.027238626033067703, 0.0, 0.0, 0.0, 0.0], [0.6897023916244507, 0.00037823201273567975, 1.5106167666090187e-05, 9.757280349731445e-05, 0.0002770563296508044, 0.001937562832608819, 0.0005794484750367701, 0.0003368280304130167, 0.0003626545367296785, 0.00016365884221158922, 0.0001087843265850097, 0.0002456149668432772, 0.00036901957355439663, 0.00019782109302468598, 8.370777504751459e-05, 2.7599764507613145e-05, 6.61786543787457e-05, 1.822667763917707e-05, 1.58599614223931e-05, 0.011602836661040783, 0.01377057284116745, 0.015397101640701294, 0.016761062666773796, 0.017975950613617897, 0.01904478296637535, 0.02003968134522438, 0.020970419049263, 0.021789465099573135, 0.022629981860518456, 0.023451490327715874, 0.02421984262764454, 0.02504035271704197, 0.02575291134417057, 0.026570165529847145, 0.0, 0.0, 0.0], [0.6810461282730103, 0.00035449748975224793, 1.3950102584203705e-05, 9.076263813767582e-05, 0.00025747009203769267, 0.0018136589787900448, 0.0005409854929894209, 0.000312076328555122, 0.0003370758786331862, 0.00015181077469605953, 0.00010128490976057947, 0.0002243279741378501, 0.00033955296385101974, 0.0001815632713260129, 7.71313498262316e-05, 2.514419065846596e-05, 6.0571353969862685e-05, 1.6672378478688188e-05, 1.4579372873413377e-05, 0.010923654772341251, 0.012980608269572258, 0.01452325377613306, 0.015817144885659218, 0.01697015017271042, 0.017984798178076744, 0.018929431214928627, 0.01981361024081707, 0.02059125527739525, 0.02138952538371086, 0.02217009663581848, 0.02289987914264202, 0.023680169135332108, 0.024357091635465622, 0.025134412571787834, 0.0258757583796978, 0.0, 0.0], [0.6731486916542053, 0.00033279971103183925, 1.2945535672770347e-05, 8.454665658064187e-05, 0.0002400864177616313, 0.0017045000568032265, 0.0005058152019046247, 0.00029011876904405653, 0.0003146103990729898, 0.0001414928847225383, 9.483443136559799e-05, 0.00020595124806277454, 0.0003139031177852303, 0.0001674129016464576, 7.126206037355587e-05, 2.307126487721689e-05, 5.582434459938668e-05, 1.5353685739682987e-05, 1.3497527106665075e-05, 0.010304847732186317, 0.012256961315870285, 0.013720025308430195, 0.014947188086807728, 0.01604105532169342, 0.017003649845719337, 0.017899859696626663, 0.018739020451903343, 0.01947641931474209, 0.02023366652429104, 0.020974352955818176, 0.021666428074240685, 0.02240736596286297, 0.023049237206578255, 0.023787401616573334, 0.02449129708111286, 0.025264522060751915, 0.0], [0.6657283306121826, 0.00031352287624031305, 1.2032585800625384e-05, 7.897384784882888e-05, 0.0002244085626443848, 0.001604184857569635, 0.00047396039008162916, 0.00027051809593103826, 0.00029400887433439493, 0.00013195633073337376, 8.869027806213126e-05, 0.00018947986245620996, 0.00029076874488964677, 0.000154804321937263, 6.606086390092969e-05, 2.120328827004414e-05, 5.149640855961479e-05, 1.4142766303848475e-05, 1.2485053957789205e-05, 0.00974152609705925, 0.011596962809562683, 0.012986323796212673, 0.01415140088647604, 0.015190022066235542, 0.01610380783677101, 0.016954444348812103, 0.01775112934410572, 0.01845044083893299, 0.019168788567185402, 0.019871650263667107, 0.02052786946296692, 0.02123139053583145, 0.021839791908860207, 0.022540638223290443, 0.02320885844528675, 0.02394377626478672, 0.02471998520195484]], [[1.0, 0.0, 0.0, 0.0, 0.0, 0.0, 0.0, 0.0, 0.0, 0.0, 0.0, 0.0, 0.0, 0.0, 0.0, 0.0, 0.0, 0.0, 0.0, 0.0, 0.0, 0.0, 0.0, 0.0, 0.0, 0.0, 0.0, 0.0, 0.0, 0.0, 0.0, 0.0, 0.0, 0.0, 0.0, 0.0, 0.0], [0.9698622226715088, 0.03013775125145912, 0.0, 0.0, 0.0, 0.0, 0.0, 0.0, 0.0, 0.0, 0.0, 0.0, 0.0, 0.0, 0.0, 0.0, 0.0, 0.0, 0.0, 0.0, 0.0, 0.0, 0.0, 0.0, 0.0, 0.0, 0.0, 0.0, 0.0, 0.0, 0.0, 0.0, 0.0, 0.0, 0.0, 0.0, 0.0], [0.971126914024353, 0.028067151084542274, 0.0008059270912781358, 0.0, 0.0, 0.0, 0.0, 0.0, 0.0, 0.0, 0.0, 0.0, 0.0, 0.0, 0.0, 0.0, 0.0, 0.0, 0.0, 0.0, 0.0, 0.0, 0.0, 0.0, 0.0, 0.0, 0.0, 0.0, 0.0, 0.0, 0.0, 0.0, 0.0, 0.0, 0.0, 0.0, 0.0], [0.6148940920829773, 0.12213988602161407, 0.013094529509544373, 0.24987155199050903, 0.0, 0.0, 0.0, 0.0, 0.0, 0.0, 0.0, 0.0, 0.0, 0.0, 0.0, 0.0, 0.0, 0.0, 0.0, 0.0, 0.0, 0.0, 0.0, 0.0, 0.0, 0.0, 0.0, 0.0, 0.0, 0.0, 0.0, 0.0, 0.0, 0.0, 0.0, 0.0, 0.0], [0.5545939803123474, 0.058656711131334305, 0.006611591670662165, 0.20719854533672333, 0.17293913662433624, 0.0, 0.0, 0.0, 0.0, 0.0, 0.0, 0.0, 0.0, 0.0, 0.0, 0.0, 0.0, 0.0, 0.0, 0.0, 0.0, 0.0, 0.0, 0.0, 0.0, 0.0, 0.0, 0.0, 0.0, 0.0, 0.0, 0.0, 0.0, 0.0, 0.0, 0.0, 0.0], [0.8282882571220398, 0.02471243590116501, 0.006271452642977238, 0.02870076149702072, 0.07132291048765182, 0.04070411995053291, 0.0, 0.0, 0.0, 0.0, 0.0, 0.0, 0.0, 0.0, 0.0, 0.0, 0.0, 0.0, 0.0, 0.0, 0.0, 0.0, 0.0, 0.0, 0.0, 0.0, 0.0, 0.0, 0.0, 0.0, 0.0, 0.0, 0.0, 0.0, 0.0, 0.0, 0.0], [0.8856794834136963, 0.012954256497323513, 0.0016811867244541645, 0.010600730776786804, 0.0526810958981514, 0.0217729602009058, 0.014630206860601902, 0.0, 0.0, 0.0, 0.0, 0.0, 0.0, 0.0, 0.0, 0.0, 0.0, 0.0, 0.0, 0.0, 0.0, 0.0, 0.0, 0.0, 0.0, 0.0, 0.0, 0.0, 0.0, 0.0, 0.0, 0.0, 0.0, 0.0, 0.0, 0.0, 0.0], [0.8733875751495361, 0.014793045818805695, 0.0016466934466734529, 0.011566047556698322, 0.05201735720038414, 0.019153602421283722, 0.012752237729728222, 0.014683518558740616, 0.0, 0.0, 0.0, 0.0, 0.0, 0.0, 0.0, 0.0, 0.0, 0.0, 0.0, 0.0, 0.0, 0.0, 0.0, 0.0, 0.0, 0.0, 0.0, 0.0, 0.0, 0.0, 0.0, 0.0, 0.0, 0.0, 0.0, 0.0, 0.0], [0.7588720321655273, 0.008939974941313267, 0.009916756302118301, 0.0981469675898552, 0.025681328028440475, 0.00428008520975709, 0.004883323330432177, 0.011546239256858826, 0.07773332297801971, 0.0, 0.0, 0.0, 0.0, 0.0, 0.0, 0.0, 0.0, 0.0, 0.0, 0.0, 0.0, 0.0, 0.0, 0.0, 0.0, 0.0, 0.0, 0.0, 0.0, 0.0, 0.0, 0.0, 0.0, 0.0, 0.0, 0.0, 0.0], [0.8125602602958679, 0.008760327473282814, 0.0003045864577870816, 0.008969064801931381, 0.016186196357011795, 0.004428069572895765, 0.00438202079385519, 0.00720451632514596, 0.05589156225323677, 0.0813133493065834, 0.0, 0.0, 0.0, 0.0, 0.0, 0.0, 0.0, 0.0, 0.0, 0.0, 0.0, 0.0, 0.0, 0.0, 0.0, 0.0, 0.0, 0.0, 0.0, 0.0, 0.0, 0.0, 0.0, 0.0, 0.0, 0.0, 0.0], [0.6447979807853699, 0.029310448095202446, 0.0015576531877741218, 0.020227545872330666, 0.014674554578959942, 0.0586458295583725, 0.02380984090268612, 0.01820339262485504, 0.03686698526144028, 0.08077298104763031, 0.07113276422023773, 0.0, 0.0, 0.0, 0.0, 0.0, 0.0, 0.0, 0.0, 0.0, 0.0, 0.0, 0.0, 0.0, 0.0, 0.0, 0.0, 0.0, 0.0, 0.0, 0.0, 0.0, 0.0, 0.0, 0.0, 0.0, 0.0], [0.5243574976921082, 0.01196362916380167, 0.0008931111078709364, 0.010193683207035065, 0.034049808979034424, 0.0021666784305125475, 0.0016034957952797413, 0.007036210969090462, 0.11811603605747223, 0.12383605539798737, 0.16398528218269348, 0.0017984985606744885, 0.0, 0.0, 0.0, 0.0, 0.0, 0.0, 0.0, 0.0, 0.0, 0.0, 0.0, 0.0, 0.0, 0.0, 0.0, 0.0, 0.0, 0.0, 0.0, 0.0, 0.0, 0.0, 0.0, 0.0, 0.0], [0.7106892466545105, 0.03187716007232666, 0.008116012439131737, 0.03717776760458946, 0.04871920868754387, 0.0039229318499565125, 0.004557339940220118, 0.010686504654586315, 0.0284026600420475, 0.014382957480847836, 0.011997217312455177, 0.00211026007309556, 0.08736074715852737, 0.0, 0.0, 0.0, 0.0, 0.0, 0.0, 0.0, 0.0, 0.0, 0.0, 0.0, 0.0, 0.0, 0.0, 0.0, 0.0, 0.0, 0.0, 0.0, 0.0, 0.0, 0.0, 0.0, 0.0], [0.4818134903907776, 0.009016178548336029, 0.004410907626152039, 0.0337991788983345, 0.0382591187953949, 0.0014843079261481762, 0.005815744400024414, 0.07265353202819824, 0.13300663232803345, 0.07144556194543839, 0.06505149602890015, 0.0015481009613722563, 0.08063613623380661, 0.0010595652274787426, 0.0, 0.0, 0.0, 0.0, 0.0, 0.0, 0.0, 0.0, 0.0, 0.0, 0.0, 0.0, 0.0, 0.0, 0.0, 0.0, 0.0, 0.0, 0.0, 0.0, 0.0, 0.0, 0.0], [0.6992337107658386, 0.005373853724449873, 0.0013172366889193654, 0.022041816264390945, 0.03454648703336716, 0.003824121318757534, 0.007413627579808235, 0.047284044325351715, 0.05038958042860031, 0.028387144207954407, 0.035480599850416183, 0.0028671117033809423, 0.05085746943950653, 0.0011576907709240913, 0.009825503453612328, 0.0, 0.0, 0.0, 0.0, 0.0, 0.0, 0.0, 0.0, 0.0, 0.0, 0.0, 0.0, 0.0, 0.0, 0.0, 0.0, 0.0, 0.0, 0.0, 0.0, 0.0, 0.0], [0.23387262225151062, 0.002422650810331106, 0.0016103234374895692, 0.027853457257151604, 0.015281569212675095, 0.0009591830894351006, 0.004009912721812725, 0.017343610525131226, 0.1742384433746338, 0.2900274693965912, 0.08890646696090698, 0.0017033980693668127, 0.08701234310865402, 0.000528117292560637, 0.0041320910677313805, 0.05009834095835686, 0.0, 0.0, 0.0, 0.0, 0.0, 0.0, 0.0, 0.0, 0.0, 0.0, 0.0, 0.0, 0.0, 0.0, 0.0, 0.0, 0.0, 0.0, 0.0, 0.0, 0.0], [0.45470765233039856, 0.005008435808122158, 0.0010244253790006042, 0.021408705040812492, 0.009402355179190636, 0.0021558371372520924, 0.005532959941774607, 0.012598671019077301, 0.04891638457775116, 0.2247883677482605, 0.0858757272362709, 0.0076596993021667, 0.03219412639737129, 0.0010315300896763802, 0.004197340924292803, 0.019752660766243935, 0.06374510377645493, 0.0, 0.0, 0.0, 0.0, 0.0, 0.0, 0.0, 0.0, 0.0, 0.0, 0.0, 0.0, 0.0, 0.0, 0.0, 0.0, 0.0, 0.0, 0.0, 0.0], [0.5218218564987183, 0.004824585281312466, 0.00019603414693847299, 0.009797278791666031, 0.017229055985808372, 0.0012563043273985386, 0.0013879635371267796, 0.004774079658091068, 0.037800949066877365, 0.06318773329257965, 0.13562239706516266, 0.0031879714224487543, 0.09745951741933823, 0.00042775427573360503, 0.0009991417173296213, 0.005012954119592905, 0.06411562114953995, 0.03089882992208004, 0.0, 0.0, 0.0, 0.0, 0.0, 0.0, 0.0, 0.0, 0.0, 0.0, 0.0, 0.0, 0.0, 0.0, 0.0, 0.0, 0.0, 0.0, 0.0], [0.42528772354125977, 0.011212955228984356, 0.0010240806732326746, 0.028064299374818802, 0.013372489251196384, 0.009754741564393044, 0.0071226805448532104, 0.011033543385565281, 0.0349702462553978, 0.08748216927051544, 0.09970121830701828, 0.03401913866400719, 0.07233152538537979, 0.008701007813215256, 0.003047398990020156, 0.031055252999067307, 0.043537311255931854, 0.04273773357272148, 0.0355445072054863, 0.0, 0.0, 0.0, 0.0, 0.0, 0.0, 0.0, 0.0, 0.0, 0.0, 0.0, 0.0, 0.0, 0.0, 0.0, 0.0, 0.0, 0.0], [0.8716447353363037, 0.003393677994608879, 0.00012511348177213222, 0.002396944211795926, 0.002556986641138792, 0.0023768795654177666, 0.0011437045177444816, 0.001788414316251874, 0.0017327286768704653, 0.0006915808189660311, 0.0008725383668206632, 0.0009343248675577343, 0.0015307276044040918, 0.0005537846009247005, 0.0005524869193322957, 0.0007888950640335679, 0.0005531960632652044, 0.00021508312784135342, 0.00038493663305416703, 0.10576323419809341, 0.0, 0.0, 0.0, 0.0, 0.0, 0.0, 0.0, 0.0, 0.0, 0.0, 0.0, 0.0, 0.0, 0.0, 0.0, 0.0, 0.0], [0.8247646689414978, 0.0024150691460818052, 8.517873357050121e-05, 0.001630712766200304, 0.00172900827601552, 0.0016726014437153935, 0.0007715477258898318, 0.0012514262925833464, 0.0011730672558769584, 0.00043375769746489823, 0.0005647148936986923, 0.0005926560261286795, 0.0009725950658321381, 0.00035775918513536453, 0.00036546128103509545, 0.0005235286080278456, 0.00035496457712724805, 0.0001319915900239721, 0.000247897143708542, 0.0725606232881546, 0.08740080893039703, 0.0, 0.0, 0.0, 0.0, 0.0, 0.0, 0.0, 0.0, 0.0, 0.0, 0.0, 0.0, 0.0, 0.0, 0.0, 0.0], [0.786594569683075, 0.001911127706989646, 6.623700755881146e-05, 0.0012666911352425814, 0.0013359723379835486, 0.001290160114876926, 0.0005813460447825491, 0.0009807394817471504, 0.0008986821048893034, 0.0003179464547429234, 0.00042263910290785134, 0.00042750517604872584, 0.0007232539937831461, 0.00026176293613389134, 0.0002733088913373649, 0.0003937483998015523, 0.0002623272011987865, 9.566771041136235e-05, 0.00018452326185069978, 0.056572865694761276, 0.06828975677490234, 0.07684915512800217, 0.0, 0.0, 0.0, 0.0, 0.0, 0.0, 0.0, 0.0, 0.0, 0.0, 0.0, 0.0, 0.0, 0.0, 0.0], [0.7545426487922668, 0.0015789744211360812, 5.4365184041671455e-05, 0.0010390481911599636, 0.001094483071938157, 0.001037434209138155, 0.00046001304872334003, 0.0008054120698943734, 0.0007268204935826361, 0.00024856379604898393, 0.00033551041269674897, 0.00032584223663434386, 0.0005753599689342082, 0.00020169203344266862, 0.00021468100021593273, 0.000311042444081977, 0.00020583545847330242, 7.413850835291669e-05, 0.00014553844812326133, 0.04658279940485954, 0.056342002004384995, 0.06346268206834793, 0.06963520497083664, 0.0, 0.0, 0.0, 0.0, 0.0, 0.0, 0.0, 0.0, 0.0, 0.0, 0.0, 0.0, 0.0, 0.0], [0.727405309677124, 0.00133748899679631, 4.5714579755440354e-05, 0.0008761856588535011, 0.0009254092001356184, 0.0008573049562983215, 0.00037537163007073104, 0.0006785751320421696, 0.0006062511238269508, 0.0002018257073359564, 0.0002755086461547762, 0.0002571900258772075, 0.0004747269267681986, 0.00016069249249994755, 0.00017402860976289958, 0.0002534628438297659, 0.00016746626351960003, 5.9734375099651515e-05, 0.00011873935727635399, 0.03949333354830742, 0.04784679040312767, 0.05393742397427559, 0.05921851843595505, 0.06425309926271439, 0.0, 0.0, 0.0, 0.0, 0.0, 0.0, 0.0, 0.0, 0.0, 0.0, 0.0, 0.0, 0.0], [0.7033190131187439, 0.001151409698650241, 3.9262693462660536e-05, 0.0007548871799372137, 0.0008006939315237105, 0.0007195178186520934, 0.00031183185637928545, 0.0005812012241221964, 0.0005172962555661798, 0.00016785239859018475, 0.00023175496608018875, 0.00020709737145807594, 0.00040201449883170426, 0.0001305783080169931, 0.00014358189946506172, 0.00021055738034192473, 0.00013968092389404774, 4.934141179546714e-05, 9.928541112458333e-05, 0.034211404621601105, 0.04152020439505577, 0.04685000702738762, 0.05147545412182808, 0.0558868907392025, 0.060079142451286316, 0.0, 0.0, 0.0, 0.0, 0.0, 0.0, 0.0, 0.0, 0.0, 0.0, 0.0, 0.0], [0.6820442080497742, 0.0010031802812591195, 3.407241456443444e-05, 0.0006584713701158762, 0.0007026511593721807, 0.0006128214299678802, 0.00026299446471966803, 0.000503957096952945, 0.00044808705570176244, 0.00014192832168191671, 0.0001977607316803187, 0.0001697179686743766, 0.00034612591844052076, 0.00010801210737554356, 0.00012034162500640377, 0.00017771472630556673, 0.00011855943739647046, 4.145392813370563e-05, 8.422491373494267e-05, 0.030048737302422523, 0.036529120057821274, 0.041256390511989594, 0.04536282643675804, 0.04928119108080864, 0.05300752818584442, 0.05673788860440254, 0.0, 0.0, 0.0, 0.0, 0.0, 0.0, 0.0, 0.0, 0.0, 0.0, 0.0], [0.6628872156143188, 0.0008816944318823516, 2.9882654416724108e-05, 0.0005801343359053135, 0.0006236077169887722, 0.0005273483111523092, 0.00022429054661188275, 0.0004402621416375041, 0.0003927122743334621, 0.00012147804955020547, 0.0001707978080958128, 0.00014081396511755884, 0.0003019251744262874, 9.039395808940753e-05, 0.00010190946341026574, 0.00015150675608310848, 0.00010196993389399722, 3.526172076817602e-05, 7.230833580251783e-05, 0.026685122400522232, 0.03249126672744751, 0.03672807291150093, 0.04041186347603798, 0.043928682804107666, 0.04727540910243988, 0.05062638223171234, 0.05397758260369301, 0.0, 0.0, 0.0, 0.0, 0.0, 0.0, 0.0, 0.0, 0.0, 0.0], [0.644920825958252, 0.0007793018594384193, 2.6414389139972627e-05, 0.0005157612031325698, 0.0005585839389823377, 0.0004558074870146811, 0.0001923114905366674, 0.00038669348577968776, 0.00034770084312185645, 0.00010486061364645138, 0.00014910749450791627, 0.00011762326903408393, 0.0002660175086930394, 7.612180343130603e-05, 8.685445209266618e-05, 0.00013012286217417568, 8.860044181346893e-05, 3.025485602847766e-05, 6.276903150137514e-05, 0.023928038775920868, 0.029185106977820396, 0.03302478417754173, 0.03636766970157623, 0.03956148028373718, 0.04260379821062088, 0.04565122723579407, 0.048702940344810486, 0.05167916417121887, 0.0, 0.0, 0.0, 0.0, 0.0, 0.0, 0.0, 0.0, 0.0], [0.6287171244621277, 0.0006936413701623678, 2.3476688511436805e-05, 0.0004614192293956876, 0.000503912044223398, 0.00039750279393047094, 0.00016637981752865016, 0.00034165725810453296, 0.0003101100155618042, 9.141011832980439e-05, 0.00013124912220519036, 9.930445230565965e-05, 0.00023636450350750238, 6.479995499830693e-05, 7.472839206457138e-05, 0.0001128583462559618, 7.774867117404938e-05, 2.6233306925860234e-05, 5.496333687915467e-05, 0.021588163450360298, 0.026372170075774193, 0.029869159683585167, 0.03291729837656021, 0.035831525921821594, 0.03860985115170479, 0.041393812745809555, 0.044185079634189606, 0.04690582677721977, 0.04974231496453285, 0.0, 0.0, 0.0, 0.0, 0.0, 0.0, 0.0, 0.0], [0.613437831401825, 0.0006208975682966411, 2.1005835151299834e-05, 0.0004149368032813072, 0.0004572783946059644, 0.00034859543666243553, 0.00014495078357867897, 0.0003036955604329705, 0.00027890902129001915, 8.02780850790441e-05, 0.00011646378698060289, 8.437739597866312e-05, 0.00021169042156543583, 5.5521002650493756e-05, 6.475339614553377e-05, 9.85552032943815e-05, 6.882899469928816e-05, 2.2898942916071974e-05, 4.847174204769544e-05, 0.019603926688432693, 0.02398403361439705, 0.027187969535589218, 0.029983602464199066, 0.03265807777643204, 0.03520972654223442, 0.03776733577251434, 0.04033451899886131, 0.04283552244305611, 0.045444563031196594, 0.04811074584722519, 0.0, 0.0, 0.0, 0.0, 0.0, 0.0, 0.0], [0.5989195108413696, 0.0005568402702920139, 1.8839744370779954e-05, 0.0003745073336176574, 0.0004168003797531128, 0.000306354311760515, 0.00012661374057643116, 0.00027010185294784606, 0.0002516844542697072, 7.060274219838902e-05, 0.00010371420648880303, 7.195571379270405e-05, 0.00019034836441278458, 4.769158476847224e-05, 5.62256172997877e-05, 8.626117778476328e-05, 6.113112613093108e-05, 2.0024377590743825e-05, 4.2945786844938993e-05, 0.017889561131596565, 0.02192157693207264, 0.024873683229088783, 0.027452776208519936, 0.02992178127169609, 0.03227945789694786, 0.034643616527318954, 0.03701932355761528, 0.039333075284957886, 0.04174821823835373, 0.04421763867139816, 0.046707164496183395, 0.0, 0.0, 0.0, 0.0, 0.0, 0.0], [0.585669755935669, 0.0005033507477492094, 1.704161877569277e-05, 0.00034024068736471236, 0.000381994410417974, 0.00027184438658878207, 0.00011167350749019533, 0.000242041569435969, 0.00022877537412568927, 6.27454646746628e-05, 9.326115832664073e-05, 6.208125705597922e-05, 0.000172465544892475, 4.141628960496746e-05, 4.93067636853084e-05, 7.612363697262481e-05, 5.4746982641518116e-05, 1.768533002177719e-05, 3.8380410842364654e-05, 0.01639469526708126, 0.02011503092944622, 0.02283969148993492, 0.025221841409802437, 0.027503229677677155, 0.029682882130146027, 0.03186902403831482, 0.03406772390007973, 0.03620791807770729, 0.038442932069301605, 0.04072916880249977, 0.04303388297557831, 0.04545703902840614, 0.0, 0.0, 0.0, 0.0, 0.0], [0.5720896124839783, 0.00045381151721812785, 1.5421681382576935e-05, 0.0003094328858423978, 0.000350991846062243, 0.00023985837469808757, 9.80544718913734e-05, 0.00021639939222950488, 0.0002083554136333987, 5.563442027778365e-05, 8.397511555813253e-05, 5.322695869836025e-05, 0.0001566605642437935, 3.575350274331868e-05, 4.305934999138117e-05, 6.704714905936271e-05, 4.910320058115758e-05, 1.5583036656607874e-05, 3.437016857787967e-05, 0.015094713307917118, 0.018548965454101562, 0.021081572398543358, 0.02329881116747856, 0.02542385272681713, 0.02745606005191803, 0.029495293274521828, 0.03154849633574486, 0.03354676067829132, 0.03563474863767624, 0.037771835923194885, 0.03992665931582451, 0.04219499230384827, 0.04440091922879219, 0.0, 0.0, 0.0, 0.0], [0.5598233342170715, 0.00041319485171698034, 1.403731312166201e-05, 0.0002832938334904611, 0.0003240201622247696, 0.00021433332585729659, 8.716128650121391e-05, 0.00019511058053467423, 0.00019104040984530002, 4.9877402489073575e-05, 7.61874471209012e-05, 4.634449942386709e-05, 0.00014316120359580964, 3.133359496132471e-05, 3.805855885730125e-05, 5.9722704463638365e-05, 4.4416192395146936e-05, 1.3879054677090608e-05, 3.097705484833568e-05, 0.013936272822320461, 0.01714729703962803, 0.019502490758895874, 0.021565934643149376, 0.023544369265437126, 0.025437330827116966, 0.027337267994880676, 0.029251769185066223, 0.03111419826745987, 0.03306113928556442, 0.035054754465818405, 0.03706477954983711, 0.039183177053928375, 0.04124154895544052, 0.043478287756443024, 0.0, 0.0, 0.0], [0.548076868057251, 0.00037567043909803033, 1.2809028703486547e-05, 0.0002593588433228433, 0.000299866427667439, 0.0001911172439577058, 7.745857874397188e-05, 0.00017587952606845647, 0.00017556782404426485, 4.470832573133521e-05, 6.933706754352897e-05, 4.02773694077041e-05, 0.00013117544585838914, 2.736611531872768e-05, 3.361047129146755e-05, 5.3119449148653075e-05, 4.022938446723856e-05, 1.2357091691228561e-05, 2.802604103635531e-05, 0.012906046584248543, 0.015898674726486206, 0.018094532191753387, 0.02001994289457798, 0.021866802126169205, 0.023634856566786766, 0.025409944355487823, 0.027200063690543175, 0.028940845280885696, 0.03076132945716381, 0.03262627497315407, 0.03450653329491615, 0.03649033233523369, 0.03841637074947357, 0.04051201418042183, 0.0425906665623188, 0.0, 0.0], [0.537524938583374, 0.0003446585906203836, 1.1725679541996215e-05, 0.00023866142146289349, 0.00027833832427859306, 0.00017252578982152045, 6.95982453180477e-05, 0.00015992787666618824, 0.00016183897969312966, 4.0403527236776426e-05, 6.334146746667102e-05, 3.546715379343368e-05, 0.00012077321298420429, 2.4260885766125284e-05, 3.0038010663702153e-05, 4.778912625624798e-05, 3.6663634091382846e-05, 1.109630466089584e-05, 2.5443576305406168e-05, 0.011976144276559353, 0.014766987413167953, 0.016814660280942917, 0.018610898405313492, 0.020334169268608093, 0.021984320133924484, 0.02364112064242363, 0.025312913581728935, 0.026937615126371384, 0.028637288138270378, 0.030379002913832664, 0.032134637236595154, 0.033989015966653824, 0.03578757867217064, 0.03774697706103325, 0.03968992084264755, 0.04185925051569939, 0.0], [0.5273446440696716, 0.0003168631810694933, 1.078955210687127e-05, 0.00022014914429746568, 0.00025913355057127774, 0.000156112844706513, 6.273364851949736e-05, 0.0001457373145967722, 0.0001497920457040891, 3.6628349334932864e-05, 5.811322625959292e-05, 3.133410064037889e-05, 0.00011162745795445517, 2.153762397938408e-05, 2.689747270778753e-05, 4.302276283851825e-05, 3.352146813995205e-05, 9.992398190661334e-06, 2.320020939805545e-05, 0.011148895137012005, 0.013757824897766113, 0.015671279281377792, 0.017350152134895325, 0.01896096207201481, 0.02050359547138214, 0.022052498534321785, 0.023616181686520576, 0.025134792551398277, 0.026723915711045265, 0.028352737426757812, 0.029994184151291847, 0.03172965347766876, 0.03341111168265343, 0.03524515777826309, 0.03706313669681549, 0.03909504413604736, 0.0411270335316658]], [[1.0, 0.0, 0.0, 0.0, 0.0, 0.0, 0.0, 0.0, 0.0, 0.0, 0.0, 0.0, 0.0, 0.0, 0.0, 0.0, 0.0, 0.0, 0.0, 0.0, 0.0, 0.0, 0.0, 0.0, 0.0, 0.0, 0.0, 0.0, 0.0, 0.0, 0.0, 0.0, 0.0, 0.0, 0.0, 0.0, 0.0], [0.9958836436271667, 0.0041163102723658085, 0.0, 0.0, 0.0, 0.0, 0.0, 0.0, 0.0, 0.0, 0.0, 0.0, 0.0, 0.0, 0.0, 0.0, 0.0, 0.0, 0.0, 0.0, 0.0, 0.0, 0.0, 0.0, 0.0, 0.0, 0.0, 0.0, 0.0, 0.0, 0.0, 0.0, 0.0, 0.0, 0.0, 0.0, 0.0], [0.9922934770584106, 0.0072311703115701675, 0.0004753338289447129, 0.0, 0.0, 0.0, 0.0, 0.0, 0.0, 0.0, 0.0, 0.0, 0.0, 0.0, 0.0, 0.0, 0.0, 0.0, 0.0, 0.0, 0.0, 0.0, 0.0, 0.0, 0.0, 0.0, 0.0, 0.0, 0.0, 0.0, 0.0, 0.0, 0.0, 0.0, 0.0, 0.0, 0.0], [0.9102574586868286, 0.02681712619960308, 0.004990397021174431, 0.05793500319123268, 0.0, 0.0, 0.0, 0.0, 0.0, 0.0, 0.0, 0.0, 0.0, 0.0, 0.0, 0.0, 0.0, 0.0, 0.0, 0.0, 0.0, 0.0, 0.0, 0.0, 0.0, 0.0, 0.0, 0.0, 0.0, 0.0, 0.0, 0.0, 0.0, 0.0, 0.0, 0.0, 0.0], [0.853569746017456, 0.011259886436164379, 0.0015364232240244746, 0.04256276786327362, 0.09107118844985962, 0.0, 0.0, 0.0, 0.0, 0.0, 0.0, 0.0, 0.0, 0.0, 0.0, 0.0, 0.0, 0.0, 0.0, 0.0, 0.0, 0.0, 0.0, 0.0, 0.0, 0.0, 0.0, 0.0, 0.0, 0.0, 0.0, 0.0, 0.0, 0.0, 0.0, 0.0, 0.0], [0.6671216487884521, 0.005491511430591345, 0.007707337383180857, 0.07488951832056046, 0.18401728570461273, 0.06077270954847336, 0.0, 0.0, 0.0, 0.0, 0.0, 0.0, 0.0, 0.0, 0.0, 0.0, 0.0, 0.0, 0.0, 0.0, 0.0, 0.0, 0.0, 0.0, 0.0, 0.0, 0.0, 0.0, 0.0, 0.0, 0.0, 0.0, 0.0, 0.0, 0.0, 0.0, 0.0], [0.736454427242279, 0.007454251404851675, 0.003862193087115884, 0.035956185311079025, 0.09731703996658325, 0.07117597758769989, 0.04777994751930237, 0.0, 0.0, 0.0, 0.0, 0.0, 0.0, 0.0, 0.0, 0.0, 0.0, 0.0, 0.0, 0.0, 0.0, 0.0, 0.0, 0.0, 0.0, 0.0, 0.0, 0.0, 0.0, 0.0, 0.0, 0.0, 0.0, 0.0, 0.0, 0.0, 0.0], [0.5433887243270874, 0.012494981288909912, 0.007679465692490339, 0.07562240958213806, 0.18436497449874878, 0.09437495470046997, 0.058403484523296356, 0.023671023547649384, 0.0, 0.0, 0.0, 0.0, 0.0, 0.0, 0.0, 0.0, 0.0, 0.0, 0.0, 0.0, 0.0, 0.0, 0.0, 0.0, 0.0, 0.0, 0.0, 0.0, 0.0, 0.0, 0.0, 0.0, 0.0, 0.0, 0.0, 0.0, 0.0], [0.7799761891365051, 0.007611752487719059, 0.003076187102124095, 0.03303593397140503, 0.08603952825069427, 0.03836743161082268, 0.02264581061899662, 0.01168904174119234, 0.017558125779032707, 0.0, 0.0, 0.0, 0.0, 0.0, 0.0, 0.0, 0.0, 0.0, 0.0, 0.0, 0.0, 0.0, 0.0, 0.0, 0.0, 0.0, 0.0, 0.0, 0.0, 0.0, 0.0, 0.0, 0.0, 0.0, 0.0, 0.0, 0.0], [0.8208891749382019, 0.003370917635038495, 0.002640657126903534, 0.022035392001271248, 0.04105467349290848, 0.01395017746835947, 0.008692910894751549, 0.008874277584254742, 0.02846953272819519, 0.05002221092581749, 0.0, 0.0, 0.0, 0.0, 0.0, 0.0, 0.0, 0.0, 0.0, 0.0, 0.0, 0.0, 0.0, 0.0, 0.0, 0.0, 0.0, 0.0, 0.0, 0.0, 0.0, 0.0, 0.0, 0.0, 0.0, 0.0, 0.0], [0.8838304281234741, 0.004088630434125662, 0.0009764119749888778, 0.017189735546708107, 0.020091116428375244, 0.010082379914820194, 0.004794707987457514, 0.007102786563336849, 0.01971915364265442, 0.0185068529099226, 0.013617822900414467, 0.0, 0.0, 0.0, 0.0, 0.0, 0.0, 0.0, 0.0, 0.0, 0.0, 0.0, 0.0, 0.0, 0.0, 0.0, 0.0, 0.0, 0.0, 0.0, 0.0, 0.0, 0.0, 0.0, 0.0, 0.0, 0.0], [0.13898850977420807, 0.001297280308790505, 0.0010437981691211462, 0.01719101332128048, 0.013637174852192402, 0.01125095970928669, 0.00968991033732891, 0.0056780423037707806, 0.13110561668872833, 0.24527931213378906, 0.38590696454048157, 0.03893139958381653, 0.0, 0.0, 0.0, 0.0, 0.0, 0.0, 0.0, 0.0, 0.0, 0.0, 0.0, 0.0, 0.0, 0.0, 0.0, 0.0, 0.0, 0.0, 0.0, 0.0, 0.0, 0.0, 0.0, 0.0, 0.0], [0.6751956343650818, 0.0015172737184911966, 0.0004855016595683992, 0.013951974920928478, 0.027979929000139236, 0.008083260618150234, 0.004916323348879814, 0.005713388789445162, 0.013107777573168278, 0.03709813207387924, 0.044100839644670486, 0.024771999567747116, 0.1430779993534088, 0.0, 0.0, 0.0, 0.0, 0.0, 0.0, 0.0, 0.0, 0.0, 0.0, 0.0, 0.0, 0.0, 0.0, 0.0, 0.0, 0.0, 0.0, 0.0, 0.0, 0.0, 0.0, 0.0, 0.0], [0.6244646906852722, 0.0014466653810814023, 0.0010030448902398348, 0.0057791005820035934, 0.01848417893052101, 0.00836220383644104, 0.00796209555119276, 0.006701956503093243, 0.01688135787844658, 0.026253540068864822, 0.05108167603611946, 0.009893284179270267, 0.17199690639972687, 0.04968935623764992, 0.0, 0.0, 0.0, 0.0, 0.0, 0.0, 0.0, 0.0, 0.0, 0.0, 0.0, 0.0, 0.0, 0.0, 0.0, 0.0, 0.0, 0.0, 0.0, 0.0, 0.0, 0.0, 0.0], [0.7067102789878845, 0.0013666379963979125, 0.0002400788653176278, 0.002709832275286317, 0.00783273670822382, 0.0081145279109478, 0.005396612919867039, 0.003123194444924593, 0.0076027982868254185, 0.009188566356897354, 0.012841945514082909, 0.0044229901395738125, 0.1529625654220581, 0.04894746467471123, 0.028539719060063362, 0.0, 0.0, 0.0, 0.0, 0.0, 0.0, 0.0, 0.0, 0.0, 0.0, 0.0, 0.0, 0.0, 0.0, 0.0, 0.0, 0.0, 0.0, 0.0, 0.0, 0.0, 0.0], [0.27787116169929504, 0.0009398129768669605, 0.00026949713355861604, 0.0043500978499650955, 0.018885424360632896, 0.010608461685478687, 0.006234532687813044, 0.0027521299198269844, 0.010789556428790092, 0.022124353796243668, 0.023092899471521378, 0.01533658616244793, 0.5196033716201782, 0.05470367893576622, 0.016840441152453423, 0.015597986988723278, 0.0, 0.0, 0.0, 0.0, 0.0, 0.0, 0.0, 0.0, 0.0, 0.0, 0.0, 0.0, 0.0, 0.0, 0.0, 0.0, 0.0, 0.0, 0.0, 0.0, 0.0], [0.7308166027069092, 0.001336198765784502, 0.00050356489373371, 0.004504653159528971, 0.012005181983113289, 0.00436252960935235, 0.0025020192842930555, 0.0016571525484323502, 0.00265762978233397, 0.01025159377604723, 0.007345037069171667, 0.005177856422960758, 0.14050015807151794, 0.029538165777921677, 0.007825818844139576, 0.030867720022797585, 0.008148277178406715, 0.0, 0.0, 0.0, 0.0, 0.0, 0.0, 0.0, 0.0, 0.0, 0.0, 0.0, 0.0, 0.0, 0.0, 0.0, 0.0, 0.0, 0.0, 0.0, 0.0], [0.7656893134117126, 0.0009552431874908507, 0.0006661165389232337, 0.0032764682546257973, 0.005689552519470453, 0.00323435477912426, 0.0017901912797242403, 0.0019429916283115745, 0.009580576792359352, 0.0111339520663023, 0.011741094291210175, 0.005766924936324358, 0.0451241098344326, 0.021038586273789406, 0.008514611050486565, 0.015679625794291496, 0.04768369719386101, 0.040492601692676544, 0.0, 0.0, 0.0, 0.0, 0.0, 0.0, 0.0, 0.0, 0.0, 0.0, 0.0, 0.0, 0.0, 0.0, 0.0, 0.0, 0.0, 0.0, 0.0], [0.8957031965255737, 0.0010171753820031881, 0.00017027099966071546, 0.0029091553296893835, 0.0035377368330955505, 0.0019981437362730503, 0.0010872419225052, 0.001410294440574944, 0.00672425702214241, 0.003754118224605918, 0.00302513362839818, 0.0030339807271957397, 0.01791992411017418, 0.006516680587083101, 0.0031088143587112427, 0.004324566572904587, 0.025836529210209846, 0.009897911921143532, 0.00802488625049591, 0.0, 0.0, 0.0, 0.0, 0.0, 0.0, 0.0, 0.0, 0.0, 0.0, 0.0, 0.0, 0.0, 0.0, 0.0, 0.0, 0.0, 0.0], [0.916558563709259, 0.0004904973320662975, 0.00018286547856405377, 0.002038204576820135, 0.0017272259574383497, 0.0007466684328392148, 0.000432900182204321, 0.0008499725954607129, 0.0011643491452559829, 0.0009574652067385614, 0.002639421494677663, 0.0005050135077908635, 0.00580577552318573, 0.001450314768590033, 0.0012310704914852977, 0.0012111981632187963, 0.0021115955896675587, 0.002264173934236169, 0.004252105485647917, 0.05338066816329956, 0.0, 0.0, 0.0, 0.0, 0.0, 0.0, 0.0, 0.0, 0.0, 0.0, 0.0, 0.0, 0.0, 0.0, 0.0, 0.0, 0.0], [0.8995810747146606, 0.0003341472474858165, 0.00011381479998817667, 0.0012850124621763825, 0.0010946594411507249, 0.00048652527038939297, 0.000271630531642586, 0.0005471178446896374, 0.0006918282597325742, 0.0005602729506790638, 0.0016131183365359902, 0.00026576287928037345, 0.003477097488939762, 0.000844422378577292, 0.0007253230432979763, 0.000695378053933382, 0.0011676595313474536, 0.0012337000807747245, 0.0024485618341714144, 0.03420564904808998, 0.048357315361499786, 0.0, 0.0, 0.0, 0.0, 0.0, 0.0, 0.0, 0.0, 0.0, 0.0, 0.0, 0.0, 0.0, 0.0, 0.0, 0.0], [0.8837531805038452, 0.0002431252069072798, 7.63690477469936e-05, 0.0008828092832118273, 0.0007599974633194506, 0.0003439377760514617, 0.00018464689492248, 0.0003836794930975884, 0.00046043930342420936, 0.00036308987182565033, 0.0010877028107643127, 0.00015975223504938185, 0.0023697398137301207, 0.0005442749825306237, 0.0004689422785304487, 0.00044600063120014966, 0.0007390740211121738, 0.0007560817175544798, 0.0015702276723459363, 0.024248067289590836, 0.03440629318356514, 0.045752450823783875, 0.0, 0.0, 0.0, 0.0, 0.0, 0.0, 0.0, 0.0, 0.0, 0.0, 0.0, 0.0, 0.0, 0.0, 0.0], [0.8700950145721436, 0.00018288612773176283, 5.329730993253179e-05, 0.0006340204272419214, 0.0005518387188203633, 0.0002529397315811366, 0.0001306714111706242, 0.000280095700873062, 0.000323506974382326, 0.0002472366613801569, 0.0007683263393118978, 0.00010226103040622547, 0.0017109462060034275, 0.0003680945956148207, 0.000317184254527092, 0.00030137834255583584, 0.0004975073970854282, 0.0004894863232038915, 0.0010581215610727668, 0.017969096079468727, 0.025592312216758728, 0.03407178819179535, 0.04400187358260155, 0.0, 0.0, 0.0, 0.0, 0.0, 0.0, 0.0, 0.0, 0.0, 0.0, 0.0, 0.0, 0.0, 0.0], [0.8587652444839478, 0.00014014472253620625, 3.807419852819294e-05, 0.0004671504138968885, 0.0004108536522835493, 0.00019012423581443727, 9.466844494454563e-05, 0.00020922685507684946, 0.00023457493807654828, 0.00017322867643088102, 0.0005568108172155917, 6.77751813782379e-05, 0.0012739510275423527, 0.0002560295397415757, 0.0002205679629696533, 0.00020996642706450075, 0.000347203720593825, 0.00032719457522034645, 0.0007337976130656898, 0.013635280542075634, 0.019488222897052765, 0.025975285097956657, 0.033570609986782074, 0.04261394962668419, 0.0, 0.0, 0.0, 0.0, 0.0, 0.0, 0.0, 0.0, 0.0, 0.0, 0.0, 0.0, 0.0], [0.8490743041038513, 0.00010879820911213756, 2.7624881113297306e-05, 0.0003503983316477388, 0.00031137827318161726, 0.00014521938282996416, 6.965396460145712e-05, 0.000158631126396358, 0.00017354678129777312, 0.00012369661999400705, 0.00041049913852475584, 4.596905273501761e-05, 0.0009697967325337231, 0.00018161704065278172, 0.00015609970432706177, 0.00014931590703781694, 0.00024790180032141507, 0.00022343666933011264, 0.0005187656497582793, 0.010538841597735882, 0.01511642150580883, 0.020174453034996986, 0.026096921414136887, 0.03315194696187973, 0.04147467389702797, 0.0, 0.0, 0.0, 0.0, 0.0, 0.0, 0.0, 0.0, 0.0, 0.0, 0.0, 0.0], [0.8406654000282288, 8.547039033146575e-05, 2.0333296561148018e-05, 0.0002668422821443528, 0.00023935425269883126, 0.00011237185390200466, 5.197709469939582e-05, 0.00012186839012429118, 0.00013064946688245982, 8.981221617432311e-05, 0.0003070299280807376, 3.1806612241780385e-05, 0.0007505226531066, 0.00013099081115797162, 0.00011233521945541725, 0.00010811179527081549, 0.00018052714585792273, 0.00015552369586657733, 0.00037288773455657065, 0.008261053822934628, 0.011890807189047337, 0.01589082181453705, 0.020575394853949547, 0.026158977299928665, 0.03274720907211304, 0.040541872382164, 0.0, 0.0, 0.0, 0.0, 0.0, 0.0, 0.0, 0.0, 0.0, 0.0, 0.0], [0.8333788514137268, 6.803110591135919e-05, 1.521968351880787e-05, 0.00020652027160394937, 0.0001868597319116816, 8.822487870929763e-05, 3.9391074096783996e-05, 9.49160530581139e-05, 9.998903988162056e-05, 6.632638542214409e-05, 0.00023306086950469762, 2.242901609861292e-05, 0.0005896069924347103, 9.60349861998111e-05, 8.211785461753607e-05, 7.955386536195874e-05, 0.00013371542445383966, 0.00011009752051904798, 0.0002720328338909894, 0.006554857362061739, 0.009463712573051453, 0.012659397907555103, 0.01640121266245842, 0.020861979573965073, 0.02612454630434513, 0.03235115855932236, 0.03972017392516136, 0.0, 0.0, 0.0, 0.0, 0.0, 0.0, 0.0, 0.0, 0.0, 0.0], [0.8267064690589905, 5.4373726015910506e-05, 1.1449142220953945e-05, 0.00016086376854218543, 0.0001467306719860062, 6.963610940147191e-05, 2.999791468027979e-05, 7.429583638440818e-05, 7.706956239417195e-05, 4.934117168886587e-05, 0.00017813945305533707, 1.5963465557433665e-05, 0.0004670875787269324, 7.098355854395777e-05, 6.046133057679981e-05, 5.899072493775748e-05, 9.997692541219294e-05, 7.874011498643085e-05, 0.000200363589101471, 0.005252405535429716, 0.007609199732542038, 0.01019230391830206, 0.013217694126069546, 0.016826540231704712, 0.02108514867722988, 0.026126012206077576, 0.03210381418466568, 0.03897595405578613, 0.0, 0.0, 0.0, 0.0, 0.0, 0.0, 0.0, 0.0, 0.0], [0.8209728598594666, 4.387600711197592e-05, 8.708198947715573e-06, 0.00012655976752284914, 0.00011638968862826005, 5.5488853831775486e-05, 2.308934199390933e-05, 5.8704797993414104e-05, 6.00528837821912e-05, 3.710740202222951e-05, 0.00013736257096752524, 1.1493002602946945e-05, 0.0003734081401489675, 5.3045481763547286e-05, 4.5013661292614415e-05, 4.425995211931877e-05, 7.55916116759181e-05, 5.692414924851619e-05, 0.00014892275794409215, 0.004239903297275305, 0.00616166926920414, 0.008262661285698414, 0.010723588988184929, 0.013660319149494171, 0.01712607592344284, 0.021229518577456474, 0.02610463835299015, 0.0317041389644146, 0.03833867982029915, 0.0, 0.0, 0.0, 0.0, 0.0, 0.0, 0.0, 0.0], [0.8156520128250122, 3.578303221729584e-05, 6.72061196382856e-06, 0.00010093967284774408, 9.342616976937279e-05, 4.4709893700201064e-05, 1.79974376806058e-05, 4.691978028859012e-05, 4.7375888243550435e-05, 2.8301310521783307e-05, 0.00010733532690210268, 8.401879313169047e-06, 0.0003016610280610621, 4.013981015305035e-05, 3.394269151613116e-05, 3.3597865694900975e-05, 5.7859288062900305e-05, 4.1746283386601135e-05, 0.00011217354040127248, 0.0034550479613244534, 0.005035099573433399, 0.006757750641554594, 0.008775108493864536, 0.011182895861566067, 0.014023926109075546, 0.017387796193361282, 0.021390583366155624, 0.025983121246099472, 0.0314292386174202, 0.037768345326185226, 0.0, 0.0, 0.0, 0.0, 0.0, 0.0, 0.0], [0.8108279705047607, 2.9297314540599473e-05, 5.205295110499719e-06, 8.086163143161684e-05, 7.529969298047945e-05, 3.61766287824139e-05, 1.408596563123865e-05, 3.762438063859008e-05, 3.757167360163294e-05, 2.17048691411037e-05, 8.418051584158093e-05, 6.187893177411752e-06, 0.00024506865884177387, 3.057738285860978e-05, 2.574505197117105e-05, 2.5669982278486714e-05, 4.460414857021533e-05, 3.083384217461571e-05, 8.49221833050251e-05, 0.0028318967670202255, 0.004138856194913387, 0.0055601997300982475, 0.007224594242870808, 0.009211625903844833, 0.011556033045053482, 0.014332206919789314, 0.017640959471464157, 0.021433567628264427, 0.02593509666621685, 0.03118191845715046, 0.03720950335264206, 0.0, 0.0, 0.0, 0.0, 0.0, 0.0], [0.8064947128295898, 2.4315653718076646e-05, 4.107585027668392e-06, 6.57673881505616e-05, 6.157304596854374e-05, 2.9675249606953003e-05, 1.1205652299395297e-05, 3.060828021261841e-05, 3.0219734981073998e-05, 1.6918431356316432e-05, 6.704234692733735e-05, 4.633109256246826e-06, 0.00020126355229876935, 2.3622153094038367e-05, 1.981877358048223e-05, 1.987186260521412e-05, 3.484006811049767e-05, 2.3128792236093432e-05, 6.524145283037797e-05, 0.002341480925679207, 0.0034296901430934668, 0.004609416704624891, 0.005989999510347843, 0.007637806702405214, 0.009580905549228191, 0.011881114915013313, 0.014625802636146545, 0.017767474055290222, 0.02149827592074871, 0.025851000100374222, 0.03085024654865265, 0.036708176136016846, 0.0, 0.0, 0.0, 0.0, 0.0], [0.8023865818977356, 2.0159290215815417e-05, 3.234348469050019e-06, 5.352105654310435e-05, 5.032923218095675e-05, 2.43268132180674e-05, 8.89538750925567e-06, 2.4849141482263803e-05, 2.4305756596731953e-05, 1.3190786376071628e-05, 5.338209666660987e-05, 3.4725644582067616e-06, 0.0001655449450481683, 1.8259983335155994e-05, 1.5238960259011947e-05, 1.5383136997115798e-05, 2.7235748348175548e-05, 1.736908234306611e-05, 5.0144306442234665e-05, 0.0019431026885285974, 0.002853737911209464, 0.003838342847302556, 0.004990279208868742, 0.006365315522998571, 0.007986369542777538, 0.00990527868270874, 0.012198268435895443, 0.0148200998082757, 0.017935894429683685, 0.02157546766102314, 0.025755761191248894, 0.030664948746562004, 0.03619161620736122, 0.0, 0.0, 0.0, 0.0], [0.7983757853507996, 1.6998950741253793e-05, 2.604251903903787e-06, 4.435158189153299e-05, 4.1817835153779015e-05, 2.0280165699659847e-05, 7.200720119726611e-06, 2.053974094451405e-05, 1.98871912289178e-05, 1.0486341125215404e-05, 4.324640758568421e-05, 2.6600014280120376e-06, 0.00013801564637105912, 1.4377568732015789e-05, 1.1947305210924242e-05, 1.2135413271607831e-05, 2.166431295336224e-05, 1.3303977539180778e-05, 3.9215312426676974e-05, 0.0016290971543639898, 0.0023971840273588896, 0.003224981017410755, 0.004192657303065062, 0.005347257014364004, 0.006707426626235247, 0.00831669196486473, 0.010241502895951271, 0.012439030222594738, 0.015051384456455708, 0.01810525916516781, 0.02161148563027382, 0.02573649398982525, 0.030375530943274498, 0.03576749190688133, 0.0, 0.0, 0.0], [0.794985830783844, 1.435124249837827e-05, 2.100339088428882e-06, 3.6850306059932336e-05, 3.4841159504139796e-05, 1.6935895473579876e-05, 5.844901352247689e-06, 1.7006283087539487e-05, 1.6310235878336243e-05, 8.366297151951585e-06, 3.5188873880542815e-05, 2.045518840532168e-06, 0.0001152746262960136, 1.1353806257830001e-05, 9.394502740178723e-06, 9.58246073423652e-06, 1.7275591744692065e-05, 1.0231965461571235e-05, 3.0809795134700835e-05, 0.001370085752569139, 0.0020198486745357513, 0.0027178439777344465, 0.003533089766278863, 0.004505385644733906, 0.005649914499372244, 0.007003345061093569, 0.008623631671071053, 0.010470686480402946, 0.012667017057538033, 0.015236402861773968, 0.018185244873166084, 0.0216604545712471, 0.025564560666680336, 0.03011208027601242, 0.035300783812999725, 0.0, 0.0], [0.7921186089515686, 1.2264541510376148e-05, 1.7195737882502726e-06, 3.0992487154435366e-05, 2.9359496693359688e-05, 1.4295705113909207e-05, 4.803885076398728e-06, 1.4245215425034985e-05, 1.3537833183363546e-05, 6.761074018868385e-06, 2.890241921704728e-05, 1.5944233382469974e-06, 9.716000204207376e-05, 9.07670892047463e-06, 7.48505453884718e-06, 7.674587322981097e-06, 1.3946071703685448e-05, 7.96879430708941e-06, 2.4447588657494634e-05, 0.0011592416558414698, 0.0017113154754042625, 0.0023022021632641554, 0.0029914788901805878, 0.003812875598669052, 0.004778692498803139, 0.005919818766415119, 0.007286746986210346, 0.008842108771204948, 0.010691582225263119, 0.012856125831604004, 0.01533864438533783, 0.018268564715981483, 0.02155562862753868, 0.02539166994392872, 0.02976916916668415, 0.0348794050514698, 0.0], [0.7893308997154236, 1.0597197615425102e-05, 1.430849579264759e-06, 2.6441592126502655e-05, 2.50593111559283e-05, 1.2209752640046645e-05, 4.0059653656498995e-06, 1.2075702215952333e-05, 1.13804808279383e-05, 5.5453133427363355e-06, 2.4088938516797498e-05, 1.2638141697607352e-06, 8.276914013549685e-05, 7.353090040851384e-06, 6.044750080036465e-06, 6.215872417669743e-06, 1.1398880815249868e-05, 6.30020122116548e-06, 1.9667906599352136e-05, 0.0009890684159472585, 0.0014613864477723837, 0.0019648168236017227, 0.0025510925333946943, 0.003248930675908923, 0.004068239126354456, 0.005035121459513903, 0.0061936150304973125, 0.007508983835577965, 0.009072571061551571, 0.010902738198637962, 0.012999762780964375, 0.015477529726922512, 0.018252739682793617, 0.021496588364243507, 0.025197874754667282, 0.029524313285946846, 0.0344497449696064]], [[1.0, 0.0, 0.0, 0.0, 0.0, 0.0, 0.0, 0.0, 0.0, 0.0, 0.0, 0.0, 0.0, 0.0, 0.0, 0.0, 0.0, 0.0, 0.0, 0.0, 0.0, 0.0, 0.0, 0.0, 0.0, 0.0, 0.0, 0.0, 0.0, 0.0, 0.0, 0.0, 0.0, 0.0, 0.0, 0.0, 0.0], [0.9971444010734558, 0.002855558879673481, 0.0, 0.0, 0.0, 0.0, 0.0, 0.0, 0.0, 0.0, 0.0, 0.0, 0.0, 0.0, 0.0, 0.0, 0.0, 0.0, 0.0, 0.0, 0.0, 0.0, 0.0, 0.0, 0.0, 0.0, 0.0, 0.0, 0.0, 0.0, 0.0, 0.0, 0.0, 0.0, 0.0, 0.0, 0.0], [0.9990528225898743, 0.000438873830717057, 0.000508307886775583, 0.0, 0.0, 0.0, 0.0, 0.0, 0.0, 0.0, 0.0, 0.0, 0.0, 0.0, 0.0, 0.0, 0.0, 0.0, 0.0, 0.0, 0.0, 0.0, 0.0, 0.0, 0.0, 0.0, 0.0, 0.0, 0.0, 0.0, 0.0, 0.0, 0.0, 0.0, 0.0, 0.0, 0.0], [0.9042523503303528, 0.02259826846420765, 0.01696646958589554, 0.05618290230631828, 0.0, 0.0, 0.0, 0.0, 0.0, 0.0, 0.0, 0.0, 0.0, 0.0, 0.0, 0.0, 0.0, 0.0, 0.0, 0.0, 0.0, 0.0, 0.0, 0.0, 0.0, 0.0, 0.0, 0.0, 0.0, 0.0, 0.0, 0.0, 0.0, 0.0, 0.0, 0.0, 0.0], [0.8635412454605103, 0.022950707003474236, 0.022971048951148987, 0.07131891697645187, 0.01921805366873741, 0.0, 0.0, 0.0, 0.0, 0.0, 0.0, 0.0, 0.0, 0.0, 0.0, 0.0, 0.0, 0.0, 0.0, 0.0, 0.0, 0.0, 0.0, 0.0, 0.0, 0.0, 0.0, 0.0, 0.0, 0.0, 0.0, 0.0, 0.0, 0.0, 0.0, 0.0, 0.0], [0.9237514138221741, 0.004221606068313122, 0.0020584433805197477, 0.006080271676182747, 0.013318255543708801, 0.050570033490657806, 0.0, 0.0, 0.0, 0.0, 0.0, 0.0, 0.0, 0.0, 0.0, 0.0, 0.0, 0.0, 0.0, 0.0, 0.0, 0.0, 0.0, 0.0, 0.0, 0.0, 0.0, 0.0, 0.0, 0.0, 0.0, 0.0, 0.0, 0.0, 0.0, 0.0, 0.0], [0.9342880249023438, 0.0019698827527463436, 0.001870067324489355, 0.0033252346329391003, 0.006223492324352264, 0.015638442710042, 0.036684706807136536, 0.0, 0.0, 0.0, 0.0, 0.0, 0.0, 0.0, 0.0, 0.0, 0.0, 0.0, 0.0, 0.0, 0.0, 0.0, 0.0, 0.0, 0.0, 0.0, 0.0, 0.0, 0.0, 0.0, 0.0, 0.0, 0.0, 0.0, 0.0, 0.0, 0.0], [0.9554051160812378, 0.0017486069118604064, 0.00159427837934345, 0.003086165525019169, 0.007531922310590744, 0.009605353698134422, 0.00791373010724783, 0.013114764355123043, 0.0, 0.0, 0.0, 0.0, 0.0, 0.0, 0.0, 0.0, 0.0, 0.0, 0.0, 0.0, 0.0, 0.0, 0.0, 0.0, 0.0, 0.0, 0.0, 0.0, 0.0, 0.0, 0.0, 0.0, 0.0, 0.0, 0.0, 0.0, 0.0], [0.9287102818489075, 0.0018346974393352866, 0.004899275489151478, 0.020401285961270332, 0.007043128367513418, 0.013071756809949875, 0.008299767971038818, 0.00450253626331687, 0.011237249709665775, 0.0, 0.0, 0.0, 0.0, 0.0, 0.0, 0.0, 0.0, 0.0, 0.0, 0.0, 0.0, 0.0, 0.0, 0.0, 0.0, 0.0, 0.0, 0.0, 0.0, 0.0, 0.0, 0.0, 0.0, 0.0, 0.0, 0.0, 0.0], [0.9777413010597229, 0.0008890455355867743, 0.0005565418396145105, 0.0030876381788402796, 0.0012246757978573442, 0.004782188683748245, 0.001678900676779449, 0.00197568885050714, 0.00242788577452302, 0.005636018235236406, 0.0, 0.0, 0.0, 0.0, 0.0, 0.0, 0.0, 0.0, 0.0, 0.0, 0.0, 0.0, 0.0, 0.0, 0.0, 0.0, 0.0, 0.0, 0.0, 0.0, 0.0, 0.0, 0.0, 0.0, 0.0, 0.0, 0.0], [0.9571067690849304, 0.0026368622202426195, 0.0005413961480371654, 0.0018544745398685336, 0.0007972843595780432, 0.015242792665958405, 0.013544497080147266, 0.002960752695798874, 0.0006636113976128399, 0.003143088659271598, 0.0015084472252056003, 0.0, 0.0, 0.0, 0.0, 0.0, 0.0, 0.0, 0.0, 0.0, 0.0, 0.0, 0.0, 0.0, 0.0, 0.0, 0.0, 0.0, 0.0, 0.0, 0.0, 0.0, 0.0, 0.0, 0.0, 0.0, 0.0], [0.9217824339866638, 0.004514191299676895, 0.0008482965640723705, 0.003713169600814581, 0.003127877600491047, 0.01313148345798254, 0.01895923726260662, 0.010324989445507526, 0.002342501189559698, 0.004095609299838543, 0.005915175192058086, 0.01124507188796997, 0.0, 0.0, 0.0, 0.0, 0.0, 0.0, 0.0, 0.0, 0.0, 0.0, 0.0, 0.0, 0.0, 0.0, 0.0, 0.0, 0.0, 0.0, 0.0, 0.0, 0.0, 0.0, 0.0, 0.0, 0.0], [0.7027096748352051, 0.02403351664543152, 0.005790754221379757, 0.00975795742124319, 0.008031746372580528, 0.06909424066543579, 0.07000915706157684, 0.011943107470870018, 0.013288501650094986, 0.020751966163516045, 0.006139649543911219, 0.021351667121052742, 0.03709803521633148, 0.0, 0.0, 0.0, 0.0, 0.0, 0.0, 0.0, 0.0, 0.0, 0.0, 0.0, 0.0, 0.0, 0.0, 0.0, 0.0, 0.0, 0.0, 0.0, 0.0, 0.0, 0.0, 0.0, 0.0], [0.672089695930481, 0.0030624601058661938, 0.003095818217843771, 0.005400168243795633, 0.010859780944883823, 0.02116629295051098, 0.1943177878856659, 0.04032449424266815, 0.017602862790226936, 0.005576967727392912, 0.006134272087365389, 0.007349024061113596, 0.007386929355561733, 0.0056334082037210464, 0.0, 0.0, 0.0, 0.0, 0.0, 0.0, 0.0, 0.0, 0.0, 0.0, 0.0, 0.0, 0.0, 0.0, 0.0, 0.0, 0.0, 0.0, 0.0, 0.0, 0.0, 0.0, 0.0], [0.8877357840538025, 0.0016503885854035616, 0.0012972208205610514, 0.0023740914184600115, 0.0013465274823829532, 0.00475713238120079, 0.023549804463982582, 0.047517888247966766, 0.004595347214490175, 0.003112574340775609, 0.0014381168875843287, 0.0017593478551134467, 0.001756168669089675, 0.0005335433525033295, 0.016576042398810387, 0.0, 0.0, 0.0, 0.0, 0.0, 0.0, 0.0, 0.0, 0.0, 0.0, 0.0, 0.0, 0.0, 0.0, 0.0, 0.0, 0.0, 0.0, 0.0, 0.0, 0.0, 0.0], [0.8166631460189819, 0.0004771874810103327, 0.00032697830465622246, 0.005976467858999968, 0.012278157286345959, 0.001657648477703333, 0.005501027684658766, 0.0056700874119997025, 0.035811278969049454, 0.03629211708903313, 0.01534334011375904, 0.001134875463321805, 0.05084279552102089, 0.00023130810586735606, 0.0030869035981595516, 0.00870667863637209, 0.0, 0.0, 0.0, 0.0, 0.0, 0.0, 0.0, 0.0, 0.0, 0.0, 0.0, 0.0, 0.0, 0.0, 0.0, 0.0, 0.0, 0.0, 0.0, 0.0, 0.0], [0.8188173174858093, 0.0014845470432192087, 0.0016391127137467265, 0.007269700989127159, 0.00940324179828167, 0.007682344410568476, 0.01164200808852911, 0.00431004399433732, 0.015964392572641373, 0.06368434429168701, 0.009778827428817749, 0.006933096796274185, 0.01763576827943325, 0.0016734604723751545, 0.005511473398655653, 0.006840534508228302, 0.009729864075779915, 0.0, 0.0, 0.0, 0.0, 0.0, 0.0, 0.0, 0.0, 0.0, 0.0, 0.0, 0.0, 0.0, 0.0, 0.0, 0.0, 0.0, 0.0, 0.0, 0.0], [0.9172437787055969, 0.0013630134053528309, 0.0009411216014996171, 0.0053496817126870155, 0.0019009929383173585, 0.00486086867749691, 0.003170414362102747, 0.0019030008697882295, 0.003269122214987874, 0.025237401947379112, 0.00558068510144949, 0.010772543027997017, 0.003572631161659956, 0.001262318342924118, 0.001458565122447908, 0.0015186506789177656, 0.0018764650449156761, 0.00871872715651989, 0.0, 0.0, 0.0, 0.0, 0.0, 0.0, 0.0, 0.0, 0.0, 0.0, 0.0, 0.0, 0.0, 0.0, 0.0, 0.0, 0.0, 0.0, 0.0], [0.8755291104316711, 0.0026866192929446697, 0.0012866712640970945, 0.003893248038366437, 0.002685131272301078, 0.007350435480475426, 0.010723063722252846, 0.0032036807388067245, 0.002118445001542568, 0.019754253327846527, 0.003502765903249383, 0.0334433950483799, 0.005796222481876612, 0.00461516622453928, 0.004298072308301926, 0.00186633609700948, 0.00166290532797575, 0.012493642047047615, 0.003090814221650362, 0.0, 0.0, 0.0, 0.0, 0.0, 0.0, 0.0, 0.0, 0.0, 0.0, 0.0, 0.0, 0.0, 0.0, 0.0, 0.0, 0.0, 0.0], [0.9590702652931213, 0.0008095462690107524, 0.00026057506329379976, 0.0008394555770792067, 0.0007762706954963505, 0.0017577194375917315, 0.0008972751093097031, 0.0007925757672637701, 0.0007661093259230256, 0.0005262091290205717, 0.00036143744364380836, 0.0005640771705657244, 0.001557469367980957, 0.0002533241349738091, 0.00019188420264981687, 0.0002490976476110518, 0.00021372755873017013, 0.00016612038598395884, 0.00010166896390728652, 0.029845107346773148, 0.0, 0.0, 0.0, 0.0, 0.0, 0.0, 0.0, 0.0, 0.0, 0.0, 0.0, 0.0, 0.0, 0.0, 0.0, 0.0, 0.0], [0.9431794881820679, 0.0006284344126470387, 0.00019167929713148624, 0.0006464871112257242, 0.0005895956419408321, 0.0013715001987293363, 0.000678117445204407, 0.0005984901799820364, 0.0005939349066466093, 0.00040027571958489716, 0.0002728071704041213, 0.0003782354178838432, 0.0011488747550174594, 0.00017974006186705083, 0.0001387717347824946, 0.00017949921311810613, 0.00015606109809596092, 0.00011747117969207466, 7.151228783186525e-05, 0.023045029491186142, 0.02543388120830059, 0.0, 0.0, 0.0, 0.0, 0.0, 0.0, 0.0, 0.0, 0.0, 0.0, 0.0, 0.0, 0.0, 0.0, 0.0, 0.0], [0.9287586212158203, 0.0005376936169341207, 0.00015844432346057147, 0.000548587937373668, 0.0004904982051812112, 0.0011821642983704805, 0.0005718688480556011, 0.0004995330818928778, 0.000503181479871273, 0.00033919239649549127, 0.00022776785772293806, 0.00029572658240795135, 0.0009382692514918745, 0.00014702993212267756, 0.0001140781314461492, 0.00014635031402576715, 0.00012784285354427993, 9.561189654050395e-05, 5.737592437071726e-05, 0.019593296572566032, 0.02169046550989151, 0.022976446896791458, 0.0, 0.0, 0.0, 0.0, 0.0, 0.0, 0.0, 0.0, 0.0, 0.0, 0.0, 0.0, 0.0, 0.0, 0.0], [0.9156540632247925, 0.00047785192145965993, 0.00013730292266700417, 0.0004841685004066676, 0.00042423035483807325, 0.0010593518381938338, 0.0005025457940064371, 0.0004341881722211838, 0.00044248983613215387, 0.00029971558251418173, 0.00019778747810050845, 0.000246477487962693, 0.0008016820647753775, 0.0001269818894797936, 9.817070531425998e-05, 0.00012532404798548669, 0.000109778658952564, 8.207282371586189e-05, 4.840089604840614e-05, 0.017341600731015205, 0.019244007766246796, 0.02040848135948181, 0.021253244951367378, 0.0, 0.0, 0.0, 0.0, 0.0, 0.0, 0.0, 0.0, 0.0, 0.0, 0.0, 0.0, 0.0, 0.0], [0.9039672613143921, 0.00043120101327076554, 0.00012118159793317318, 0.00043449245276860893, 0.0003736498474609107, 0.0009647209662944078, 0.00044942405656911433, 0.0003853383823297918, 0.00039584250771440566, 0.00026986291049979627, 0.0001754427794367075, 0.0002121477446053177, 0.0007001767517067492, 0.00011230253585381433, 8.613178943051025e-05, 0.00010983368702000007, 9.641796350479126e-05, 7.221275882329792e-05, 4.1921273805201054e-05, 0.015637462958693504, 0.017385127022862434, 0.018453944474458694, 0.019229959696531296, 0.019894013181328773, 0.0, 0.0, 0.0, 0.0, 0.0, 0.0, 0.0, 0.0, 0.0, 0.0, 0.0, 0.0, 0.0], [0.8930240273475647, 0.00039471342461183667, 0.00010904661758104339, 0.00039636073051951826, 0.00033434550277888775, 0.0008902396075427532, 0.0004072627634741366, 0.0003468377108220011, 0.0003592234570533037, 0.00024690316058695316, 0.00015797052765265107, 0.0001866999373305589, 0.0006230339058674872, 0.00010117000056197867, 7.672826177440584e-05, 9.802946442505345e-05, 8.621971210232005e-05, 6.477913120761514e-05, 3.698727232404053e-05, 0.014334496110677719, 0.015965860337018967, 0.016964351758360863, 0.0176909938454628, 0.01831355132162571, 0.018790142610669136, 0.0, 0.0, 0.0, 0.0, 0.0, 0.0, 0.0, 0.0, 0.0, 0.0, 0.0, 0.0], [0.8829883337020874, 0.0003636034671217203, 9.877707634586841e-05, 0.0003637232875917107, 0.000301607942674309, 0.0008274972788058221, 0.0003720668610185385, 0.0003154996666125953, 0.00032882794039323926, 0.00022744860325474292, 0.0001435058657079935, 0.0001665727759245783, 0.0005600448348559439, 9.196540486300364e-05, 6.89237131155096e-05, 8.851508027873933e-05, 7.792737596901134e-05, 5.8657526096794754e-05, 3.2981835829559714e-05, 0.013257891871035099, 0.014790762215852737, 0.015730058774352074, 0.016415366902947426, 0.017003457993268967, 0.017454905435442924, 0.017871282994747162, 0.0, 0.0, 0.0, 0.0, 0.0, 0.0, 0.0, 0.0, 0.0, 0.0, 0.0], [0.8736865520477295, 0.00033687404356896877, 9.026633779285476e-05, 0.0003362435381859541, 0.0002742842771112919, 0.0007725606556050479, 0.0003415242535993457, 0.0002889919560402632, 0.0003030922671314329, 0.00021070477669127285, 0.0001312109234277159, 0.00014980786363594234, 0.0005077759851701558, 8.405341941397637e-05, 6.224460958037525e-05, 8.056779188336805e-05, 7.100528455339372e-05, 5.347761543816887e-05, 2.9648903364432044e-05, 0.012349098920822144, 0.013798164203763008, 0.01468728482723236, 0.015337676741182804, 0.015896694734692574, 0.016327088698744774, 0.016724172979593277, 0.017069058492779732, 0.0, 0.0, 0.0, 0.0, 0.0, 0.0, 0.0, 0.0, 0.0, 0.0], [0.8648176789283752, 0.0003139029140584171, 8.300301124108955e-05, 0.0003126087540294975, 0.000251025368925184, 0.0007241374696604908, 0.0003148118848912418, 0.00026594242081046104, 0.0002809043216984719, 0.00019631782197393477, 0.00012059431173838675, 0.00013575020420830697, 0.00046389258932322264, 7.725134491920471e-05, 5.6479708291590214e-05, 7.379068847512826e-05, 6.514875713037327e-05, 4.90842285216786e-05, 2.682772174011916e-05, 0.011584116145968437, 0.012963725253939629, 0.013811907730996609, 0.014434262178838253, 0.014970253221690655, 0.015384390950202942, 0.015766790136694908, 0.01610000990331173, 0.016355331987142563, 0.0, 0.0, 0.0, 0.0, 0.0, 0.0, 0.0, 0.0, 0.0], [0.8567706346511841, 0.00029317205189727247, 7.656128582311794e-05, 0.0002914702345151454, 0.0002306407695868984, 0.0006807644967921078, 0.000291257951175794, 0.0002458991657476872, 0.0002611997479107231, 0.00018359863315708935, 0.00011153611558256671, 0.0001237493270309642, 0.00042559433495625854, 7.12680266587995e-05, 5.148028867552057e-05, 6.789684994146228e-05, 6.0050679167034104e-05, 4.527535929810256e-05, 2.4446291718049906e-05, 0.010894195176661015, 0.012208526022732258, 0.013017933815717697, 0.01361347921192646, 0.01412733644247055, 0.014525600709021091, 0.014893646351993084, 0.015215304680168629, 0.015462428331375122, 0.015735043212771416, 0.0, 0.0, 0.0, 0.0, 0.0, 0.0, 0.0, 0.0], [0.8491678237915039, 0.0002748972037807107, 7.090881990734488e-05, 0.0002724482910707593, 0.00021315077901817858, 0.0006418945267796516, 0.0002706639643292874, 0.0002283733629155904, 0.000244012480834499, 0.00017210781516041607, 0.00010347778152208775, 0.00011341110803186893, 0.00039309627027250826, 6.59957731841132e-05, 4.717148840427399e-05, 6.278124055825174e-05, 5.5629905546084046e-05, 4.189245737507008e-05, 2.2374284526449628e-05, 0.010286970995366573, 0.01154277939349413, 0.01231731753796339, 0.012888597324490547, 0.01338231936097145, 0.013766027987003326, 0.014120891690254211, 0.014431824907660484, 0.01467127725481987, 0.014935151673853397, 0.015194721519947052, 0.0, 0.0, 0.0, 0.0, 0.0, 0.0, 0.0], [0.841817319393158, 0.00025833287509158254, 6.593663420062512e-05, 0.00025567066040821373, 0.00019764235184993595, 0.0006052437238395214, 0.00025143910897895694, 0.00021240908245090395, 0.00022857141448184848, 0.00016157612844835967, 9.616119496058673e-05, 0.00010407950321678072, 0.00036439948598854244, 6.108315574238077e-05, 4.320528023527004e-05, 5.818065983476117e-05, 5.171187876840122e-05, 3.884059697156772e-05, 2.052050331258215e-05, 0.009751380421221256, 0.010956789366900921, 0.011701611801981926, 0.01225244626402855, 0.01272931881248951, 0.013101066462695599, 0.013445193879306316, 0.013747521676123142, 0.013981102965772152, 0.01423817127943039, 0.014491287060081959, 0.014711772091686726, 0.0, 0.0, 0.0, 0.0, 0.0, 0.0], [0.8352093696594238, 0.00024341270909644663, 6.153016875032336e-05, 0.0002405139966867864, 0.00018420774722471833, 0.0005724291549995542, 0.0002346399996895343, 0.0001981981477001682, 0.00021490584185812622, 0.00015223636000882834, 8.980094571597874e-05, 9.600995690561831e-05, 0.00033944868482649326, 5.6811371905496344e-05, 3.9809427107684314e-05, 5.411970050772652e-05, 4.82867872051429e-05, 3.616558024077676e-05, 1.8930903024738654e-05, 0.009255836717784405, 0.010410667397081852, 0.011124696582555771, 0.011653540655970573, 0.012111833319067955, 0.012469672597944736, 0.012801096774637699, 0.01309275534003973, 0.013318309560418129, 0.013566485606133938, 0.013811037875711918, 0.01402414869517088, 0.014269132167100906, 0.0, 0.0, 0.0, 0.0, 0.0], [0.8285955786705017, 0.00022976606851443648, 5.757373583037406e-05, 0.00022687013552058488, 0.00017192917584907264, 0.0005414066254161298, 0.00021875055972486734, 0.00018509503570385277, 0.0002022571861743927, 0.00014362219371832907, 8.388313290197402e-05, 8.867263386491686e-05, 0.0003166661481373012, 5.279969627736136e-05, 3.664292671601288e-05, 5.0406521040713415e-05, 4.515732143772766e-05, 3.372490027686581e-05, 1.7477303117630072e-05, 0.008817002177238464, 0.009929496794939041, 0.010618516243994236, 0.011130052618682384, 0.011574018746614456, 0.011921653524041176, 0.012243933044373989, 0.012528201565146446, 0.012748698703944683, 0.012991059571504593, 0.01323010679334402, 0.013438772410154343, 0.013678575865924358, 0.013851593248546124, 0.0, 0.0, 0.0, 0.0], [0.8224436044692993, 0.00021754739282187074, 5.407818389357999e-05, 0.0002144331665476784, 0.00016120116924867034, 0.0005139718414284289, 0.00020509750174824148, 0.00017361287609674037, 0.00019110515131615102, 0.00013583435793407261, 7.866468513384461e-05, 8.225713827414438e-05, 0.00029669771902263165, 4.9278958613285795e-05, 3.392799771972932e-05, 4.713905218522996e-05, 4.2387597204651684e-05, 3.153441139147617e-05, 1.620664625079371e-05, 0.008412931114435196, 0.009484399110078812, 0.01014858577400446, 0.010642428882420063, 0.011071463115513325, 0.011407962068915367, 0.011720088310539722, 0.011995842680335045, 0.012210031971335411, 0.012445352040231228, 0.012677640654146671, 0.012880527414381504, 0.013113889843225479, 0.013282613828778267, 0.013517594896256924, 0.0, 0.0, 0.0], [0.8168028593063354, 0.00020613335072994232, 5.084788062958978e-05, 0.00020296811999287456, 0.00015156662266235799, 0.00048740580677986145, 0.000192124760360457, 0.0001626254088478163, 0.00018072547391057014, 0.00012852366489823908, 7.384527998510748e-05, 7.637801172677428e-05, 0.000278664956567809, 4.5973429223522544e-05, 3.1419458537129685e-05, 4.4061314838472754e-05, 3.9852267946116626e-05, 2.9518636438297108e-05, 1.5058725693961605e-05, 0.008036058396100998, 0.009067632257938385, 0.009707371704280376, 0.010183536447584629, 0.010597512125968933, 0.010922589339315891, 0.011224256828427315, 0.011491105891764164, 0.011698526330292225, 0.011926393024623394, 0.012151481583714485, 0.012348160147666931, 0.012574587017297745, 0.012738517485558987, 0.012966549955308437, 0.01316519733518362, 0.0, 0.0], [0.8117299675941467, 0.00019539559434633702, 4.7861700295470655e-05, 0.00019228427845519036, 0.00014273419219534844, 0.0004630601033568382, 0.00018063970492221415, 0.00015326074208132923, 0.000171288542333059, 0.00012185229570604861, 6.961300096008927e-05, 7.112545426934958e-05, 0.00026228962815366685, 4.3005115003325045e-05, 2.9223307137726806e-05, 4.1375842556590214e-05, 3.7576894101221114e-05, 2.7703239538823254e-05, 1.4051586731511634e-05, 0.007677711546421051, 0.008669792674481869, 0.009285030886530876, 0.0097432816401124, 0.010141897946596146, 0.010455138981342316, 0.010745882987976074, 0.011003331281244755, 0.011203411966562271, 0.01142323948442936, 0.01164053101092577, 0.011830350384116173, 0.012049190700054169, 0.012207603082060814, 0.012427997775375843, 0.012620165012776852, 0.012881102971732616, 0.0], [0.8068050146102905, 0.00018582181655801833, 4.519218055065721e-05, 0.00018249779532197863, 0.00013499421766027808, 0.00044075524783693254, 0.0001702376175671816, 0.00014444901898968965, 0.00016271117783617228, 0.00011565040040295571, 6.565498188138008e-05, 6.642484368057922e-05, 0.00024779493105597794, 4.034845915157348e-05, 2.7290512662148103e-05, 3.8912869058549404e-05, 3.5513858165359125e-05, 2.6049878215417266e-05, 1.3136106645106338e-05, 0.007352686952799559, 0.008307998068630695, 0.00890015996992588, 0.009341307915747166, 0.009725147858262062, 0.010026807896792889, 0.010306824930012226, 0.010554912500083447, 0.01074756495654583, 0.010959343053400517, 0.011168790981173515, 0.011351685971021652, 0.011562906205654144, 0.011715635657310486, 0.011928376741707325, 0.012113962322473526, 0.012366131879389286, 0.012621346861124039]], [[1.0, 0.0, 0.0, 0.0, 0.0, 0.0, 0.0, 0.0, 0.0, 0.0, 0.0, 0.0, 0.0, 0.0, 0.0, 0.0, 0.0, 0.0, 0.0, 0.0, 0.0, 0.0, 0.0, 0.0, 0.0, 0.0, 0.0, 0.0, 0.0, 0.0, 0.0, 0.0, 0.0, 0.0, 0.0, 0.0, 0.0], [0.9859317541122437, 0.01406826265156269, 0.0, 0.0, 0.0, 0.0, 0.0, 0.0, 0.0, 0.0, 0.0, 0.0, 0.0, 0.0, 0.0, 0.0, 0.0, 0.0, 0.0, 0.0, 0.0, 0.0, 0.0, 0.0, 0.0, 0.0, 0.0, 0.0, 0.0, 0.0, 0.0, 0.0, 0.0, 0.0, 0.0, 0.0, 0.0], [0.9981697797775269, 0.0011975826928392053, 0.0006326846196316183, 0.0, 0.0, 0.0, 0.0, 0.0, 0.0, 0.0, 0.0, 0.0, 0.0, 0.0, 0.0, 0.0, 0.0, 0.0, 0.0, 0.0, 0.0, 0.0, 0.0, 0.0, 0.0, 0.0, 0.0, 0.0, 0.0, 0.0, 0.0, 0.0, 0.0, 0.0, 0.0, 0.0, 0.0], [0.9258183836936951, 0.03354669734835625, 0.0034220670349895954, 0.03721290081739426, 0.0, 0.0, 0.0, 0.0, 0.0, 0.0, 0.0, 0.0, 0.0, 0.0, 0.0, 0.0, 0.0, 0.0, 0.0, 0.0, 0.0, 0.0, 0.0, 0.0, 0.0, 0.0, 0.0, 0.0, 0.0, 0.0, 0.0, 0.0, 0.0, 0.0, 0.0, 0.0, 0.0], [0.8493220806121826, 0.03360786288976669, 0.002442672150209546, 0.032509759068489075, 0.08211763948202133, 0.0, 0.0, 0.0, 0.0, 0.0, 0.0, 0.0, 0.0, 0.0, 0.0, 0.0, 0.0, 0.0, 0.0, 0.0, 0.0, 0.0, 0.0, 0.0, 0.0, 0.0, 0.0, 0.0, 0.0, 0.0, 0.0, 0.0, 0.0, 0.0, 0.0, 0.0, 0.0], [0.8568117618560791, 0.017055749893188477, 0.0008695897995494306, 0.0013636748772114515, 0.01756146550178528, 0.10633775591850281, 0.0, 0.0, 0.0, 0.0, 0.0, 0.0, 0.0, 0.0, 0.0, 0.0, 0.0, 0.0, 0.0, 0.0, 0.0, 0.0, 0.0, 0.0, 0.0, 0.0, 0.0, 0.0, 0.0, 0.0, 0.0, 0.0, 0.0, 0.0, 0.0, 0.0, 0.0], [0.8529680371284485, 0.003016606904566288, 0.0002497124078217894, 0.0006843859446235001, 0.01163437683135271, 0.033902015537023544, 0.09754480421543121, 0.0, 0.0, 0.0, 0.0, 0.0, 0.0, 0.0, 0.0, 0.0, 0.0, 0.0, 0.0, 0.0, 0.0, 0.0, 0.0, 0.0, 0.0, 0.0, 0.0, 0.0, 0.0, 0.0, 0.0, 0.0, 0.0, 0.0, 0.0, 0.0, 0.0], [0.831300675868988, 0.00783059373497963, 0.0009848200716078281, 0.00165073131211102, 0.012563463300466537, 0.008389719761908054, 0.01270389836281538, 0.12457606941461563, 0.0, 0.0, 0.0, 0.0, 0.0, 0.0, 0.0, 0.0, 0.0, 0.0, 0.0, 0.0, 0.0, 0.0, 0.0, 0.0, 0.0, 0.0, 0.0, 0.0, 0.0, 0.0, 0.0, 0.0, 0.0, 0.0, 0.0, 0.0, 0.0], [0.9031808376312256, 0.005338540766388178, 0.0003112523991148919, 0.012885223142802715, 0.013635633513331413, 0.008763935416936874, 0.0013333369279280305, 0.015296613797545433, 0.0392545685172081, 0.0, 0.0, 0.0, 0.0, 0.0, 0.0, 0.0, 0.0, 0.0, 0.0, 0.0, 0.0, 0.0, 0.0, 0.0, 0.0, 0.0, 0.0, 0.0, 0.0, 0.0, 0.0, 0.0, 0.0, 0.0, 0.0, 0.0, 0.0], [0.9230168461799622, 0.0004636599333025515, 6.476495764218271e-05, 0.002643116982653737, 0.005401420406997204, 0.002825906267389655, 0.002457349793985486, 0.001411196542903781, 0.02446100115776062, 0.03725477308034897, 0.0, 0.0, 0.0, 0.0, 0.0, 0.0, 0.0, 0.0, 0.0, 0.0, 0.0, 0.0, 0.0, 0.0, 0.0, 0.0, 0.0, 0.0, 0.0, 0.0, 0.0, 0.0, 0.0, 0.0, 0.0, 0.0, 0.0], [0.643324077129364, 0.002377489348873496, 2.131743895006366e-05, 0.0006768665625713766, 0.005200866609811783, 0.2485792338848114, 0.02333475463092327, 0.0035546233411878347, 0.00933869183063507, 0.004532120656222105, 0.059060003608465195, 0.0, 0.0, 0.0, 0.0, 0.0, 0.0, 0.0, 0.0, 0.0, 0.0, 0.0, 0.0, 0.0, 0.0, 0.0, 0.0, 0.0, 0.0, 0.0, 0.0, 0.0, 0.0, 0.0, 0.0, 0.0, 0.0], [0.851223886013031, 0.0025595976039767265, 0.00015655267634429038, 0.0009222366497851908, 0.008059225976467133, 0.023198077455163002, 0.014734763652086258, 0.004786253906786442, 0.01914343424141407, 0.017541907727718353, 0.03176222741603851, 0.02591191790997982, 0.0, 0.0, 0.0, 0.0, 0.0, 0.0, 0.0, 0.0, 0.0, 0.0, 0.0, 0.0, 0.0, 0.0, 0.0, 0.0, 0.0, 0.0, 0.0, 0.0, 0.0, 0.0, 0.0, 0.0, 0.0], [0.5322502255439758, 0.042372893542051315, 0.0003117853484582156, 0.011919036507606506, 0.03849079832434654, 0.1274178922176361, 0.024341780692338943, 0.038971081376075745, 0.05963338539004326, 0.03404131159186363, 0.026680994778871536, 0.010229195468127728, 0.05333958938717842, 0.0, 0.0, 0.0, 0.0, 0.0, 0.0, 0.0, 0.0, 0.0, 0.0, 0.0, 0.0, 0.0, 0.0, 0.0, 0.0, 0.0, 0.0, 0.0, 0.0, 0.0, 0.0, 0.0, 0.0], [0.12255307286977768, 0.008150511421263218, 9.500949818175286e-05, 0.0012916307896375656, 0.017411576583981514, 0.027183201164007187, 0.5956650376319885, 0.09817750006914139, 0.045733533799648285, 0.007487868424504995, 0.026085447520017624, 0.004072916693985462, 0.02996174432337284, 0.016130903735756874, 0.0, 0.0, 0.0, 0.0, 0.0, 0.0, 0.0, 0.0, 0.0, 0.0, 0.0, 0.0, 0.0, 0.0, 0.0, 0.0, 0.0, 0.0, 0.0, 0.0, 0.0, 0.0, 0.0], [0.05342859402298927, 0.0017215932020917535, 1.7205475160153583e-05, 0.0002283276553498581, 0.0040524424985051155, 0.0008361657964996994, 0.0017482723342254758, 0.9022077918052673, 0.01605345867574215, 0.0005602156743407249, 0.0023546440061181784, 8.454419730696827e-05, 0.007576148025691509, 0.0004595347272697836, 0.008671016432344913, 0.0, 0.0, 0.0, 0.0, 0.0, 0.0, 0.0, 0.0, 0.0, 0.0, 0.0, 0.0, 0.0, 0.0, 0.0, 0.0, 0.0, 0.0, 0.0, 0.0, 0.0, 0.0], [0.46412360668182373, 0.00083660997916013, 5.251345282886177e-05, 0.0017622319282963872, 0.010800936259329319, 0.0019078754121437669, 0.001576989539898932, 0.001578520517796278, 0.11489938944578171, 0.2720075845718384, 0.07365494221448898, 0.0018389866454526782, 0.04637739434838295, 0.0013707022881135345, 0.002226711018010974, 0.004985030274838209, 0.0, 0.0, 0.0, 0.0, 0.0, 0.0, 0.0, 0.0, 0.0, 0.0, 0.0, 0.0, 0.0, 0.0, 0.0, 0.0, 0.0, 0.0, 0.0, 0.0, 0.0], [0.3236674666404724, 0.0014275191351771355, 0.00012219752534292638, 0.004999228287488222, 0.006377503275871277, 0.006020141765475273, 0.001489480142481625, 0.0029604523442685604, 0.02941174991428852, 0.4945667088031769, 0.045989181846380234, 0.004957826808094978, 0.020933406427502632, 0.007593258749693632, 0.0015667603584006429, 0.004499256610870361, 0.04341783747076988, 0.0, 0.0, 0.0, 0.0, 0.0, 0.0, 0.0, 0.0, 0.0, 0.0, 0.0, 0.0, 0.0, 0.0, 0.0, 0.0, 0.0, 0.0, 0.0, 0.0], [0.6532039642333984, 0.0007466300157830119, 4.2936891986755654e-05, 0.001513293362222612, 0.010358059778809547, 0.001185513800010085, 0.0018391284393146634, 0.000871221418492496, 0.034529462456703186, 0.0470406636595726, 0.1275174766778946, 0.001395274419337511, 0.02231612801551819, 0.0013073351001366973, 0.003088347613811493, 0.002660927129909396, 0.03892556205391884, 0.05145815387368202, 0.0, 0.0, 0.0, 0.0, 0.0, 0.0, 0.0, 0.0, 0.0, 0.0, 0.0, 0.0, 0.0, 0.0, 0.0, 0.0, 0.0, 0.0, 0.0], [0.3534672260284424, 0.0019929183181375265, 2.1295332771842368e-05, 0.00034783457522280514, 0.008972198702394962, 0.0876164436340332, 0.007191138342022896, 0.0008473009802401066, 0.012512145563960075, 0.0029116456862539053, 0.04523234814405441, 0.2233799397945404, 0.03488459810614586, 0.1527894139289856, 0.011098489165306091, 0.002943597501143813, 0.014778917655348778, 0.0032063419930636883, 0.03580615669488907, 0.0, 0.0, 0.0, 0.0, 0.0, 0.0, 0.0, 0.0, 0.0, 0.0, 0.0, 0.0, 0.0, 0.0, 0.0, 0.0, 0.0, 0.0], [0.9377731680870056, 0.0028735962696373463, 0.0001765413471730426, 0.0008960461709648371, 0.0028628900181502104, 0.00554712675511837, 0.0010697043035179377, 0.0006927698850631714, 0.0013593772891908884, 0.0002793421735987067, 0.0014339213958010077, 0.0014475776115432382, 0.0029955555219203234, 0.0025315177626907825, 0.0005624353070743382, 0.0003538534801919013, 0.0007147163851186633, 0.00014395246398635209, 0.0005978950648568571, 0.0356881245970726, 0.0, 0.0, 0.0, 0.0, 0.0, 0.0, 0.0, 0.0, 0.0, 0.0, 0.0, 0.0, 0.0, 0.0, 0.0, 0.0, 0.0], [0.915507435798645, 0.0024996879510581493, 0.0001396485313307494, 0.0007274561212398112, 0.0023080420214682817, 0.004729419481009245, 0.0008640275918878615, 0.000570080999750644, 0.0010814532870426774, 0.00021419442782644182, 0.0011339079355821013, 0.0011235644342377782, 0.0023688767105340958, 0.002089315326884389, 0.00045220673200674355, 0.00028560144710354507, 0.0005639172159135342, 0.00011021558020729572, 0.00047463460941798985, 0.030346984043717384, 0.03240922465920448, 0.0, 0.0, 0.0, 0.0, 0.0, 0.0, 0.0, 0.0, 0.0, 0.0, 0.0, 0.0, 0.0, 0.0, 0.0, 0.0], [0.8935754299163818, 0.002300164196640253, 0.00011928702588193119, 0.0006394252413883805, 0.002025045221671462, 0.004267075099050999, 0.0007592341280542314, 0.0005072979838587344, 0.0009418216068297625, 0.00018316571367904544, 0.0009813205106183887, 0.0009545473731122911, 0.002052724827080965, 0.0018449451308697462, 0.0003971970290876925, 0.00025084707885980606, 0.0004880507767666131, 9.433384548174217e-05, 0.0004137765499763191, 0.02748751826584339, 0.029410894960165024, 0.030305953696370125, 0.0, 0.0, 0.0, 0.0, 0.0, 0.0, 0.0, 0.0, 0.0, 0.0, 0.0, 0.0, 0.0, 0.0, 0.0], [0.872807502746582, 0.0021526154596358538, 0.00010499110067030415, 0.0005783491651527584, 0.001834698487073183, 0.0039265030063688755, 0.0006876274710521102, 0.00046393461525440216, 0.0008481985423713923, 0.00016302023141179234, 0.0008782929508015513, 0.00083989801350981, 0.0018433904042467475, 0.0016701677814126015, 0.00036017800448462367, 0.0002273425052408129, 0.0004372512921690941, 8.405145490542054e-05, 0.0003730070311576128, 0.025491133332252502, 0.027322344481945038, 0.028178740292787552, 0.02872670255601406, 0.0, 0.0, 0.0, 0.0, 0.0, 0.0, 0.0, 0.0, 0.0, 0.0, 0.0, 0.0, 0.0, 0.0], [0.8537247180938721, 0.002022111788392067, 9.36880533117801e-05, 0.0005293327267281711, 0.0016830808017402887, 0.003640176495537162, 0.0006305260467343032, 0.0004286094626877457, 0.000774419866502285, 0.00014765832747798413, 0.0007987397257238626, 0.0007515905308537185, 0.001679397071711719, 0.0015278905630111694, 0.0003306198923382908, 0.00020858063362538815, 0.00039737095357850194, 7.620337419211864e-05, 0.00034105146187357605, 0.02384948916733265, 0.025597965344786644, 0.026418665423989296, 0.026944534853100777, 0.027403447777032852, 0.0, 0.0, 0.0, 0.0, 0.0, 0.0, 0.0, 0.0, 0.0, 0.0, 0.0, 0.0, 0.0], [0.8357671499252319, 0.0019071586430072784, 8.443649130640551e-05, 0.0004891058779321611, 0.0015594689175486565, 0.0033959131687879562, 0.0005834608455188572, 0.000398778822273016, 0.0007147310534492135, 0.00013532901357393712, 0.0007340255542658269, 0.0006807746249251068, 0.0015484129544347525, 0.0014084685826674104, 0.00030628457898274064, 0.00019316132238600403, 0.00036523572634905577, 6.991897680563852e-05, 0.00031494509312324226, 0.022502070292830467, 0.024184683337807655, 0.02497834712266922, 0.02548859268426895, 0.0259329155087471, 0.026256749406456947, 0.0, 0.0, 0.0, 0.0, 0.0, 0.0, 0.0, 0.0, 0.0, 0.0, 0.0, 0.0], [0.819076418876648, 0.0018017051042988896, 7.655512308701873e-05, 0.0004537560453172773, 0.001453210017643869, 0.003178373211994767, 0.0005427427240647376, 0.00037189756403677166, 0.0006631915457546711, 0.00012471998343244195, 0.0006792195490561426, 0.0006217625923454762, 0.0014370981371030211, 0.0013046598760411143, 0.0002852889883797616, 0.0001796075375750661, 0.0003375778323970735, 6.452018715208396e-05, 0.000292515498585999, 0.021329723298549652, 0.022952087223529816, 0.023720622062683105, 0.024216309189796448, 0.024647336453199387, 0.024962343275547028, 0.025226851925253868, 0.0, 0.0, 0.0, 0.0, 0.0, 0.0, 0.0, 0.0, 0.0, 0.0, 0.0], [0.8034508228302002, 0.0017034572083503008, 6.979655154282227e-05, 0.0004228799371048808, 0.001360391965135932, 0.00298062595538795, 0.0005060392431914806, 0.0003474893164820969, 0.0006186601822264493, 0.00011548877955647185, 0.0006316808867268264, 0.0005708509124815464, 0.0013410730753093958, 0.0012118290178477764, 0.00026650502695702016, 0.0001676214305916801, 0.00031377808772958815, 5.9832735132658854e-05, 0.00027292821323499084, 0.020298823714256287, 0.02186817117035389, 0.022614695131778717, 0.023097733035683632, 0.023517277091741562, 0.023824799805879593, 0.024083245545625687, 0.02428356558084488, 0.0, 0.0, 0.0, 0.0, 0.0, 0.0, 0.0, 0.0, 0.0, 0.0], [0.788630485534668, 0.0016136016929522157, 6.372554344125092e-05, 0.00039533295785076916, 0.0012781552504748106, 0.0027989617083221674, 0.0004727060440927744, 0.00032522459514439106, 0.0005790119175799191, 0.0001071929800673388, 0.0005892860353924334, 0.0005259318859316409, 0.0012570733670145273, 0.0011277626035735011, 0.0002494415966793895, 0.0001567145372973755, 0.00029251028900034726, 5.558966950047761e-05, 0.0002553318627178669, 0.01939539983868599, 0.020919950678944588, 0.0216487068682909, 0.0221222173422575, 0.02253328636288643, 0.022835882380604744, 0.02309064380824566, 0.02328929491341114, 0.023390555754303932, 0.0, 0.0, 0.0, 0.0, 0.0, 0.0, 0.0, 0.0, 0.0], [0.7749064564704895, 0.0015317422803491354, 5.8484023611526936e-05, 0.0003706736897584051, 0.0012043491005897522, 0.0026359406765550375, 0.0004429749969858676, 0.0003053833788726479, 0.0005438004736788571, 0.0001000556512735784, 0.0005524161970242858, 0.00048695551231503487, 0.0011821293737739325, 0.0010535947512835264, 0.00023427075939252973, 0.0001471010473323986, 0.00027390202740207314, 5.196668644202873e-05, 0.00023998625692911446, 0.01856645755469799, 0.020046250894665718, 0.020756209269165993, 0.021219005808234215, 0.0216206181794405, 0.02191723883152008, 0.02216731570661068, 0.022363271564245224, 0.022464800626039505, 0.02255663461983204, 0.0, 0.0, 0.0, 0.0, 0.0, 0.0, 0.0, 0.0], [0.7620331048965454, 0.0014551437925547361, 5.375395267037675e-05, 0.0003478666767477989, 0.0011375659378245473, 0.002483786316588521, 0.0004152090405113995, 0.0002867926377803087, 0.0005117235705256462, 9.345522994408384e-05, 0.0005186926573514938, 0.0004516767803579569, 0.0011147679761052132, 0.0009851485956460238, 0.00022016283764969558, 0.0001381628098897636, 0.0002569228527136147, 4.8590402002446353e-05, 0.00022579520009458065, 0.017812110483646393, 0.019250229001045227, 0.019942326471209526, 0.020394662395119667, 0.020787019282579422, 0.02107754722237587, 0.02132273279130459, 0.021515602245926857, 0.021616792306303978, 0.021708063781261444, 0.021794643253087997, 0.0, 0.0, 0.0, 0.0, 0.0, 0.0, 0.0], [0.7496677041053772, 0.0013834949349984527, 4.9545615183888e-05, 0.0003276572097092867, 0.0010779736330732703, 0.0023438020143657923, 0.0003896704001817852, 0.00026930661988444626, 0.0004827149386983365, 8.736721065361053e-05, 0.00048801189404912293, 0.0004200562834739685, 0.0010544685646891594, 0.0009230453288182616, 0.00020731822587549686, 0.0001298832503380254, 0.00024162372574210167, 4.548928700387478e-05, 0.0002129807835444808, 0.01713416539132595, 0.018537010997533798, 0.019214846193790436, 0.019659407436847687, 0.02004493586719036, 0.020331459119915962, 0.020573660731315613, 0.020765144377946854, 0.020867416635155678, 0.02095944993197918, 0.021046923473477364, 0.02106351964175701, 0.0, 0.0, 0.0, 0.0, 0.0, 0.0], [0.7383441925048828, 0.0013179396046325564, 4.58042741229292e-05, 0.00030908730695955455, 0.0010232300264760852, 0.0022155309561640024, 0.0003662261296994984, 0.0002536847023293376, 0.0004564761184155941, 8.197789429686964e-05, 0.0004603701236192137, 0.0003917244030162692, 0.0009996690787374973, 0.0008664386114105582, 0.00019544374663382769, 0.00012245916877873242, 0.00022787887428421527, 4.272898149793036e-05, 0.0002013442135648802, 0.0164934154599905, 0.01785874553024769, 0.01851990446448326, 0.018954282626509666, 0.019330767914652824, 0.01961103267967701, 0.019848067313432693, 0.020035970956087112, 0.020137108862400055, 0.020227868109941483, 0.020314231514930725, 0.020331768319010735, 0.02041460946202278, 0.0, 0.0, 0.0, 0.0, 0.0], [0.7272089719772339, 0.001256952527910471, 4.2418894736329094e-05, 0.000291987118544057, 0.0009729149751365185, 0.002094633411616087, 0.0003443092864472419, 0.00023907994909677655, 0.00043225203990004957, 7.701922731939703e-05, 0.00043470843229442835, 0.00036594548146240413, 0.0009497726568952203, 0.0008139442070387304, 0.0001844602229539305, 0.00011554791853995994, 0.00021525478223338723, 4.020604683319107e-05, 0.0001906866382341832, 0.015918727964162827, 0.017253737896680832, 0.017902599647641182, 0.018330320715904236, 0.01870104856789112, 0.01897800713777542, 0.019212666898965836, 0.01939956471323967, 0.019501818343997, 0.01959342136979103, 0.019680798053741455, 0.01970105990767479, 0.01978459022939205, 0.019770609214901924, 0.0, 0.0, 0.0, 0.0], [0.7165385484695435, 0.001200409489683807, 3.935570202884264e-05, 0.00027634494472295046, 0.000928556895814836, 0.0019839878659695387, 0.0003242232196498662, 0.00022543584054801613, 0.00041058578062802553, 7.248652400448918e-05, 0.00041176649392582476, 0.00034276916994713247, 0.0009056811104528606, 0.0007663784781470895, 0.00017439830116927624, 0.00010913587175309658, 0.00020392786245793104, 3.787491004914045e-05, 0.00018104608170688152, 0.015396609902381897, 0.016702232882380486, 0.017338646575808525, 0.017759175971150398, 0.018123628571629524, 0.01839657500386238, 0.01862807758152485, 0.018813084810972214, 0.018915459513664246, 0.019006989896297455, 0.019094431772828102, 0.019116366282105446, 0.019199678674340248, 0.01918793097138405, 0.019188174977898598, 0.0, 0.0, 0.0], [0.7069655656814575, 0.0011483562411740422, 3.664237738121301e-05, 0.00026194259407930076, 0.0008861218229867518, 0.0018797682132571936, 0.00030524356407113373, 0.00021299174113664776, 0.0003900607698597014, 6.834471423644572e-05, 0.0003901115560438484, 0.00032114837085828185, 0.0008635104168206453, 0.000721892633009702, 0.00016484314983244985, 0.00010321899026166648, 0.0001933618332259357, 3.5746586945606396e-05, 0.00017197433044202626, 0.014883703552186489, 0.01615878753364086, 0.016781633719801903, 0.017193913459777832, 0.01755107380449772, 0.01781902089715004, 0.018046429380774498, 0.018228625878691673, 0.01833021268248558, 0.018420839682221413, 0.018507545813918114, 0.018530387431383133, 0.018612796440720558, 0.018602553755044937, 0.018603883683681488, 0.018607797101140022, 0.0, 0.0], [0.6978321075439453, 0.0010987877612933517, 3.4186516131740063e-05, 0.000248805561568588, 0.0008477818919345737, 0.0017883984837681055, 0.00028897784068249166, 0.00020187876361887902, 0.00037175710895098746, 6.472086533904076e-05, 0.00037126248935237527, 0.00030256123864091933, 0.0008257366134785116, 0.0006831731298007071, 0.00015654154412914068, 9.801212581805885e-05, 0.00018395563529338688, 3.3869986509671435e-05, 0.0001639792026253417, 0.01441174652427435, 0.015656085684895515, 0.016264580190181732, 0.016667751595377922, 0.017016896978020668, 0.017279047518968582, 0.017501607537269592, 0.017680203542113304, 0.017780164256691933, 0.017869101837277412, 0.017954327166080475, 0.017977265641093254, 0.018058083951473236, 0.018048590049147606, 0.018050290644168854, 0.01805443875491619, 0.01813334971666336, 0.0], [0.6892164945602417, 0.0010532558662816882, 3.199991988367401e-05, 0.00023683987092226744, 0.0008127380278892815, 0.0017029264708980918, 0.0002736230962909758, 0.0001915171160362661, 0.000354868738213554, 6.136984302429482e-05, 0.00035376311279833317, 0.0002853874466381967, 0.0007910617277957499, 0.0006472307723015547, 0.00014875450870022178, 9.311616304330528e-05, 0.00017532111087348312, 3.212798401364125e-05, 0.00015653175069019198, 0.013965447433292866, 0.015180572867393494, 0.01577535830438137, 0.016169695183634758, 0.0165109746158123, 0.01676732487976551, 0.01698494516313076, 0.017159778624773026, 0.01725783385336399, 0.017344841733574867, 0.017428314313292503, 0.017451008781790733, 0.017530014738440514, 0.017520906403660774, 0.017522675916552544, 0.01752678118646145, 0.017603741958737373, 0.017680875957012177]], [[1.0, 0.0, 0.0, 0.0, 0.0, 0.0, 0.0, 0.0, 0.0, 0.0, 0.0, 0.0, 0.0, 0.0, 0.0, 0.0, 0.0, 0.0, 0.0, 0.0, 0.0, 0.0, 0.0, 0.0, 0.0, 0.0, 0.0, 0.0, 0.0, 0.0, 0.0, 0.0, 0.0, 0.0, 0.0, 0.0, 0.0], [0.9915880560874939, 0.008411883376538754, 0.0, 0.0, 0.0, 0.0, 0.0, 0.0, 0.0, 0.0, 0.0, 0.0, 0.0, 0.0, 0.0, 0.0, 0.0, 0.0, 0.0, 0.0, 0.0, 0.0, 0.0, 0.0, 0.0, 0.0, 0.0, 0.0, 0.0, 0.0, 0.0, 0.0, 0.0, 0.0, 0.0, 0.0, 0.0], [0.9991808533668518, 0.0004878503386862576, 0.00033127711503766477, 0.0, 0.0, 0.0, 0.0, 0.0, 0.0, 0.0, 0.0, 0.0, 0.0, 0.0, 0.0, 0.0, 0.0, 0.0, 0.0, 0.0, 0.0, 0.0, 0.0, 0.0, 0.0, 0.0, 0.0, 0.0, 0.0, 0.0, 0.0, 0.0, 0.0, 0.0, 0.0, 0.0, 0.0], [0.9789261221885681, 0.005764268338680267, 0.0005560616264119744, 0.014753563329577446, 0.0, 0.0, 0.0, 0.0, 0.0, 0.0, 0.0, 0.0, 0.0, 0.0, 0.0, 0.0, 0.0, 0.0, 0.0, 0.0, 0.0, 0.0, 0.0, 0.0, 0.0, 0.0, 0.0, 0.0, 0.0, 0.0, 0.0, 0.0, 0.0, 0.0, 0.0, 0.0, 0.0], [0.9326930642127991, 0.006096855737268925, 0.0002333255106350407, 0.008568970486521721, 0.05240774154663086, 0.0, 0.0, 0.0, 0.0, 0.0, 0.0, 0.0, 0.0, 0.0, 0.0, 0.0, 0.0, 0.0, 0.0, 0.0, 0.0, 0.0, 0.0, 0.0, 0.0, 0.0, 0.0, 0.0, 0.0, 0.0, 0.0, 0.0, 0.0, 0.0, 0.0, 0.0, 0.0], [0.9654887914657593, 0.004824413452297449, 0.00042439959361217916, 0.0009161463822238147, 0.019650889560580254, 0.008695317432284355, 0.0, 0.0, 0.0, 0.0, 0.0, 0.0, 0.0, 0.0, 0.0, 0.0, 0.0, 0.0, 0.0, 0.0, 0.0, 0.0, 0.0, 0.0, 0.0, 0.0, 0.0, 0.0, 0.0, 0.0, 0.0, 0.0, 0.0, 0.0, 0.0, 0.0, 0.0], [0.9472834467887878, 0.0032733618281781673, 0.00035660425783134997, 0.0010749236680567265, 0.02652892656624317, 0.003972756210714579, 0.01750992238521576, 0.0, 0.0, 0.0, 0.0, 0.0, 0.0, 0.0, 0.0, 0.0, 0.0, 0.0, 0.0, 0.0, 0.0, 0.0, 0.0, 0.0, 0.0, 0.0, 0.0, 0.0, 0.0, 0.0, 0.0, 0.0, 0.0, 0.0, 0.0, 0.0, 0.0], [0.9504308104515076, 0.002360612154006958, 0.0006578530301339924, 0.001582644646987319, 0.03361218422651291, 0.0014976721722632647, 0.0024219765327870846, 0.007436196319758892, 0.0, 0.0, 0.0, 0.0, 0.0, 0.0, 0.0, 0.0, 0.0, 0.0, 0.0, 0.0, 0.0, 0.0, 0.0, 0.0, 0.0, 0.0, 0.0, 0.0, 0.0, 0.0, 0.0, 0.0, 0.0, 0.0, 0.0, 0.0, 0.0], [0.9597838521003723, 0.0010644064750522375, 0.00028776127146556973, 0.00342598301358521, 0.01904361881315708, 0.0015523576876148582, 0.0007424748037010431, 0.0011565720196813345, 0.012943028472363949, 0.0, 0.0, 0.0, 0.0, 0.0, 0.0, 0.0, 0.0, 0.0, 0.0, 0.0, 0.0, 0.0, 0.0, 0.0, 0.0, 0.0, 0.0, 0.0, 0.0, 0.0, 0.0, 0.0, 0.0, 0.0, 0.0, 0.0, 0.0], [0.9713581204414368, 0.0008565335883758962, 0.00011380828800611198, 0.0019452968845143914, 0.012673205696046352, 0.0009730385500006378, 0.0004833806597162038, 0.00043008264037780464, 0.0046825110912323, 0.006483939476311207, 0.0, 0.0, 0.0, 0.0, 0.0, 0.0, 0.0, 0.0, 0.0, 0.0, 0.0, 0.0, 0.0, 0.0, 0.0, 0.0, 0.0, 0.0, 0.0, 0.0, 0.0, 0.0, 0.0, 0.0, 0.0, 0.0, 0.0], [0.9693828821182251, 0.0020196244586259127, 0.00012786241131834686, 0.00031688105082139373, 0.010439529083669186, 0.0038472292944788933, 0.0016863157507032156, 0.0011285345535725355, 0.0025717962998896837, 0.004783196374773979, 0.0036962046287953854, 0.0, 0.0, 0.0, 0.0, 0.0, 0.0, 0.0, 0.0, 0.0, 0.0, 0.0, 0.0, 0.0, 0.0, 0.0, 0.0, 0.0, 0.0, 0.0, 0.0, 0.0, 0.0, 0.0, 0.0, 0.0, 0.0], [0.9765939712524414, 0.0034006149508059025, 8.567373151890934e-05, 0.00023283870541490614, 0.00453944643959403, 0.001125271082855761, 0.001391606405377388, 0.0025552865117788315, 0.0020174740348011255, 0.0016053748549893498, 0.0019410363165661693, 0.004511452279984951, 0.0, 0.0, 0.0, 0.0, 0.0, 0.0, 0.0, 0.0, 0.0, 0.0, 0.0, 0.0, 0.0, 0.0, 0.0, 0.0, 0.0, 0.0, 0.0, 0.0, 0.0, 0.0, 0.0, 0.0, 0.0], [0.9456382989883423, 0.003820922691375017, 0.0005467370501719415, 0.004823131952434778, 0.010883482173085213, 0.003254505805671215, 0.0023765917867422104, 0.0018068901263177395, 0.005740152206271887, 0.0032164028380066156, 0.003489235183224082, 0.0006020684377290308, 0.013801634311676025, 0.0, 0.0, 0.0, 0.0, 0.0, 0.0, 0.0, 0.0, 0.0, 0.0, 0.0, 0.0, 0.0, 0.0, 0.0, 0.0, 0.0, 0.0, 0.0, 0.0, 0.0, 0.0, 0.0, 0.0], [0.7290418744087219, 0.011935004964470863, 0.0011803912930190563, 0.0036112775560468435, 0.03664500266313553, 0.015583254396915436, 0.057343024760484695, 0.04680221155285835, 0.0400899313390255, 0.0076238722540438175, 0.010357031598687172, 0.0022804741747677326, 0.02460932545363903, 0.012897324748337269, 0.0, 0.0, 0.0, 0.0, 0.0, 0.0, 0.0, 0.0, 0.0, 0.0, 0.0, 0.0, 0.0, 0.0, 0.0, 0.0, 0.0, 0.0, 0.0, 0.0, 0.0, 0.0, 0.0], [0.6636647582054138, 0.0034882905893027782, 0.00040193652966991067, 0.002763013355433941, 0.04552986100316048, 0.005706576630473137, 0.03472333401441574, 0.043418463319540024, 0.07670444250106812, 0.007952907122671604, 0.021504564210772514, 0.0015513726975768805, 0.016469718888401985, 0.0018360966350883245, 0.07428471744060516, 0.0, 0.0, 0.0, 0.0, 0.0, 0.0, 0.0, 0.0, 0.0, 0.0, 0.0, 0.0, 0.0, 0.0, 0.0, 0.0, 0.0, 0.0, 0.0, 0.0, 0.0, 0.0], [0.8655998110771179, 0.0024821048136800528, 0.00020096411753911525, 0.003471716307103634, 0.0270896814763546, 0.0009575519943609834, 0.0023836640175431967, 0.0037525086663663387, 0.04641139879822731, 0.011593425646424294, 0.01571911945939064, 0.00036236713640391827, 0.016004400327801704, 0.00022102681396063417, 0.0016478043980896473, 0.002102453727275133, 0.0, 0.0, 0.0, 0.0, 0.0, 0.0, 0.0, 0.0, 0.0, 0.0, 0.0, 0.0, 0.0, 0.0, 0.0, 0.0, 0.0, 0.0, 0.0, 0.0, 0.0], [0.9447351694107056, 0.0009832436917349696, 0.0001753391115926206, 0.0028839788865298033, 0.008696392178535461, 0.0013219367247074842, 0.0007444724324159324, 0.0008807247504591942, 0.0052651651203632355, 0.01786934584379196, 0.00423515634611249, 0.0005468273302540183, 0.007797042839229107, 0.0001319846196565777, 0.00011492706107674167, 0.0001902079675346613, 0.003427917370572686, 0.0, 0.0, 0.0, 0.0, 0.0, 0.0, 0.0, 0.0, 0.0, 0.0, 0.0, 0.0, 0.0, 0.0, 0.0, 0.0, 0.0, 0.0, 0.0, 0.0], [0.8269131183624268, 0.002511820523068309, 0.00034807733027264476, 0.009599639102816582, 0.02732248790562153, 0.002041641855612397, 0.0011500823311507702, 0.0007756503764539957, 0.015780333429574966, 0.020241128280758858, 0.05099525302648544, 0.003945803735405207, 0.01897064410150051, 0.0005178123246878386, 0.0003150298725813627, 0.00035236027906648815, 0.0070433118380606174, 0.011175854131579399, 0.0, 0.0, 0.0, 0.0, 0.0, 0.0, 0.0, 0.0, 0.0, 0.0, 0.0, 0.0, 0.0, 0.0, 0.0, 0.0, 0.0, 0.0, 0.0], [0.877957284450531, 0.002684180159121752, 0.00010846278019016609, 0.0005999963614158332, 0.015345879830420017, 0.008895346894860268, 0.0030618479941040277, 0.0022867396473884583, 0.008473720401525497, 0.012701801024377346, 0.0060912128537893295, 0.01683798059821129, 0.034332722425460815, 0.0014227397041395307, 0.0008236534195020795, 0.0006046349299140275, 0.003755981335416436, 0.001597013557329774, 0.002418658696115017, 0.0, 0.0, 0.0, 0.0, 0.0, 0.0, 0.0, 0.0, 0.0, 0.0, 0.0, 0.0, 0.0, 0.0, 0.0, 0.0, 0.0, 0.0], [0.8061579465866089, 0.0027184709906578064, 0.0005396107444539666, 0.0015234455931931734, 0.010642599314451218, 0.00425741309300065, 0.0016033884603530169, 0.0024949111975729465, 0.004318357910960913, 0.003865631762892008, 0.0032282916363328695, 0.0010049493284896016, 0.011779766529798508, 0.00064594711875543, 0.0007368401857092977, 0.0005811238079331815, 0.0020669205114245415, 0.001089505385607481, 0.001318855443969369, 0.13942617177963257, 0.0, 0.0, 0.0, 0.0, 0.0, 0.0, 0.0, 0.0, 0.0, 0.0, 0.0, 0.0, 0.0, 0.0, 0.0, 0.0, 0.0], [0.7268995046615601, 0.0023241392336785793, 0.0004465863457880914, 0.0012646372197195888, 0.008412201888859272, 0.003496173769235611, 0.0012642273213714361, 0.0019823622424155474, 0.0034406366758048534, 0.0030078887939453125, 0.0026121095288544893, 0.000770927348639816, 0.009130444377660751, 0.000493997591547668, 0.0005668773083016276, 0.0004405780928209424, 0.0015609009424224496, 0.0008299797773361206, 0.0010504648089408875, 0.11324066668748856, 0.11676463484764099, 0.0, 0.0, 0.0, 0.0, 0.0, 0.0, 0.0, 0.0, 0.0, 0.0, 0.0, 0.0, 0.0, 0.0, 0.0, 0.0], [0.6659998893737793, 0.0020401207730174065, 0.0003820540150627494, 0.0011048373999074101, 0.007076622918248177, 0.0030092657543718815, 0.0010626830626279116, 0.0016736090183258057, 0.0029138654936105013, 0.0025036518927663565, 0.0022420899476855993, 0.0006318612722679973, 0.007556763477623463, 0.00040699582314118743, 0.0004688690241891891, 0.00035952895996160805, 0.0012785819126293063, 0.00068425084464252, 0.0008910927572287619, 0.0963616594672203, 0.09959977865219116, 0.10175204277038574, 0.0, 0.0, 0.0, 0.0, 0.0, 0.0, 0.0, 0.0, 0.0, 0.0, 0.0, 0.0, 0.0, 0.0, 0.0], [0.617708146572113, 0.0018209230620414019, 0.00033397061633877456, 0.0009905669139698148, 0.006140237674117088, 0.0026503547560423613, 0.00091971067013219, 0.001452284399420023, 0.002540015382692218, 0.0021515199914574623, 0.001979018794372678, 0.0005348770646378398, 0.006457043811678886, 0.0003468577633611858, 0.00040035403799265623, 0.0003033164539374411, 0.0010870574042201042, 0.0005846613785251975, 0.0007779198349453509, 0.08408530801534653, 0.08707904815673828, 0.08905884623527527, 0.0905979797244072, 0.0, 0.0, 0.0, 0.0, 0.0, 0.0, 0.0, 0.0, 0.0, 0.0, 0.0, 0.0, 0.0, 0.0], [0.578093409538269, 0.0016407360089942813, 0.0002958748664241284, 0.0008990027708932757, 0.005439348518848419, 0.002368761459365487, 0.0008110288763418794, 0.0012844994198530912, 0.002255377359688282, 0.0018869776977226138, 0.0017770625418052077, 0.0004626635054592043, 0.005640082061290741, 0.00030191082623787224, 0.00034923924249596894, 0.00026197152328677475, 0.0009461027220822871, 0.0005106114549562335, 0.0006916004931554198, 0.07468137890100479, 0.0774533748626709, 0.07928166538476944, 0.08069963753223419, 0.08196774870157242, 0.0, 0.0, 0.0, 0.0, 0.0, 0.0, 0.0, 0.0, 0.0, 0.0, 0.0, 0.0, 0.0], [0.544630765914917, 0.0014946768060326576, 0.0002662274637259543, 0.0008288075332529843, 0.004898984916508198, 0.002139706863090396, 0.0007247891626320779, 0.0011501077096909285, 0.0020331304986029863, 0.001678808475844562, 0.001615870394743979, 0.0004055587633047253, 0.005004719365388155, 0.00026650173822417855, 0.0003091507824137807, 0.00022985202667769045, 0.0008376648765988648, 0.00045301721547730267, 0.0006232784362509847, 0.06724639981985092, 0.06984222680330276, 0.07155387848615646, 0.07288064807653427, 0.07406323403120041, 0.07482189685106277, 0.0, 0.0, 0.0, 0.0, 0.0, 0.0, 0.0, 0.0, 0.0, 0.0, 0.0, 0.0], [0.5164278745651245, 0.0013679135590791702, 0.00024096790002658963, 0.0007674621301703155, 0.004449564963579178, 0.0019472561543807387, 0.0006534905987791717, 0.0010394694982096553, 0.001846672035753727, 0.00150743976701051, 0.0014796627219766378, 0.00035973277408629656, 0.004482631105929613, 0.00023741842596791685, 0.0002761165960691869, 0.00020379286434035748, 0.0007483327062800527, 0.00040545768570154905, 0.000565410649869591, 0.06111824885010719, 0.0635543167591095, 0.06515999883413315, 0.06640376895666122, 0.06751000136137009, 0.0682276040315628, 0.06901944428682327, 0.0, 0.0, 0.0, 0.0, 0.0, 0.0, 0.0, 0.0, 0.0, 0.0, 0.0], [0.49206945300102234, 0.001260401913896203, 0.00022006325889378786, 0.0007160732056945562, 0.004073365591466427, 0.0017840329091995955, 0.0005935390945523977, 0.0009461933514103293, 0.0016899312613531947, 0.001363839372061193, 0.0013639654498547316, 0.00032175713567994535, 0.004049169830977917, 0.00021329599258024246, 0.00024882357683964074, 0.00018239615019410849, 0.0006742968107573688, 0.0003655185573734343, 0.00051652523688972, 0.05599776282906532, 0.0582926906645298, 0.059805259108543396, 0.06097659468650818, 0.06201661005616188, 0.06269826740026474, 0.06344347447156906, 0.06411665678024292, 0.0, 0.0, 0.0, 0.0, 0.0, 0.0, 0.0, 0.0, 0.0, 0.0], [0.470569908618927, 0.0011675793211907148, 0.0002024114946834743, 0.000672671536449343, 0.003756535006687045, 0.001641953713260591, 0.000542003137525171, 0.0008660426246933639, 0.001558236195705831, 0.0012410860508680344, 0.0012631792342290282, 0.0002891861950047314, 0.003683558665215969, 0.00019262936257291585, 0.00022552408336196095, 0.0001642373390495777, 0.0006121356855146587, 0.000331465300405398, 0.0004742171731777489, 0.051674552261829376, 0.05385243520140648, 0.05528867617249489, 0.05640118196606636, 0.05738770589232445, 0.05804149806499481, 0.05874990299344063, 0.059389207512140274, 0.059760306030511856, 0.0, 0.0, 0.0, 0.0, 0.0, 0.0, 0.0, 0.0, 0.0], [0.4518779516220093, 0.00108564633410424, 0.0001870583655545488, 0.0006336488295346498, 0.0034884836059063673, 0.001520321355201304, 0.0004984125844202936, 0.000798597582615912, 0.0014441069215536118, 0.0011374556925147772, 0.0011767481919378042, 0.00026231282390654087, 0.0033732166048139334, 0.00017536697851028293, 0.00020582396246027201, 0.00014924342394806445, 0.0005593280075117946, 0.0003029143554158509, 0.00043818631093017757, 0.047925982624292374, 0.04999285191297531, 0.05135625600814819, 0.052412331104278564, 0.05334789678454399, 0.053973425179719925, 0.05464623123407364, 0.055252838879823685, 0.055608417838811874, 0.05616895109415054, 0.0, 0.0, 0.0, 0.0, 0.0, 0.0, 0.0, 0.0], [0.4349329173564911, 0.001014705398119986, 0.00017387927800882608, 0.0005988617776893079, 0.0032543065026402473, 0.001414628466591239, 0.0004603228881023824, 0.0007393721607513726, 0.0013451535487547517, 0.0010470987763255835, 0.0011001033708453178, 0.00023905644775368273, 0.0031087773386389017, 0.00016057572793215513, 0.00018879331764765084, 0.00013627535372506827, 0.0005140393623150885, 0.0002777499321382493, 0.00040627230191603303, 0.044702790677547455, 0.04667023569345474, 0.04796798899769783, 0.04897322133183479, 0.049862924963235855, 0.05046219751238823, 0.0511028915643692, 0.0516800731420517, 0.05202123522758484, 0.05255335941910744, 0.05289015546441078, 0.0, 0.0, 0.0, 0.0, 0.0, 0.0, 0.0], [0.4200240969657898, 0.0009509501978754997, 0.00016212569607887417, 0.0005688109085895121, 0.0030436383094638586, 0.0013202547561377287, 0.0004262539732735604, 0.0006869034841656685, 0.0012556217843666673, 0.000965481624007225, 0.0010293712839484215, 0.00021860716515220702, 0.002866565715521574, 0.00014727360394317657, 0.0001735591795295477, 0.00012475308903958648, 0.00047309123328886926, 0.0002550935896579176, 0.0003771867777686566, 0.04184378683567047, 0.043723564594984055, 0.0449635349214077, 0.04592401161789894, 0.046773407608270645, 0.04734985902905464, 0.0479624941945076, 0.0485139824450016, 0.04884287714958191, 0.0493503175675869, 0.04967423528432846, 0.05000824108719826, 0.0, 0.0, 0.0, 0.0, 0.0, 0.0], [0.40628552436828613, 0.0008949945913627744, 0.00015192585124168545, 0.0005410887533798814, 0.002861735410988331, 0.001237057032994926, 0.00039653226849623024, 0.0006408115732483566, 0.0011778902262449265, 0.0008953296346589923, 0.0009680743096396327, 0.00020091234182473272, 0.0026634486857801676, 0.00013596231292467564, 0.0001605265133548528, 0.00011494314094306901, 0.00043846998596563935, 0.00023564374714624137, 0.00035228425986133516, 0.039349861443042755, 0.041145894676446915, 0.0423303097486496, 0.04324759170413017, 0.044058069586753845, 0.04461114853620529, 0.04519616439938545, 0.04572240263223648, 0.046037960797548294, 0.04652130976319313, 0.04683157056570053, 0.04714956879615784, 0.047444943338632584, 0.0, 0.0, 0.0, 0.0, 0.0], [0.39391160011291504, 0.0008452567853964865, 0.00014298682799562812, 0.0005177897401154041, 0.0026980151887983084, 0.0011625391198322177, 0.00036989731597714126, 0.0005997278494760394, 0.001108703319914639, 0.0008315755985677242, 0.0009120205650106072, 0.00018483200983610004, 0.002477983944118023, 0.00012568870442919433, 0.00014858072972856462, 0.0001060428621713072, 0.00040730112232267857, 0.00021797795488964766, 0.00032941761310212314, 0.037106920033693314, 0.03883158043026924, 0.03996916860342026, 0.04085050895810127, 0.041628770530223846, 0.042163655161857605, 0.042726531624794006, 0.04323267936706543, 0.043538857251405716, 0.044003069400787354, 0.044303540140390396, 0.04460960626602173, 0.044895704835653305, 0.04504157975316048, 0.0, 0.0, 0.0, 0.0], [0.3830936551094055, 0.0007992809405550361, 0.00013454894360620528, 0.0004947726265527308, 0.002545398660004139, 0.001096120337024331, 0.00034587172558531165, 0.0005626905476674438, 0.0010444123763591051, 0.0007750868680886924, 0.0008605204639025033, 0.0001712995144771412, 0.002308411058038473, 0.00011677741713356227, 0.0001379875757265836, 9.82025230769068e-05, 0.00037891275133006275, 0.0002022596454480663, 0.00030843899003230035, 0.0350775383412838, 0.03673161566257477, 0.03782183304429054, 0.03866584599018097, 0.039410606026649475, 0.039924491196870804, 0.04046317934989929, 0.04094713553786278, 0.04124090448021889, 0.041684143245220184, 0.041972290724515915, 0.0422641821205616, 0.04253869131207466, 0.04267939180135727, 0.04310356825590134, 0.0, 0.0, 0.0], [0.3728630840778351, 0.0007594453054480255, 0.00012742147373501211, 0.0004751375236082822, 0.002411547349765897, 0.001036345842294395, 0.0003246004635002464, 0.0005298259784467518, 0.00098827900364995, 0.0007245548185892403, 0.0008156215189956129, 0.00015894530224613845, 0.002162558026611805, 0.00010889564146054909, 0.0001287294871872291, 9.132370905717835e-05, 0.0003546645457390696, 0.00018836658273357898, 0.0002904026478063315, 0.03327131271362305, 0.03486018627882004, 0.03590692952275276, 0.03671706095337868, 0.03743147477507591, 0.03792650252580643, 0.038443468511104584, 0.03890765830874443, 0.039190493524074554, 0.03961502015590668, 0.03989223390817642, 0.04017162322998047, 0.04043580964207649, 0.04057203605771065, 0.040976714342832565, 0.041141729801893234, 0.0, 0.0], [0.36409956216812134, 0.0007221478153951466, 0.00012065217015333474, 0.0004558179061859846, 0.0022908546961843967, 0.000984054640866816, 0.0003061486640945077, 0.0005015546921640635, 0.0009368456667289138, 0.0006805409211665392, 0.0007742260349914432, 0.00014840088260825723, 0.0020297570154070854, 0.00010206955630565062, 0.00012059189612045884, 8.542474824935198e-05, 0.00033272680593654513, 0.00017622132145334035, 0.0002738660550676286, 0.03161081671714783, 0.03313431516289711, 0.03413653373718262, 0.034911464899778366, 0.035594262182712555, 0.03606833145022392, 0.036562055349349976, 0.037004850804805756, 0.03727462887763977, 0.03767902031540871, 0.037943389266729355, 0.03820863366127014, 0.03846075013279915, 0.03859032317996025, 0.038974493741989136, 0.03913150727748871, 0.03957311436533928, 0.0], [0.35553279519081116, 0.0006888493080623448, 0.00011469877790659666, 0.00043825781904160976, 0.0021792352199554443, 0.0009363302960991859, 0.00028941917116753757, 0.0004753866815008223, 0.000889982096850872, 0.0006406218162737787, 0.0007366588688455522, 0.0001389221870340407, 0.0019120128126814961, 9.593034337740391e-05, 0.00011337071191519499, 8.004989649634808e-05, 0.00031308180768974125, 0.0001651380443945527, 0.000258928193943575, 0.03012527897953987, 0.0315890833735466, 0.03255077823996544, 0.033293697983026505, 0.03394788131117821, 0.034402795135974884, 0.03487548604607582, 0.035299014300107956, 0.03555697575211525, 0.03594326600432396, 0.036196086555719376, 0.03644869476556778, 0.03668995201587677, 0.03681361675262451, 0.03717958182096481, 0.037329476326704025, 0.03775101155042648, 0.0380077138543129]], [[1.0, 0.0, 0.0, 0.0, 0.0, 0.0, 0.0, 0.0, 0.0, 0.0, 0.0, 0.0, 0.0, 0.0, 0.0, 0.0, 0.0, 0.0, 0.0, 0.0, 0.0, 0.0, 0.0, 0.0, 0.0, 0.0, 0.0, 0.0, 0.0, 0.0, 0.0, 0.0, 0.0, 0.0, 0.0, 0.0, 0.0], [0.9761402606964111, 0.023859670385718346, 0.0, 0.0, 0.0, 0.0, 0.0, 0.0, 0.0, 0.0, 0.0, 0.0, 0.0, 0.0, 0.0, 0.0, 0.0, 0.0, 0.0, 0.0, 0.0, 0.0, 0.0, 0.0, 0.0, 0.0, 0.0, 0.0, 0.0, 0.0, 0.0, 0.0, 0.0, 0.0, 0.0, 0.0, 0.0], [0.3152301013469696, 0.6791170239448547, 0.005652828142046928, 0.0, 0.0, 0.0, 0.0, 0.0, 0.0, 0.0, 0.0, 0.0, 0.0, 0.0, 0.0, 0.0, 0.0, 0.0, 0.0, 0.0, 0.0, 0.0, 0.0, 0.0, 0.0, 0.0, 0.0, 0.0, 0.0, 0.0, 0.0, 0.0, 0.0, 0.0, 0.0, 0.0, 0.0], [0.5408544540405273, 0.15545526146888733, 0.02396482229232788, 0.27972549200057983, 0.0, 0.0, 0.0, 0.0, 0.0, 0.0, 0.0, 0.0, 0.0, 0.0, 0.0, 0.0, 0.0, 0.0, 0.0, 0.0, 0.0, 0.0, 0.0, 0.0, 0.0, 0.0, 0.0, 0.0, 0.0, 0.0, 0.0, 0.0, 0.0, 0.0, 0.0, 0.0, 0.0], [0.6100214719772339, 0.02896570973098278, 0.0075569176115095615, 0.11241789907217026, 0.2410379946231842, 0.0, 0.0, 0.0, 0.0, 0.0, 0.0, 0.0, 0.0, 0.0, 0.0, 0.0, 0.0, 0.0, 0.0, 0.0, 0.0, 0.0, 0.0, 0.0, 0.0, 0.0, 0.0, 0.0, 0.0, 0.0, 0.0, 0.0, 0.0, 0.0, 0.0, 0.0, 0.0], [0.7565370202064514, 0.015471854247152805, 0.003870838088914752, 0.05343516543507576, 0.09629334509372711, 0.0743919089436531, 0.0, 0.0, 0.0, 0.0, 0.0, 0.0, 0.0, 0.0, 0.0, 0.0, 0.0, 0.0, 0.0, 0.0, 0.0, 0.0, 0.0, 0.0, 0.0, 0.0, 0.0, 0.0, 0.0, 0.0, 0.0, 0.0, 0.0, 0.0, 0.0, 0.0, 0.0], [0.6504927277565002, 0.01673305593430996, 0.0007413035491481423, 0.02768782712519169, 0.07085362821817398, 0.17035792768001556, 0.06313347816467285, 0.0, 0.0, 0.0, 0.0, 0.0, 0.0, 0.0, 0.0, 0.0, 0.0, 0.0, 0.0, 0.0, 0.0, 0.0, 0.0, 0.0, 0.0, 0.0, 0.0, 0.0, 0.0, 0.0, 0.0, 0.0, 0.0, 0.0, 0.0, 0.0, 0.0], [0.44566112756729126, 0.011419597081840038, 0.001997893676161766, 0.021535729989409447, 0.05271643027663231, 0.19717681407928467, 0.20188528299331665, 0.0676070973277092, 0.0, 0.0, 0.0, 0.0, 0.0, 0.0, 0.0, 0.0, 0.0, 0.0, 0.0, 0.0, 0.0, 0.0, 0.0, 0.0, 0.0, 0.0, 0.0, 0.0, 0.0, 0.0, 0.0, 0.0, 0.0, 0.0, 0.0, 0.0, 0.0], [0.7920793890953064, 0.003126666881144047, 0.0004915440804325044, 0.013682927936315536, 0.02399347722530365, 0.046250682324171066, 0.036365143954753876, 0.032301876693964005, 0.051708221435546875, 0.0, 0.0, 0.0, 0.0, 0.0, 0.0, 0.0, 0.0, 0.0, 0.0, 0.0, 0.0, 0.0, 0.0, 0.0, 0.0, 0.0, 0.0, 0.0, 0.0, 0.0, 0.0, 0.0, 0.0, 0.0, 0.0, 0.0, 0.0], [0.8073754906654358, 0.003651511389762163, 0.0005281970952637494, 0.007140273693948984, 0.009149447083473206, 0.049832358956336975, 0.03253192827105522, 0.030342571437358856, 0.028754591941833496, 0.030693726614117622, 0.0, 0.0, 0.0, 0.0, 0.0, 0.0, 0.0, 0.0, 0.0, 0.0, 0.0, 0.0, 0.0, 0.0, 0.0, 0.0, 0.0, 0.0, 0.0, 0.0, 0.0, 0.0, 0.0, 0.0, 0.0, 0.0, 0.0], [0.6704124212265015, 0.003793515032157302, 0.0009020296856760979, 0.020784670487046242, 0.0312054380774498, 0.09472665190696716, 0.02894710935652256, 0.01686401478946209, 0.04561169818043709, 0.030549781396985054, 0.0562027171254158, 0.0, 0.0, 0.0, 0.0, 0.0, 0.0, 0.0, 0.0, 0.0, 0.0, 0.0, 0.0, 0.0, 0.0, 0.0, 0.0, 0.0, 0.0, 0.0, 0.0, 0.0, 0.0, 0.0, 0.0, 0.0, 0.0], [0.23965872824192047, 0.0014028603909537196, 0.0004457558097783476, 0.0021482203155755997, 0.005933039356023073, 0.017337732017040253, 0.01388084702193737, 0.018474997952580452, 0.06959208846092224, 0.20805305242538452, 0.32561352849006653, 0.09745921939611435, 0.0, 0.0, 0.0, 0.0, 0.0, 0.0, 0.0, 0.0, 0.0, 0.0, 0.0, 0.0, 0.0, 0.0, 0.0, 0.0, 0.0, 0.0, 0.0, 0.0, 0.0, 0.0, 0.0, 0.0, 0.0], [0.31918737292289734, 0.005516157019883394, 0.00034842046443372965, 0.01160873007029295, 0.0327654667198658, 0.03399065509438515, 0.007965591736137867, 0.03331296518445015, 0.18883197009563446, 0.03597391024231911, 0.04370446875691414, 0.011942863464355469, 0.27485138177871704, 0.0, 0.0, 0.0, 0.0, 0.0, 0.0, 0.0, 0.0, 0.0, 0.0, 0.0, 0.0, 0.0, 0.0, 0.0, 0.0, 0.0, 0.0, 0.0, 0.0, 0.0, 0.0, 0.0, 0.0], [0.8035104274749756, 0.0034040785394608974, 0.00039111150545068085, 0.003465693909674883, 0.010475094430148602, 0.0054134223610162735, 0.0027042897418141365, 0.005915669724345207, 0.023266172036528587, 0.019682951271533966, 0.020825982093811035, 0.001290873042307794, 0.08128397166728973, 0.01837022416293621, 0.0, 0.0, 0.0, 0.0, 0.0, 0.0, 0.0, 0.0, 0.0, 0.0, 0.0, 0.0, 0.0, 0.0, 0.0, 0.0, 0.0, 0.0, 0.0, 0.0, 0.0, 0.0, 0.0], [0.8781711459159851, 0.0030805927235633135, 4.207656093058176e-05, 0.0016868580132722855, 0.004210934042930603, 0.006585843861103058, 0.001747427275404334, 0.0028189567383378744, 0.002773313783109188, 0.0022099895868450403, 0.005032803863286972, 0.0020337372552603483, 0.027310160920023918, 0.03692237660288811, 0.025373879820108414, 0.0, 0.0, 0.0, 0.0, 0.0, 0.0, 0.0, 0.0, 0.0, 0.0, 0.0, 0.0, 0.0, 0.0, 0.0, 0.0, 0.0, 0.0, 0.0, 0.0, 0.0, 0.0], [0.7941746711730957, 0.0032456102780997753, 8.445837011095136e-05, 0.002422780729830265, 0.003357416484504938, 0.009405996650457382, 0.0071248686872422695, 0.0037196436896920204, 0.002421315060928464, 0.0030026324093341827, 0.008816949091851711, 0.004346402827650309, 0.02675456553697586, 0.04126771539449692, 0.0663774311542511, 0.023477593436837196, 0.0, 0.0, 0.0, 0.0, 0.0, 0.0, 0.0, 0.0, 0.0, 0.0, 0.0, 0.0, 0.0, 0.0, 0.0, 0.0, 0.0, 0.0, 0.0, 0.0, 0.0], [0.8017160296440125, 0.000751267303712666, 7.041280332487077e-05, 0.0013247112510725856, 0.004199656192213297, 0.00724013801664114, 0.004294336307793856, 0.003527385415509343, 0.0058725932613015175, 0.004496689420193434, 0.014138859696686268, 0.008615050464868546, 0.06304177641868591, 0.012238414958119392, 0.01867779716849327, 0.025280417874455452, 0.024514418095350266, 0.0, 0.0, 0.0, 0.0, 0.0, 0.0, 0.0, 0.0, 0.0, 0.0, 0.0, 0.0, 0.0, 0.0, 0.0, 0.0, 0.0, 0.0, 0.0, 0.0], [0.805939793586731, 0.000678175943903625, 6.891056546010077e-05, 0.0008661883766762912, 0.0017083275597542524, 0.009655416943132877, 0.004538598004728556, 0.004662373568862677, 0.0036588339135050774, 0.002512711565941572, 0.014442484825849533, 0.011245244182646275, 0.017056643962860107, 0.031830210238695145, 0.02559386007487774, 0.019361598417162895, 0.0256055798381567, 0.02057502418756485, 0.0, 0.0, 0.0, 0.0, 0.0, 0.0, 0.0, 0.0, 0.0, 0.0, 0.0, 0.0, 0.0, 0.0, 0.0, 0.0, 0.0, 0.0, 0.0], [0.8032545447349548, 0.0005654164124280214, 8.673307456774637e-05, 0.0015803161077201366, 0.003899606643244624, 0.00914269033819437, 0.0021039738785475492, 0.0015855106757953763, 0.007180769462138414, 0.0020267535001039505, 0.008348089642822742, 0.012972181662917137, 0.03803402557969093, 0.021211279556155205, 0.010203911922872066, 0.009412546642124653, 0.032380469143390656, 0.008244102820754051, 0.02776697836816311, 0.0, 0.0, 0.0, 0.0, 0.0, 0.0, 0.0, 0.0, 0.0, 0.0, 0.0, 0.0, 0.0, 0.0, 0.0, 0.0, 0.0, 0.0], [0.8833035230636597, 0.0007011553389020264, 2.515225969546009e-05, 0.00043159580673091114, 0.001114284386858344, 0.001474715769290924, 0.00038869594573043287, 0.0015697040362283587, 0.0020435326732695103, 0.0006897252169437706, 0.0016445580404251814, 0.00038494591717608273, 0.0062512899748981, 0.0013232334749773145, 0.001254887436516583, 0.003154469421133399, 0.002700523706153035, 0.0010842304909601808, 0.002203512703999877, 0.08825624734163284, 0.0, 0.0, 0.0, 0.0, 0.0, 0.0, 0.0, 0.0, 0.0, 0.0, 0.0, 0.0, 0.0, 0.0, 0.0, 0.0, 0.0], [0.8490157127380371, 0.0004361635074019432, 1.4359941815200727e-05, 0.00024219232727773488, 0.0006435191608034074, 0.0009210622520186007, 0.00022744185116607696, 0.0009432468214072287, 0.001188413705676794, 0.00037831388181075454, 0.0008927559829317033, 0.00018650780839379877, 0.0036136629059910774, 0.0007309789070859551, 0.0006911083473823965, 0.0017731636762619019, 0.0014820706564933062, 0.0005423151887953281, 0.0011118801776319742, 0.053315918892621994, 0.0816492885351181, 0.0, 0.0, 0.0, 0.0, 0.0, 0.0, 0.0, 0.0, 0.0, 0.0, 0.0, 0.0, 0.0, 0.0, 0.0, 0.0], [0.8211160898208618, 0.00029228677158243954, 8.98901362234028e-06, 0.00015257738414220512, 0.0004120357916690409, 0.0006160035845823586, 0.00014477995864581317, 0.0006181542412377894, 0.0007570208981633186, 0.00023083385895006359, 0.0005477375816553831, 0.0001029246486723423, 0.0023252663668245077, 0.00044054471072740853, 0.0004190215840935707, 0.0010822999756783247, 0.0009038118296302855, 0.00030745050753466785, 0.0006456582341343164, 0.03569966182112694, 0.05492875725030899, 0.07824809849262238, 0.0, 0.0, 0.0, 0.0, 0.0, 0.0, 0.0, 0.0, 0.0, 0.0, 0.0, 0.0, 0.0, 0.0, 0.0], [0.7990861535072327, 0.0002037910307990387, 5.887774022994563e-06, 0.0001017581598716788, 0.0002774550230242312, 0.0004263651790097356, 9.60049728746526e-05, 0.00042332365410402417, 0.0005042816046625376, 0.00014784614904783666, 0.00035464338725432754, 6.046533235348761e-05, 0.0015743253752589226, 0.00027669136761687696, 0.00026545088621787727, 0.0006893401732668281, 0.000578530365601182, 0.00018399891268927604, 0.00039746344555169344, 0.024949923157691956, 0.03855894133448601, 0.055010903626680374, 0.0758264809846878, 0.0, 0.0, 0.0, 0.0, 0.0, 0.0, 0.0, 0.0, 0.0, 0.0, 0.0, 0.0, 0.0, 0.0], [0.7815467715263367, 0.00014558625116478652, 3.96362338506151e-06, 7.016644667601213e-05, 0.0001927294215420261, 0.00030179295572452247, 6.516281428048387e-05, 0.0002975591050926596, 0.00034508458338677883, 9.743616101332009e-05, 0.0002370108268223703, 3.687943535624072e-05, 0.0010969447903335094, 0.00017843657406046987, 0.00017246209608856589, 0.00045038582175038755, 0.0003812694048974663, 0.0001138014777097851, 0.00025354736135341227, 0.017888717353343964, 0.027758914977312088, 0.03965869918465614, 0.05471792817115784, 0.07398867607116699, 0.0, 0.0, 0.0, 0.0, 0.0, 0.0, 0.0, 0.0, 0.0, 0.0, 0.0, 0.0, 0.0], [0.7676190137863159, 0.00010571594611974433, 2.714224137889687e-06, 4.949049616698176e-05, 0.00013658159878104925, 0.00021664319501724094, 4.496493420447223e-05, 0.0002128469495801255, 0.00024052360095083714, 6.550325633725151e-05, 0.0001615817309357226, 2.302731627423782e-05, 0.0007799574523232877, 0.00011717668530764058, 0.00011417099449317902, 0.000300304323900491, 0.0002565361210145056, 7.199952960945666e-05, 0.00016538813360966742, 0.013050436973571777, 0.02033277042210102, 0.029092980548739433, 0.04018434137105942, 0.05438980832695961, 0.07226551324129105, 0.0, 0.0, 0.0, 0.0, 0.0, 0.0, 0.0, 0.0, 0.0, 0.0, 0.0, 0.0], [0.7558221220970154, 7.78828834882006e-05, 1.8838953792510438e-06, 3.5501911042956635e-05, 9.84685102594085e-05, 0.00015764060663059354, 3.145628215861507e-05, 0.0001545897830510512, 0.0001703323214314878, 4.4731845264323056e-05, 0.00011205128248548135, 1.4687114344269503e-05, 0.0005642856121994555, 7.820844621164724e-05, 7.673416985198855e-05, 0.00020346273959148675, 0.00017557725368533283, 4.6408127673203126e-05, 0.00010998119978467003, 0.009670735336840153, 0.015126507729291916, 0.02167700231075287, 0.02997560240328312, 0.04061406850814819, 0.05400671809911728, 0.070953369140625, 0.0, 0.0, 0.0, 0.0, 0.0, 0.0, 0.0, 0.0, 0.0, 0.0, 0.0], [0.7460654973983765, 5.8383364375913516e-05, 1.3334025652511627e-06, 2.5977449695346877e-05, 7.232465577544644e-05, 0.00011655060370685533, 2.238890010630712e-05, 0.00011408297723392025, 0.0001228586188517511, 3.1158346246229485e-05, 7.919497875263914e-05, 9.570213478582446e-06, 0.00041544914711266756, 5.315657108440064e-05, 5.248154775472358e-05, 0.00014049104356672615, 0.00012243297533132136, 3.0509912903653458e-05, 7.450130942743272e-05, 0.007260419894009829, 0.011394032277166843, 0.01634494960308075, 0.02261771634221077, 0.03066294826567173, 0.04079064726829529, 0.053608912974596024, 0.0697120800614357, 0.0, 0.0, 0.0, 0.0, 0.0, 0.0, 0.0, 0.0, 0.0, 0.0], [0.7376453876495361, 4.397533484734595e-05, 9.471507382841082e-07, 1.914442327688448e-05, 5.3481624490814283e-05, 8.65838592289947e-05, 1.6022146155592054e-05, 8.47324263304472e-05, 8.924206485971808e-05, 2.185148696298711e-05, 5.63851572223939e-05, 6.291733825491974e-06, 0.0003083101473748684, 3.6413017369341105e-05, 3.617667607613839e-05, 9.781387780094519e-05, 8.61861917655915e-05, 2.0254277842468582e-05, 5.0961421948159114e-05, 0.0055013070814311504, 0.008665474131703377, 0.012448906898498535, 0.017245497554540634, 0.023403141647577286, 0.031158095225691795, 0.04097956418991089, 0.053344860672950745, 0.06849302351474762, 0.0, 0.0, 0.0, 0.0, 0.0, 0.0, 0.0, 0.0, 0.0], [0.7307105660438538, 3.3430384064558893e-05, 6.812821879975672e-07, 1.4254639609134756e-05, 3.9970767829800025e-05, 6.492792454082519e-05, 1.1578092198760714e-05, 6.34547250228934e-05, 6.541875336552039e-05, 1.5479950889130123e-05, 4.059042112203315e-05, 4.1881394281517714e-06, 0.0002308571565663442, 2.5219322196790017e-05, 2.517991015338339e-05, 6.877363921375945e-05, 6.124892388470471e-05, 1.359739871986676e-05, 3.527744411258027e-05, 0.004202601499855518, 0.006642259191721678, 0.009553812444210052, 0.013246395625174046, 0.017990000545978546, 0.023965349420905113, 0.03153621777892113, 0.04108656942844391, 0.0527779757976532, 0.06747408211231232, 0.0, 0.0, 0.0, 0.0, 0.0, 0.0, 0.0, 0.0], [0.7242239713668823, 2.5779101633816026e-05, 4.971132625541941e-07, 1.0773850590339862e-05, 3.0326375053846277e-05, 4.9366022722097114e-05, 8.492262168147136e-06, 4.817745866603218e-05, 4.8697314923629165e-05, 1.1139555681438651e-05, 2.9701346647925675e-05, 2.838448835973395e-06, 0.00017539503460284323, 1.7737278540153056e-05, 1.778022851794958e-05, 4.90921302116476e-05, 4.4177286326885223e-05, 9.270012014894746e-06, 2.4786604626569897e-05, 0.0032470389269292355, 0.0051474119536578655, 0.007410265970975161, 0.010280201211571693, 0.013968384824693203, 0.01861381344497204, 0.024500461295247078, 0.03193841502070427, 0.04103514924645424, 0.05248069763183594, 0.06655009835958481, 0.0, 0.0, 0.0, 0.0, 0.0, 0.0, 0.0], [0.7186078429222107, 1.9968532797065563e-05, 3.646873665275052e-07, 8.194451766030397e-06, 2.312885226274375e-05, 3.765420115087181e-05, 6.253326318983454e-06, 3.674183244584128e-05, 3.6465782613959163e-05, 8.06220941740321e-06, 2.183655851695221e-05, 1.9340373000886757e-06, 0.00013402027252595872, 1.2549718121590558e-05, 1.2634042832360137e-05, 3.530648609739728e-05, 3.2096409995574504e-05, 6.370803021127358e-06, 1.753748620103579e-05, 0.0025239307433366776, 0.004013370256870985, 0.005783346015959978, 0.008028535172343254, 0.010915204882621765, 0.014551183208823204, 0.019159749150276184, 0.02499258704483509, 0.032120365649461746, 0.04109761118888855, 0.05214891582727432, 0.06560619175434113, 0.0, 0.0, 0.0, 0.0, 0.0, 0.0], [0.713691234588623, 1.5726171113783494e-05, 2.7315283546158753e-07, 6.339880656014429e-06, 1.7949218090507202e-05, 2.9225482649053447e-05, 4.692565653385827e-06, 2.847158430085983e-05, 2.7788708393927664e-05, 5.95074197917711e-06, 1.6370762750739232e-05, 1.348414116364438e-06, 0.00010395896242698655, 9.044881153386086e-06, 9.130821126746014e-06, 2.5817163987085223e-05, 2.3720846002106555e-05, 4.461910066311248e-06, 1.2630828678084072e-05, 0.0019826418720185757, 0.003159877611324191, 0.0045549520291388035, 0.00632367143407464, 0.008597453124821186, 0.011459832079708576, 0.015086784958839417, 0.019682463258504868, 0.02529093436896801, 0.03235836327075958, 0.041066959500312805, 0.05166938155889511, 0.06473260372877121, 0.0, 0.0, 0.0, 0.0, 0.0], [0.7096789479255676, 1.2359908396319952e-05, 2.0425753177732986e-07, 4.902456566924229e-06, 1.390205306961434e-05, 2.2619944502366707e-05, 3.5132741231791442e-06, 2.20278470806079e-05, 2.1137377189006656e-05, 4.383374744065804e-06, 1.2255049114173744e-05, 9.379900802741759e-07, 8.055423677433282e-05, 6.510221282951534e-06, 6.593862963200081e-06, 1.8864593585021794e-05, 1.751381205394864e-05, 3.121667077721213e-06, 9.094030247069895e-06, 0.0015608238754794002, 0.002494371496140957, 0.003598131239414215, 0.004997325595468283, 0.006796486675739288, 0.009060840122401714, 0.011930059641599655, 0.015570864081382751, 0.020009497180581093, 0.025607211515307426, 0.03251321241259575, 0.04092171788215637, 0.05130486562848091, 0.06369517743587494, 0.0, 0.0, 0.0, 0.0], [0.70488440990448, 9.930896339938045e-06, 1.562026028523178e-07, 3.87456839234801e-06, 1.1007700777554419e-05, 1.7890570234158076e-05, 2.693789610930253e-06, 1.7419013602193445e-05, 1.6460957340314053e-05, 3.3052440358005697e-06, 9.386159035784658e-06, 6.705819828312087e-07, 6.370164192048833e-05, 4.795156200998463e-06, 4.873470970778726e-06, 1.4097458006290253e-05, 1.321003492193995e-05, 2.236228738183854e-06, 6.691953785775695e-06, 0.001247229054570198, 0.001997168641537428, 0.002881215652450919, 0.0040010372176766396, 0.0054404400289058685, 0.007250562310218811, 0.00954301655292511, 0.0124545618891716, 0.015998831018805504, 0.020469941198825836, 0.025990085676312447, 0.032708775252103806, 0.041019756346940994, 0.050927918404340744, 0.06298267096281052, 0.0, 0.0, 0.0], [0.7015740871429443, 7.987116077856626e-06, 1.2010977457066474e-07, 3.0708526992384577e-06, 8.734557013667654e-06, 1.4171474504109938e-05, 2.069619768008124e-06, 1.3795801351079717e-05, 1.2842885553254746e-05, 2.503456926206127e-06, 7.223476131912321e-06, 4.816498062609753e-07, 5.0451391871320084e-05, 3.545055733411573e-06, 3.6108510812482564e-06, 1.057037752616452e-05, 1.0000523616326973e-05, 1.6102635527204257e-06, 4.950920356350252e-06, 0.0009990152902901173, 0.0016026829835027456, 0.002312129596248269, 0.0032100253738462925, 0.004363694693893194, 0.005813236813992262, 0.007647993508726358, 0.009980149567127228, 0.01281470526009798, 0.016391366720199585, 0.020810022950172424, 0.026185810565948486, 0.032846495509147644, 0.0407789945602417, 0.05045083165168762, 0.06206095591187477, 0.0, 0.0], [0.6983559131622314, 6.524827767862007e-06, 9.401460232538739e-08, 2.472278538334649e-06, 7.036770512058865e-06, 1.139363939728355e-05, 1.6159154938577558e-06, 1.107274874811992e-05, 1.0166982974624261e-05, 1.9242525013396516e-06, 5.6350563681917265e-06, 3.5185564684070414e-07, 4.04516322305426e-05, 2.6631248601916013e-06, 2.716476728892303e-06, 8.03035254648421e-06, 7.668179023312405e-06, 1.1778007547036395e-06, 3.7144104680919554e-06, 0.0008078446262516081, 0.0012976888101547956, 0.0018713076133280993, 0.002596341772004962, 0.003527103690430522, 0.004695065785199404, 0.006171985995024443, 0.00805011298507452, 0.010328445583581924, 0.013202918693423271, 0.0167551152408123, 0.021073509007692337, 0.026431100443005562, 0.03280304744839668, 0.04058640077710152, 0.049930524080991745, 0.06139088422060013, 0.0], [0.6950230598449707, 5.4099054977996275e-06, 7.489079933975518e-08, 2.0233662780810846e-06, 5.761671218351694e-06, 9.296342796005774e-06, 1.282878770325624e-06, 9.023713573697023e-06, 8.18874377728207e-06, 1.5061583553688251e-06, 4.477153197512962e-06, 2.625788795285189e-07, 3.2956479117274284e-05, 2.0350819340819726e-06, 2.078278384942678e-06, 6.20803211859311e-06, 5.980070000077831e-06, 8.771655188866134e-07, 2.8339645723463036e-06, 0.000660507008433342, 0.0010618125088512897, 0.0015298047801479697, 0.002120258519425988, 0.002877275925129652, 0.003825586521998048, 0.005023116711527109, 0.006546011660248041, 0.008389168418943882, 0.010713472962379456, 0.013585548847913742, 0.017073331400752068, 0.021404480561614037, 0.026546882465481758, 0.03283750265836716, 0.04038800299167633, 0.04966035112738609, 0.0606335774064064]], [[1.0, 0.0, 0.0, 0.0, 0.0, 0.0, 0.0, 0.0, 0.0, 0.0, 0.0, 0.0, 0.0, 0.0, 0.0, 0.0, 0.0, 0.0, 0.0, 0.0, 0.0, 0.0, 0.0, 0.0, 0.0, 0.0, 0.0, 0.0, 0.0, 0.0, 0.0, 0.0, 0.0, 0.0, 0.0, 0.0, 0.0], [0.9917623996734619, 0.008237590081989765, 0.0, 0.0, 0.0, 0.0, 0.0, 0.0, 0.0, 0.0, 0.0, 0.0, 0.0, 0.0, 0.0, 0.0, 0.0, 0.0, 0.0, 0.0, 0.0, 0.0, 0.0, 0.0, 0.0, 0.0, 0.0, 0.0, 0.0, 0.0, 0.0, 0.0, 0.0, 0.0, 0.0, 0.0, 0.0], [0.9992940425872803, 0.0005889128078706563, 0.0001169496972579509, 0.0, 0.0, 0.0, 0.0, 0.0, 0.0, 0.0, 0.0, 0.0, 0.0, 0.0, 0.0, 0.0, 0.0, 0.0, 0.0, 0.0, 0.0, 0.0, 0.0, 0.0, 0.0, 0.0, 0.0, 0.0, 0.0, 0.0, 0.0, 0.0, 0.0, 0.0, 0.0, 0.0, 0.0], [0.9057170152664185, 0.07195637375116348, 0.004935047589242458, 0.017391424626111984, 0.0, 0.0, 0.0, 0.0, 0.0, 0.0, 0.0, 0.0, 0.0, 0.0, 0.0, 0.0, 0.0, 0.0, 0.0, 0.0, 0.0, 0.0, 0.0, 0.0, 0.0, 0.0, 0.0, 0.0, 0.0, 0.0, 0.0, 0.0, 0.0, 0.0, 0.0, 0.0, 0.0], [0.9139658808708191, 0.06296177208423615, 0.0029324337374418974, 0.014337847009301186, 0.00580208096653223, 0.0, 0.0, 0.0, 0.0, 0.0, 0.0, 0.0, 0.0, 0.0, 0.0, 0.0, 0.0, 0.0, 0.0, 0.0, 0.0, 0.0, 0.0, 0.0, 0.0, 0.0, 0.0, 0.0, 0.0, 0.0, 0.0, 0.0, 0.0, 0.0, 0.0, 0.0, 0.0], [0.8742239475250244, 0.041200414299964905, 0.00043712841579690576, 0.0008149392670020461, 0.004136050585657358, 0.07918756455183029, 0.0, 0.0, 0.0, 0.0, 0.0, 0.0, 0.0, 0.0, 0.0, 0.0, 0.0, 0.0, 0.0, 0.0, 0.0, 0.0, 0.0, 0.0, 0.0, 0.0, 0.0, 0.0, 0.0, 0.0, 0.0, 0.0, 0.0, 0.0, 0.0, 0.0, 0.0], [0.9177365899085999, 0.02572956308722496, 0.0007245510350912809, 0.0006305715069174767, 0.005011787638068199, 0.03554992005228996, 0.014617035165429115, 0.0, 0.0, 0.0, 0.0, 0.0, 0.0, 0.0, 0.0, 0.0, 0.0, 0.0, 0.0, 0.0, 0.0, 0.0, 0.0, 0.0, 0.0, 0.0, 0.0, 0.0, 0.0, 0.0, 0.0, 0.0, 0.0, 0.0, 0.0, 0.0, 0.0], [0.8958945274353027, 0.029499482363462448, 0.0028806598857045174, 0.003079273272305727, 0.020738685503602028, 0.023372765630483627, 0.005464890040457249, 0.019069701433181763, 0.0, 0.0, 0.0, 0.0, 0.0, 0.0, 0.0, 0.0, 0.0, 0.0, 0.0, 0.0, 0.0, 0.0, 0.0, 0.0, 0.0, 0.0, 0.0, 0.0, 0.0, 0.0, 0.0, 0.0, 0.0, 0.0, 0.0, 0.0, 0.0], [0.8514026403427124, 0.037318866699934006, 0.00504275131970644, 0.015408897772431374, 0.003011347958818078, 0.07071220874786377, 0.004677525721490383, 0.006802317686378956, 0.005623403936624527, 0.0, 0.0, 0.0, 0.0, 0.0, 0.0, 0.0, 0.0, 0.0, 0.0, 0.0, 0.0, 0.0, 0.0, 0.0, 0.0, 0.0, 0.0, 0.0, 0.0, 0.0, 0.0, 0.0, 0.0, 0.0, 0.0, 0.0, 0.0], [0.9645748138427734, 0.006499988492578268, 0.0005753148579970002, 0.0019291357602924109, 0.0026279164012521505, 0.013299787417054176, 0.0013910654233768582, 0.0022272432688623667, 0.003183417022228241, 0.0036913249641656876, 0.0, 0.0, 0.0, 0.0, 0.0, 0.0, 0.0, 0.0, 0.0, 0.0, 0.0, 0.0, 0.0, 0.0, 0.0, 0.0, 0.0, 0.0, 0.0, 0.0, 0.0, 0.0, 0.0, 0.0, 0.0, 0.0, 0.0], [0.6041184663772583, 0.04684855788946152, 0.0005124210147187114, 0.0012849955819547176, 0.0036934285890311003, 0.312947541475296, 0.008014244958758354, 0.004784105345606804, 0.002239409601315856, 0.002164961537346244, 0.013391866348683834, 0.0, 0.0, 0.0, 0.0, 0.0, 0.0, 0.0, 0.0, 0.0, 0.0, 0.0, 0.0, 0.0, 0.0, 0.0, 0.0, 0.0, 0.0, 0.0, 0.0, 0.0, 0.0, 0.0, 0.0, 0.0, 0.0], [0.9018789529800415, 0.015961332246661186, 0.0004213506472297013, 0.001236509531736374, 0.0034490437246859074, 0.024893032386898994, 0.009229529649019241, 0.00834712479263544, 0.00253364653326571, 0.0022638803347945213, 0.003649700665846467, 0.026135915890336037, 0.0, 0.0, 0.0, 0.0, 0.0, 0.0, 0.0, 0.0, 0.0, 0.0, 0.0, 0.0, 0.0, 0.0, 0.0, 0.0, 0.0, 0.0, 0.0, 0.0, 0.0, 0.0, 0.0, 0.0, 0.0], [0.46180665493011475, 0.1883055567741394, 0.007528828456997871, 0.015872346237301826, 0.004134325310587883, 0.17104166746139526, 0.03652263805270195, 0.06247418001294136, 0.008629223331809044, 0.006709795445203781, 0.002913737902417779, 0.023909367620944977, 0.01015165913850069, 0.0, 0.0, 0.0, 0.0, 0.0, 0.0, 0.0, 0.0, 0.0, 0.0, 0.0, 0.0, 0.0, 0.0, 0.0, 0.0, 0.0, 0.0, 0.0, 0.0, 0.0, 0.0, 0.0, 0.0], [0.4412970244884491, 0.051868896931409836, 0.0016551549779251218, 0.0011679052840918303, 0.0007124411058612168, 0.06377038359642029, 0.21925564110279083, 0.17306756973266602, 0.0012602369533851743, 0.0015170206315815449, 0.0005741426139138639, 0.021504223346710205, 0.0034331621136516333, 0.018916217610239983, 0.0, 0.0, 0.0, 0.0, 0.0, 0.0, 0.0, 0.0, 0.0, 0.0, 0.0, 0.0, 0.0, 0.0, 0.0, 0.0, 0.0, 0.0, 0.0, 0.0, 0.0, 0.0, 0.0], [0.6458409428596497, 0.02598230354487896, 0.0022315536625683308, 0.0015583377098664641, 0.0014132376527413726, 0.017672156915068626, 0.024666542187333107, 0.23243102431297302, 0.002661388134583831, 0.001740913256071508, 0.0012750782771036029, 0.006845036521553993, 0.0037043446209281683, 0.004922789055854082, 0.027054347097873688, 0.0, 0.0, 0.0, 0.0, 0.0, 0.0, 0.0, 0.0, 0.0, 0.0, 0.0, 0.0, 0.0, 0.0, 0.0, 0.0, 0.0, 0.0, 0.0, 0.0, 0.0, 0.0], [0.8093256950378418, 0.01751800812780857, 0.002379792043939233, 0.002978876233100891, 0.002359071047976613, 0.022915365174412727, 0.013376567512750626, 0.021389249712228775, 0.017598098143935204, 0.043815210461616516, 0.003973186016082764, 0.01650570146739483, 0.013873666524887085, 0.0031121717765927315, 0.0009047491475939751, 0.007974707521498203, 0.0, 0.0, 0.0, 0.0, 0.0, 0.0, 0.0, 0.0, 0.0, 0.0, 0.0, 0.0, 0.0, 0.0, 0.0, 0.0, 0.0, 0.0, 0.0, 0.0, 0.0], [0.778042733669281, 0.027348294854164124, 0.001938501256518066, 0.005920533090829849, 0.0025228653103113174, 0.056169070303440094, 0.007401288021355867, 0.007900449447333813, 0.005967463366687298, 0.02333931066095829, 0.004111585207283497, 0.04002012312412262, 0.011462300084531307, 0.016483858227729797, 0.0008888700976967812, 0.005256217904388905, 0.00522656599059701, 0.0, 0.0, 0.0, 0.0, 0.0, 0.0, 0.0, 0.0, 0.0, 0.0, 0.0, 0.0, 0.0, 0.0, 0.0, 0.0, 0.0, 0.0, 0.0, 0.0], [0.923754096031189, 0.009610258974134922, 0.0018432894721627235, 0.003701265901327133, 0.0014866507844999433, 0.012315663509070873, 0.002356104087084532, 0.0024961906019598246, 0.0019728555344045162, 0.010904098860919476, 0.004232183564454317, 0.013250981457531452, 0.0032753797713667154, 0.002260098233819008, 0.00021727617422584444, 0.0007893916917964816, 0.0016590056475251913, 0.0038751917891204357, 0.0, 0.0, 0.0, 0.0, 0.0, 0.0, 0.0, 0.0, 0.0, 0.0, 0.0, 0.0, 0.0, 0.0, 0.0, 0.0, 0.0, 0.0, 0.0], [0.5310847163200378, 0.03154447674751282, 0.0009714551852084696, 0.0017041986575350165, 0.0021768563892692327, 0.10757884383201599, 0.004197633359581232, 0.0037295145448297262, 0.0014217449352145195, 0.00446908175945282, 0.006760692223906517, 0.25662001967430115, 0.011125020682811737, 0.02824186161160469, 0.0003435296821407974, 0.001341046066954732, 0.0009321283432655036, 0.0015058063436299562, 0.00425140094012022, 0.0, 0.0, 0.0, 0.0, 0.0, 0.0, 0.0, 0.0, 0.0, 0.0, 0.0, 0.0, 0.0, 0.0, 0.0, 0.0, 0.0, 0.0], [0.9082033038139343, 0.0043762605637311935, 0.0001853946887422353, 0.0006133199203759432, 0.0020438365172594786, 0.011864977888762951, 0.0009815195808187127, 0.0016263260040432215, 0.0022080896887928247, 0.0004512303858064115, 0.001576992915943265, 0.002277797320857644, 0.0023568628821521997, 0.0019179643131792545, 0.00025213605840690434, 0.00042740139178931713, 0.0007505815010517836, 0.0001259091222891584, 0.0006365614826790988, 0.05712359771132469, 0.0, 0.0, 0.0, 0.0, 0.0, 0.0, 0.0, 0.0, 0.0, 0.0, 0.0, 0.0, 0.0, 0.0, 0.0, 0.0, 0.0], [0.8824520707130432, 0.0034049132373183966, 0.00013476821186486632, 0.00046153782750479877, 0.001458446611650288, 0.009483857080340385, 0.0007495431927964091, 0.001246682833880186, 0.001601507654413581, 0.00032568981987424195, 0.0011270787799730897, 0.0016069435514509678, 0.0015978958690539002, 0.0013728351332247257, 0.00017784028023015708, 0.00029486659332178533, 0.0005128007032908499, 8.548810728825629e-05, 0.00042699111509136856, 0.043909624218940735, 0.0475686639547348, 0.0, 0.0, 0.0, 0.0, 0.0, 0.0, 0.0, 0.0, 0.0, 0.0, 0.0, 0.0, 0.0, 0.0, 0.0, 0.0], [0.8598200082778931, 0.0028861979953944683, 0.00010951768490485847, 0.0003847728075925261, 0.0011596903204917908, 0.008138574659824371, 0.0006284374394454062, 0.0010445995721966028, 0.0012870569480583072, 0.0002627939684316516, 0.0008959478000178933, 0.0012742112157866359, 0.0012254262110218406, 0.0011033059563487768, 0.0001425277441740036, 0.00023236603010445833, 0.0003981378977186978, 6.682198727503419e-05, 0.0003277911455370486, 0.03693017363548279, 0.040117617696523666, 0.04156414419412613, 0.0, 0.0, 0.0, 0.0, 0.0, 0.0, 0.0, 0.0, 0.0, 0.0, 0.0, 0.0, 0.0, 0.0, 0.0], [0.8402596712112427, 0.002535674488171935, 9.348989260615781e-05, 0.0003348389873281121, 0.0009685584809631109, 0.007206391077488661, 0.0005471197073347867, 0.0009080551681108773, 0.0010849677491933107, 0.0002225563075626269, 0.0007477433537133038, 0.001064178068190813, 0.0009946596110239625, 0.0009302267571911216, 0.00011985282617388293, 0.00019362229795660824, 0.00032731477404013276, 5.5366002925438806e-05, 0.0002669646928552538, 0.03230197727680206, 0.0351712629199028, 0.03647906333208084, 0.037186358124017715, 0.0, 0.0, 0.0, 0.0, 0.0, 0.0, 0.0, 0.0, 0.0, 0.0, 0.0, 0.0, 0.0, 0.0], [0.8234888315200806, 0.0022686494048684835, 8.187698404071853e-05, 0.0002975870156660676, 0.0008312793797813356, 0.006482638418674469, 0.0004864291113335639, 0.0008075059740804136, 0.000939331017434597, 0.0001937814668053761, 0.0006426420295611024, 0.0009158456232398748, 0.0008364365203306079, 0.0008046379080042243, 0.00010365313937654719, 0.00016683975991327316, 0.00027802688418887556, 4.7417142923222855e-05, 0.00022521229402627796, 0.028845248743891716, 0.031466491520404816, 0.0326671339571476, 0.033322349190711975, 0.033800311386585236, 0.0, 0.0, 0.0, 0.0, 0.0, 0.0, 0.0, 0.0, 0.0, 0.0, 0.0, 0.0, 0.0], [0.8087995648384094, 0.0020535429939627647, 7.308274507522583e-05, 0.00026870938017964363, 0.0007249807240441442, 0.005894788075238466, 0.00043790845666080713, 0.0007267750333994627, 0.0008260902832262218, 0.00017156235116999596, 0.0005610554944723845, 0.0008021828252822161, 0.0007164664566516876, 0.0007072902517393231, 9.108957601711154e-05, 0.00014675050624646246, 0.00024077652778942138, 4.143490514252335e-05, 0.00019369441724848002, 0.026146115735173225, 0.028575381264090538, 0.029696442186832428, 0.030315743759274483, 0.030770864337682724, 0.03101770579814911, 0.0, 0.0, 0.0, 0.0, 0.0, 0.0, 0.0, 0.0, 0.0, 0.0, 0.0, 0.0], [0.795847475528717, 0.0018727671122178435, 6.592428690055385e-05, 0.0002446011349093169, 0.0006404906162060797, 0.005401328671723604, 0.00039808847941458225, 0.0006613707519136369, 0.0007366811041720212, 0.00015371991321444511, 0.0004963157698512077, 0.0007118492503650486, 0.0006237382767722011, 0.0006280663656070828, 8.093498036032543e-05, 0.0001310794905293733, 0.00021178540191613138, 3.668696808745153e-05, 0.00016910320846363902, 0.023950006812810898, 0.02621985599398613, 0.027275077998638153, 0.02786487154662609, 0.028301546350121498, 0.02854444645345211, 0.028732245787978172, 0.0, 0.0, 0.0, 0.0, 0.0, 0.0, 0.0, 0.0, 0.0, 0.0, 0.0], [0.7843347787857056, 0.0017203425522893667, 6.005141040077433e-05, 0.00022439133317675442, 0.000571569602470845, 0.004981205333024263, 0.00036437559174373746, 0.0006064046174287796, 0.0006636548205278814, 0.0001388980308547616, 0.0004433659487403929, 0.0006374416989274323, 0.0005495992372743785, 0.0005626454367302358, 7.252374780364335e-05, 0.00011836495104944333, 0.0001884886878542602, 3.279906013631262e-05, 0.00014927769370842725, 0.022111693397164345, 0.024245813488960266, 0.025244954973459244, 0.025809574872255325, 0.026230579242110252, 0.026470206677913666, 0.02665724791586399, 0.026809807866811752, 0.0, 0.0, 0.0, 0.0, 0.0, 0.0, 0.0, 0.0, 0.0, 0.0], [0.7742536067962646, 0.0015864267479628325, 5.503489956026897e-05, 0.00020696321735158563, 0.0005115680978633463, 0.0046129231341183186, 0.00033501017605885863, 0.0005588614731095731, 0.0005997418193146586, 0.0001262416917597875, 0.0003969233948737383, 0.0005738341133110225, 0.0004859539621975273, 0.0005065685836598277, 6.534584099426866e-05, 0.00010759609722299501, 0.00016842814511619508, 2.951193710032385e-05, 0.0001322210591752082, 0.02052450180053711, 0.022541161626577377, 0.023492466658353806, 0.024036217480897903, 0.024444688111543655, 0.02468259260058403, 0.024870190769433975, 0.025025172159075737, 0.02507025934755802, 0.0, 0.0, 0.0, 0.0, 0.0, 0.0, 0.0, 0.0, 0.0], [0.765215277671814, 0.0014701479813084006, 5.0733382522594184e-05, 0.00019184796838089824, 0.00046211760491132736, 0.004290295299142599, 0.0003100927860941738, 0.0005182407912798226, 0.0005465990980155766, 0.00011567226465558633, 0.0003589906555134803, 0.0005208075745031238, 0.00043503500637598336, 0.0004592709883581847, 5.939082257100381e-05, 9.870779467746615e-05, 0.0001520726946182549, 2.6797612008522265e-05, 0.00011842959065688774, 0.019150828942656517, 0.02106235735118389, 0.021970177069306374, 0.02249431051313877, 0.022890642285346985, 0.023126011714339256, 0.023313192650675774, 0.023469435051083565, 0.023521006107330322, 0.023601578548550606, 0.0, 0.0, 0.0, 0.0, 0.0, 0.0, 0.0, 0.0], [0.7573453783988953, 0.0013686628080904484, 4.7002580686239526e-05, 0.00017837248742580414, 0.00041877286275848746, 0.004010932520031929, 0.00028822050080634654, 0.00048308787518180907, 0.0004999387892894447, 0.00010642418055795133, 0.00032534473575651646, 0.0004749571962747723, 0.0003908253274857998, 0.0004187501035630703, 5.423311813501641e-05, 9.103037155000493e-05, 0.00013781152665615082, 2.4435785235255025e-05, 0.00010638408275553957, 0.017927607521414757, 0.019741764292120934, 0.02060815319418907, 0.021112564951181412, 0.021496091037988663, 0.021727442741394043, 0.021912675350904465, 0.022068526595830917, 0.022124603390693665, 0.022208182141184807, 0.022301673889160156, 0.0, 0.0, 0.0, 0.0, 0.0, 0.0, 0.0], [0.7502773404121399, 0.0012774866772815585, 4.374868149170652e-05, 0.00016642565606161952, 0.0003808943438343704, 0.003758686827495694, 0.00026857154443860054, 0.0004514582979027182, 0.0004587611183524132, 9.824191511142999e-05, 0.00029567236197181046, 0.0004341667518019676, 0.00035242963349446654, 0.0003824245068244636, 4.9613761802902445e-05, 8.418974175583571e-05, 0.0001252967194886878, 2.234811290691141e-05, 9.581743506714702e-05, 0.016839154064655304, 0.018567759543657303, 0.019398158416152, 0.019885694608092308, 0.020258430391550064, 0.020486775785684586, 0.020670825615525246, 0.020826855674386024, 0.020887477323412895, 0.020974259823560715, 0.021070390939712524, 0.021110668778419495, 0.0, 0.0, 0.0, 0.0, 0.0, 0.0], [0.7440983057022095, 0.001197767211124301, 4.083563544554636e-05, 0.00015585734217893332, 0.0003485875786282122, 0.00353828608058393, 0.00025137592456303537, 0.0004235567175783217, 0.0004233927757013589, 9.117212903220206e-05, 0.000270440592430532, 0.0003994078724645078, 0.0003202422522008419, 0.00035174484946765006, 4.568457370623946e-05, 7.822319457773119e-05, 0.00011470148456282914, 2.0565017621265724e-05, 8.690467802807689e-05, 0.015866035595536232, 0.01751200668513775, 0.018305253237485886, 0.01877332292497158, 0.019132358953356743, 0.019354242831468582, 0.019533749669790268, 0.019686594605445862, 0.019748225808143616, 0.019834863021969795, 0.019930396229028702, 0.019972573965787888, 0.020093366503715515, 0.0, 0.0, 0.0, 0.0, 0.0], [0.7388411164283752, 0.0011232257820665836, 3.828285844065249e-05, 0.00014619123248849064, 0.0003184395900461823, 0.0033329881262034178, 0.0002354593452764675, 0.0003977366432081908, 0.00038979086093604565, 8.472833724226803e-05, 0.00024674608721397817, 0.00036762937088496983, 0.00029037645435892045, 0.00032330688554793596, 4.206418452668004e-05, 7.276750693563372e-05, 0.00010479759657755494, 1.8948605429613963e-05, 7.868043030612171e-05, 0.014964255504310131, 0.016535570845007896, 0.01729649491608143, 0.017748592421412468, 0.018096940591931343, 0.018314845860004425, 0.018492069095373154, 0.01864379271864891, 0.018708178773522377, 0.018796460703015327, 0.01889316737651825, 0.018938779830932617, 0.019059669226408005, 0.019057761877775192, 0.0, 0.0, 0.0, 0.0], [0.7336961030960083, 0.0010600450914353132, 3.601213757065125e-05, 0.00013772449165116996, 0.0002934750518761575, 0.003157122526317835, 0.0002217781584477052, 0.0003755869693122804, 0.0003620724019128829, 7.915356400189921e-05, 0.00022699481633026153, 0.0003402831789571792, 0.000265702634351328, 0.00029930329765193164, 3.897715578204952e-05, 6.806149758631364e-05, 9.655240864958614e-05, 1.7548620235174894e-05, 7.18055889592506e-05, 0.014177079312503338, 0.015680823475122452, 0.016411300748586655, 0.01684732362627983, 0.01718432828783989, 0.017396816983819008, 0.01757020317018032, 0.017719196155667305, 0.017784344032406807, 0.01787242852151394, 0.017968587577342987, 0.01801569201052189, 0.01813514530658722, 0.01813674345612526, 0.018255572766065598, 0.0, 0.0, 0.0], [0.7297389507293701, 0.0010019027395173907, 3.395834573893808e-05, 0.00012990206596441567, 0.0002705530496314168, 0.00299527938477695, 0.00020910768944304436, 0.0003550862893462181, 0.00033617098233662546, 7.415084110107273e-05, 0.00020898586080875248, 0.0003157525206916034, 0.00024345284327864647, 0.00027763310936279595, 3.6174471460981295e-05, 6.368186586769298e-05, 8.897753286873922e-05, 1.6298428818117827e-05, 6.559427856700495e-05, 0.013433227315545082, 0.014869770035147667, 0.015568835660815239, 0.015987370163202286, 0.016311511397361755, 0.016516922041773796, 0.01668485999107361, 0.01682950370013714, 0.016893776133656502, 0.016980087384581566, 0.017074158415198326, 0.017121268436312675, 0.017237814143300056, 0.01724141091108322, 0.01735730469226837, 0.01743066869676113, 0.0, 0.0], [0.7258374691009521, 0.0009488201467320323, 3.212705269106664e-05, 0.0001228817563969642, 0.00025149050634354353, 0.0028459655586630106, 0.00019773592066485435, 0.0003367158933542669, 0.0003144234069623053, 6.972764822421595e-05, 0.00019404383783694357, 0.00029390305280685425, 0.00022526507382281125, 0.0002584273461252451, 3.3741955121513456e-05, 5.994835009914823e-05, 8.272958802990615e-05, 1.5203905604721513e-05, 6.049758303561248e-05, 0.012770689092576504, 0.014146355912089348, 0.014816713519394398, 0.01521901972591877, 0.015531092882156372, 0.015729622915387154, 0.015892142429947853, 0.0160323828458786, 0.01609536074101925, 0.016179591417312622, 0.01627127267420292, 0.01631784997880459, 0.016431264579296112, 0.016436150297522545, 0.016548890620470047, 0.016620894894003868, 0.016779622063040733, 0.0], [0.7223779559135437, 0.0009028196218423545, 3.0471059289993718e-05, 0.00011650401575025171, 0.0002344411623198539, 0.0027149757370352745, 0.00018765094864647835, 0.0003203477244824171, 0.00029473070753738284, 6.578818283742294e-05, 0.000180610382813029, 0.00027477150433696806, 0.00020899907394777983, 0.0002417442883597687, 3.159590414725244e-05, 5.64961665077135e-05, 7.704720337642357e-05, 1.4230516171664931e-05, 5.5915501434355974e-05, 0.01216361578553915, 0.013481260277330875, 0.014123406261205673, 0.014509133994579315, 0.014808572828769684, 0.01499935518950224, 0.015155552886426449, 0.01529046893119812, 0.015351112931966782, 0.015432259999215603, 0.01552063599228859, 0.015565704554319382, 0.01567515730857849, 0.015680309385061264, 0.015789130702614784, 0.01585894450545311, 0.016012312844395638, 0.01619608700275421]], [[1.0, 0.0, 0.0, 0.0, 0.0, 0.0, 0.0, 0.0, 0.0, 0.0, 0.0, 0.0, 0.0, 0.0, 0.0, 0.0, 0.0, 0.0, 0.0, 0.0, 0.0, 0.0, 0.0, 0.0, 0.0, 0.0, 0.0, 0.0, 0.0, 0.0, 0.0, 0.0, 0.0, 0.0, 0.0, 0.0, 0.0], [0.9786731600761414, 0.021326854825019836, 0.0, 0.0, 0.0, 0.0, 0.0, 0.0, 0.0, 0.0, 0.0, 0.0, 0.0, 0.0, 0.0, 0.0, 0.0, 0.0, 0.0, 0.0, 0.0, 0.0, 0.0, 0.0, 0.0, 0.0, 0.0, 0.0, 0.0, 0.0, 0.0, 0.0, 0.0, 0.0, 0.0, 0.0, 0.0], [0.9936135411262512, 0.005610031075775623, 0.0007763708126731217, 0.0, 0.0, 0.0, 0.0, 0.0, 0.0, 0.0, 0.0, 0.0, 0.0, 0.0, 0.0, 0.0, 0.0, 0.0, 0.0, 0.0, 0.0, 0.0, 0.0, 0.0, 0.0, 0.0, 0.0, 0.0, 0.0, 0.0, 0.0, 0.0, 0.0, 0.0, 0.0, 0.0, 0.0], [0.6832355260848999, 0.008425800129771233, 0.008364900015294552, 0.2999737858772278, 0.0, 0.0, 0.0, 0.0, 0.0, 0.0, 0.0, 0.0, 0.0, 0.0, 0.0, 0.0, 0.0, 0.0, 0.0, 0.0, 0.0, 0.0, 0.0, 0.0, 0.0, 0.0, 0.0, 0.0, 0.0, 0.0, 0.0, 0.0, 0.0, 0.0, 0.0, 0.0, 0.0], [0.5101008415222168, 0.0064687952399253845, 0.004240490961819887, 0.36707597970962524, 0.11211397498846054, 0.0, 0.0, 0.0, 0.0, 0.0, 0.0, 0.0, 0.0, 0.0, 0.0, 0.0, 0.0, 0.0, 0.0, 0.0, 0.0, 0.0, 0.0, 0.0, 0.0, 0.0, 0.0, 0.0, 0.0, 0.0, 0.0, 0.0, 0.0, 0.0, 0.0, 0.0, 0.0], [0.787527859210968, 0.01991983689367771, 0.0010895690647885203, 0.04953405633568764, 0.10376454144716263, 0.03816407546401024, 0.0, 0.0, 0.0, 0.0, 0.0, 0.0, 0.0, 0.0, 0.0, 0.0, 0.0, 0.0, 0.0, 0.0, 0.0, 0.0, 0.0, 0.0, 0.0, 0.0, 0.0, 0.0, 0.0, 0.0, 0.0, 0.0, 0.0, 0.0, 0.0, 0.0, 0.0], [0.7906081676483154, 0.014330727979540825, 0.001017621485516429, 0.02653557062149048, 0.1016986221075058, 0.02333792671561241, 0.04247134551405907, 0.0, 0.0, 0.0, 0.0, 0.0, 0.0, 0.0, 0.0, 0.0, 0.0, 0.0, 0.0, 0.0, 0.0, 0.0, 0.0, 0.0, 0.0, 0.0, 0.0, 0.0, 0.0, 0.0, 0.0, 0.0, 0.0, 0.0, 0.0, 0.0, 0.0], [0.742753803730011, 0.04599844664335251, 0.002278450643643737, 0.00825684703886509, 0.050593066960573196, 0.04709261283278465, 0.027829378843307495, 0.07519744336605072, 0.0, 0.0, 0.0, 0.0, 0.0, 0.0, 0.0, 0.0, 0.0, 0.0, 0.0, 0.0, 0.0, 0.0, 0.0, 0.0, 0.0, 0.0, 0.0, 0.0, 0.0, 0.0, 0.0, 0.0, 0.0, 0.0, 0.0, 0.0, 0.0], [0.8055360913276672, 0.016162743791937828, 0.0015871872892603278, 0.031283460557460785, 0.020370392128825188, 0.027683200314641, 0.038897011429071426, 0.035453036427497864, 0.023026946932077408, 0.0, 0.0, 0.0, 0.0, 0.0, 0.0, 0.0, 0.0, 0.0, 0.0, 0.0, 0.0, 0.0, 0.0, 0.0, 0.0, 0.0, 0.0, 0.0, 0.0, 0.0, 0.0, 0.0, 0.0, 0.0, 0.0, 0.0, 0.0], [0.8883474469184875, 0.019912997260689735, 0.0013727596960961819, 0.0016410739626735449, 0.0043236310593783855, 0.02345520257949829, 0.021517211571335793, 0.021517515182495117, 0.005234017036855221, 0.012678074650466442, 0.0, 0.0, 0.0, 0.0, 0.0, 0.0, 0.0, 0.0, 0.0, 0.0, 0.0, 0.0, 0.0, 0.0, 0.0, 0.0, 0.0, 0.0, 0.0, 0.0, 0.0, 0.0, 0.0, 0.0, 0.0, 0.0, 0.0], [0.933983564376831, 0.0020256652496755123, 0.0002243079652544111, 0.0006650489522144198, 0.001657036948017776, 0.018401578068733215, 0.010281792841851711, 0.006020218133926392, 0.00021894309611525387, 0.008288073353469372, 0.01823374070227146, 0.0, 0.0, 0.0, 0.0, 0.0, 0.0, 0.0, 0.0, 0.0, 0.0, 0.0, 0.0, 0.0, 0.0, 0.0, 0.0, 0.0, 0.0, 0.0, 0.0, 0.0, 0.0, 0.0, 0.0, 0.0, 0.0], [0.8839787840843201, 0.008556290529668331, 0.00019097799668088555, 0.0009094749111682177, 0.0013403481571003795, 0.003568708198145032, 0.00715644983574748, 0.008283311501145363, 0.001216747099533677, 0.007197640370577574, 0.07334040105342865, 0.004260771442204714, 0.0, 0.0, 0.0, 0.0, 0.0, 0.0, 0.0, 0.0, 0.0, 0.0, 0.0, 0.0, 0.0, 0.0, 0.0, 0.0, 0.0, 0.0, 0.0, 0.0, 0.0, 0.0, 0.0, 0.0, 0.0], [0.5786241888999939, 0.034830763936042786, 0.0018229049164801836, 0.03942815214395523, 0.011468242853879929, 0.053024839609861374, 0.04140457510948181, 0.039304230362176895, 0.007484126836061478, 0.039537157863378525, 0.003193677868694067, 0.003456929000094533, 0.14642015099525452, 0.0, 0.0, 0.0, 0.0, 0.0, 0.0, 0.0, 0.0, 0.0, 0.0, 0.0, 0.0, 0.0, 0.0, 0.0, 0.0, 0.0, 0.0, 0.0, 0.0, 0.0, 0.0, 0.0, 0.0], [0.28139904141426086, 0.007186971139162779, 0.00011795914178946987, 0.006093895062804222, 0.02150103822350502, 0.002524652285501361, 0.03284550830721855, 0.17140233516693115, 0.013503306545317173, 0.01996116153895855, 0.005417275708168745, 0.00010242223652312532, 0.4363206923007965, 0.001623731106519699, 0.0, 0.0, 0.0, 0.0, 0.0, 0.0, 0.0, 0.0, 0.0, 0.0, 0.0, 0.0, 0.0, 0.0, 0.0, 0.0, 0.0, 0.0, 0.0, 0.0, 0.0, 0.0, 0.0], [0.2845075726509094, 0.007341727148741484, 9.928904182743281e-05, 0.002716858871281147, 0.021697893738746643, 0.0018491605296730995, 0.013345061801373959, 0.4318523406982422, 0.011029062792658806, 0.013251814991235733, 0.0025110943242907524, 5.858382792212069e-05, 0.18356144428253174, 0.0004978429060429335, 0.025680214166641235, 0.0, 0.0, 0.0, 0.0, 0.0, 0.0, 0.0, 0.0, 0.0, 0.0, 0.0, 0.0, 0.0, 0.0, 0.0, 0.0, 0.0, 0.0, 0.0, 0.0, 0.0, 0.0], [0.4152190089225769, 0.004610096104443073, 0.0001426669623469934, 0.004545331001281738, 0.014207783155143261, 0.0017754327272996306, 0.0032818503677845, 0.010018371045589447, 0.004002355970442295, 0.053215574473142624, 0.0033005003351718187, 0.00013172460603527725, 0.4680580794811249, 0.00032808425021357834, 0.0012667648261412978, 0.015896333381533623, 0.0, 0.0, 0.0, 0.0, 0.0, 0.0, 0.0, 0.0, 0.0, 0.0, 0.0, 0.0, 0.0, 0.0, 0.0, 0.0, 0.0, 0.0, 0.0, 0.0, 0.0], [0.48994722962379456, 0.007783727720379829, 0.0004192025517113507, 0.006307648494839668, 0.006541559938341379, 0.008179126307368279, 0.0279690008610487, 0.035918544977903366, 0.012884744442999363, 0.12724430859088898, 0.0051397904753685, 0.0010802079923450947, 0.1383342444896698, 0.005061189644038677, 0.019517481327056885, 0.07492712885141373, 0.032744888216257095, 0.0, 0.0, 0.0, 0.0, 0.0, 0.0, 0.0, 0.0, 0.0, 0.0, 0.0, 0.0, 0.0, 0.0, 0.0, 0.0, 0.0, 0.0, 0.0, 0.0], [0.7048560976982117, 0.012097761034965515, 0.0017319296021014452, 0.0025862918701022863, 0.004324970301240683, 0.015349313616752625, 0.024611055850982666, 0.023102859035134315, 0.011126839555799961, 0.03381591662764549, 0.005891722161322832, 0.002384849824011326, 0.0728362649679184, 0.0026787989772856236, 0.008220010437071323, 0.02471047081053257, 0.026705218479037285, 0.022969605401158333, 0.0, 0.0, 0.0, 0.0, 0.0, 0.0, 0.0, 0.0, 0.0, 0.0, 0.0, 0.0, 0.0, 0.0, 0.0, 0.0, 0.0, 0.0, 0.0], [0.7977488040924072, 0.0026910684537142515, 0.00016274522931780666, 0.0015663907397538424, 0.0030344603583216667, 0.013321096077561378, 0.013498270884156227, 0.012536301277577877, 0.000903510139323771, 0.02095900848507881, 0.01646336354315281, 0.052049532532691956, 0.034675586968660355, 0.006092685740441084, 0.0028970574494451284, 0.0018917337292805314, 0.0007912542787380517, 0.011612379923462868, 0.007104695308953524, 0.0, 0.0, 0.0, 0.0, 0.0, 0.0, 0.0, 0.0, 0.0, 0.0, 0.0, 0.0, 0.0, 0.0, 0.0, 0.0, 0.0, 0.0], [0.9389521479606628, 0.0018671102588996291, 0.0004237202228978276, 0.002619402715936303, 0.0019514212617650628, 0.0040830448269844055, 0.0009330334723927081, 0.002021877560764551, 0.001424590707756579, 0.0006410324713215232, 0.00026887410786002874, 0.0003125777584500611, 0.0023705812636762857, 0.00045684847282245755, 0.00022634670312982053, 0.000384211860364303, 0.00030197855085134506, 0.000272816454526037, 0.0001374428829876706, 0.04035080224275589, 0.0, 0.0, 0.0, 0.0, 0.0, 0.0, 0.0, 0.0, 0.0, 0.0, 0.0, 0.0, 0.0, 0.0, 0.0, 0.0, 0.0], [0.917281985282898, 0.001518168835900724, 0.00030656324815936387, 0.0018682335503399372, 0.0014065647264942527, 0.0032113848719745874, 0.0006930130766704679, 0.0015007640467956662, 0.001073200604878366, 0.0004857706662733108, 0.0001818760938476771, 0.00020714958372991532, 0.0018203286454081535, 0.00033677706960588694, 0.0001671443460509181, 0.0002714490401558578, 0.00021218357142060995, 0.0001952557940967381, 9.013562521431595e-05, 0.031838010996580124, 0.035333920270204544, 0.0, 0.0, 0.0, 0.0, 0.0, 0.0, 0.0, 0.0, 0.0, 0.0, 0.0, 0.0, 0.0, 0.0, 0.0, 0.0], [0.8959249258041382, 0.0013400971656665206, 0.00024956249399110675, 0.0015402933349832892, 0.0011463705450296402, 0.0028072716668248177, 0.0005901175318285823, 0.0012702058302238584, 0.0009011207730509341, 0.0004180477699264884, 0.00014670882956124842, 0.00016384293849114329, 0.0015320628881454468, 0.0002835215418599546, 0.0001413635181961581, 0.00022402768081519753, 0.00017131776257883757, 0.0001622508279979229, 7.109864964149892e-05, 0.027515044435858727, 0.030676456168293953, 0.03272435814142227, 0.0, 0.0, 0.0, 0.0, 0.0, 0.0, 0.0, 0.0, 0.0, 0.0, 0.0, 0.0, 0.0, 0.0, 0.0], [0.8755679130554199, 0.0012190762208774686, 0.00021285504044499248, 0.0013400884345173836, 0.0009824667358770967, 0.0025521358475089073, 0.0005282515776343644, 0.0011298394529148936, 0.0007891854620538652, 0.00037653843173757195, 0.00012588292884174734, 0.0001388245145790279, 0.001340620219707489, 0.0002508442266844213, 0.00012561895709950477, 0.00019614098710007966, 0.00014581314462702721, 0.00014223286416381598, 5.992485603201203e-05, 0.024678697809576988, 0.027614612132310867, 0.029519716277718544, 0.03096260130405426, 0.0, 0.0, 0.0, 0.0, 0.0, 0.0, 0.0, 0.0, 0.0, 0.0, 0.0, 0.0, 0.0, 0.0], [0.8567683696746826, 0.0011180335422977805, 0.00018507431377656758, 0.0011923938291147351, 0.0008630825323052704, 0.002352531999349594, 0.0004811570106539875, 0.001025499659590423, 0.0007035506423562765, 0.00034380806027911603, 0.00011109219485661015, 0.00012128975504310802, 0.001193310832604766, 0.00022589246509596705, 0.0001134096528403461, 0.00017543567810207605, 0.00012701714877039194, 0.0001270521606784314, 5.211868483456783e-05, 0.02250000089406967, 0.025247739627957344, 0.027033664286136627, 0.028388286009430885, 0.029550177976489067, 0.0, 0.0, 0.0, 0.0, 0.0, 0.0, 0.0, 0.0, 0.0, 0.0, 0.0, 0.0, 0.0], [0.8387685418128967, 0.0010355798294767737, 0.00016348392819054425, 0.0010819394374266267, 0.0007714138482697308, 0.00219536991789937, 0.000444737117504701, 0.0009427151526324451, 0.0006344784633256495, 0.00031829182989895344, 9.951108222594485e-05, 0.00010812832624651492, 0.0010769774671643972, 0.00020646567281801254, 0.00010391473188064992, 0.00015958082803990692, 0.00011227880168007687, 0.00011533186625456437, 4.609793904819526e-05, 0.020798416808247566, 0.023401224985718727, 0.025096898898482323, 0.026385944336652756, 0.027492038905620575, 0.028440680354833603, 0.0, 0.0, 0.0, 0.0, 0.0, 0.0, 0.0, 0.0, 0.0, 0.0, 0.0, 0.0], [0.8217718005180359, 0.0009637245093472302, 0.00014552110224030912, 0.000987578765489161, 0.0006962715997360647, 0.0020590221974998713, 0.00041370370308868587, 0.000874680990818888, 0.0005766404210589826, 0.00029538394301198423, 8.996162796393037e-05, 9.744068665895611e-05, 0.0009800082771107554, 0.00018988962983712554, 9.581050835549831e-05, 0.00014664635818917304, 0.00010021693742601201, 0.00010518923227209598, 4.123687540413812e-05, 0.019388552755117416, 0.02186632715165615, 0.023483844473958015, 0.02471621334552765, 0.025774376466870308, 0.026682788506150246, 0.02745721861720085, 0.0, 0.0, 0.0, 0.0, 0.0, 0.0, 0.0, 0.0, 0.0, 0.0, 0.0], [0.805782675743103, 0.0009004827006720006, 0.00013042920909356326, 0.000907023495528847, 0.000633304996881634, 0.0019365933258086443, 0.00038628687616437674, 0.0008154489914886653, 0.0005266440566629171, 0.0002751893480308354, 8.179856376955286e-05, 8.83746033650823e-05, 0.0008977319812402129, 0.00017528368334751576, 8.868462464306504e-05, 0.0001355341519229114, 9.003808372654021e-05, 9.644571400713176e-05, 3.712555189849809e-05, 0.018176350742578506, 0.020543333142995834, 0.02209133468568325, 0.023273156955838203, 0.02428870089352131, 0.025161361321806908, 0.0259057879447937, 0.026574913412332535, 0.0, 0.0, 0.0, 0.0, 0.0, 0.0, 0.0, 0.0, 0.0, 0.0], [0.7902657985687256, 0.0008452854817733169, 0.00011756387539207935, 0.0008395164040848613, 0.000579618033953011, 0.0018288625869899988, 0.0003622711228672415, 0.0007633554050698876, 0.000483044539578259, 0.00025737594114616513, 7.460681081283838e-05, 8.058807725319639e-05, 0.0008266329532489181, 0.00016246837913058698, 8.246054494520649e-05, 0.00012583915668074042, 8.124376472551376e-05, 8.87946953298524e-05, 3.3558786526555195e-05, 0.017147740349173546, 0.019423866644501686, 0.020915690809488297, 0.02205735445022583, 0.023039469495415688, 0.023884622380137444, 0.02460639923810959, 0.025256799533963203, 0.025769168511033058, 0.0, 0.0, 0.0, 0.0, 0.0, 0.0, 0.0, 0.0, 0.0], [0.7758926749229431, 0.0007929153507575393, 0.00010635448415996507, 0.0007779720472171903, 0.0005326012033037841, 0.0017265629721805453, 0.0003401636495254934, 0.0007160404929891229, 0.00044348652590997517, 0.00024060881696641445, 6.830949132563546e-05, 7.3708884883672e-05, 0.0007635215879417956, 0.00015070159861352295, 7.675731467315927e-05, 0.00011701816401910037, 7.354871195275337e-05, 8.191409870050848e-05, 3.049534461752046e-05, 0.01621481403708458, 0.018401481211185455, 0.019837191328406334, 0.020938226953148842, 0.02188638225197792, 0.02270333841443062, 0.02340177446603775, 0.024032585322856903, 0.024530434980988503, 0.02504843845963478, 0.0, 0.0, 0.0, 0.0, 0.0, 0.0, 0.0, 0.0], [0.7621638178825378, 0.0007468538824468851, 9.666239202488214e-05, 0.000722568656783551, 0.0004915610770694911, 0.0016337520210072398, 0.0003198511840309948, 0.0006729927845299244, 0.0004086930421181023, 0.00022511013958137482, 6.260545342229307e-05, 6.75959890941158e-05, 0.0007079964852891862, 0.00014009702135808766, 7.154405466280878e-05, 0.00010904807277256623, 6.684659456368536e-05, 7.567072316305712e-05, 2.7767891879193485e-05, 0.015387499704957008, 0.01749304309487343, 0.018877388909459114, 0.019940869882702827, 0.02085748314857483, 0.021648116409778595, 0.02232469990849495, 0.022937007248401642, 0.023421039804816246, 0.02392440102994442, 0.02437741495668888, 0.0, 0.0, 0.0, 0.0, 0.0, 0.0, 0.0], [0.7487654089927673, 0.000703939760569483, 8.812209853203967e-05, 0.0006732496549375355, 0.0004550246230792254, 0.001544719678349793, 0.00030063019949011505, 0.0006333026685751975, 0.0003771980991587043, 0.00021050291252322495, 5.7307202951051295e-05, 6.193143053678796e-05, 0.0006588955875486135, 0.00013011683768127114, 6.671728624496609e-05, 0.00010185490100411698, 6.084180131438188e-05, 6.98971125530079e-05, 2.5262843337259255e-05, 0.014653128571808338, 0.016689162701368332, 0.018029985949397087, 0.019062040373682976, 0.01995248533785343, 0.020721565932035446, 0.021380553022027016, 0.02197819948196411, 0.02245173789560795, 0.022943871095776558, 0.02338762953877449, 0.023764856159687042, 0.0, 0.0, 0.0, 0.0, 0.0, 0.0], [0.7365943789482117, 0.0006651247385889292, 8.075514779193327e-05, 0.0006289202137850225, 0.0004226939636282623, 0.0014646421186625957, 0.00028338859556242824, 0.0005972553626634181, 0.00034925423096865416, 0.00019761451403610408, 5.2752333431271836e-05, 5.704202703782357e-05, 0.0006144145736470819, 0.00012122261978220195, 6.235437467694283e-05, 9.529157978249714e-05, 5.562927617575042e-05, 6.483909237431362e-05, 2.3111089831218123e-05, 0.013962878845632076, 0.015926286578178406, 0.017220167443156242, 0.01821720041334629, 0.019077859818935394, 0.01982172392308712, 0.020459456369280815, 0.02103874273598194, 0.02149810828268528, 0.021975385025143623, 0.02240627631545067, 0.022772997617721558, 0.023192178457975388, 0.0, 0.0, 0.0, 0.0, 0.0], [0.7242981195449829, 0.0006293849437497556, 7.418909081025049e-05, 0.0005895171198062599, 0.00039363090763799846, 0.0013893585419282317, 0.0002673188573680818, 0.0005638367729261518, 0.00032404711237177253, 0.00018583331257104874, 4.851979247177951e-05, 5.2570627303794026e-05, 0.0005748061230406165, 0.00011302380880806595, 5.836918353452347e-05, 8.940851694205776e-05, 5.099826375953853e-05, 6.027648851159029e-05, 2.1139070668141358e-05, 0.013350936584174633, 0.015254806727170944, 0.016511332243680954, 0.017481273040175438, 0.018319368362426758, 0.01904466189444065, 0.019667256623506546, 0.0202338807284832, 0.020684251561760902, 0.021151887252926826, 0.021574823185801506, 0.02193562127649784, 0.022347770631313324, 0.022657841444015503, 0.0, 0.0, 0.0, 0.0], [0.7126847505569458, 0.0005976501270197332, 6.851266516605392e-05, 0.0005540361744351685, 0.0003679385408759117, 0.001320780604146421, 0.0002527843462303281, 0.0005338902119547129, 0.00030158180743455887, 0.00017471029423177242, 4.484018063521944e-05, 4.855111546930857e-05, 0.0005390598671510816, 0.00010557093628449365, 5.472389602800831e-05, 8.40445572976023e-05, 4.689858542406e-05, 5.6078028137562796e-05, 1.9433315173955634e-05, 0.012790516950190067, 0.014635960571467876, 0.01585473120212555, 0.016796566545963287, 0.01761084422469139, 0.018316060304641724, 0.018921896815299988, 0.019474107772111893, 0.019913552328944206, 0.020369745790958405, 0.020782848820090294, 0.021135803312063217, 0.021539026871323586, 0.02184295281767845, 0.022159608080983162, 0.0, 0.0, 0.0], [0.7019933462142944, 0.0005665458156727254, 6.328761810436845e-05, 0.0005202058237046003, 0.0003442747110966593, 0.0012533655390143394, 0.00023833458544686437, 0.0005040541291236877, 0.00028050102991983294, 0.00016426864021923393, 4.136072675464675e-05, 4.4841013732366264e-05, 0.0005059582181274891, 9.847657929640263e-05, 5.11545040353667e-05, 7.871908019296825e-05, 4.309584619477391e-05, 5.218244405114092e-05, 1.783662628440652e-05, 0.012256444431841373, 0.014044064097106457, 0.015225299634039402, 0.016138920560479164, 0.016929078847169876, 0.01761385053396225, 0.018202412873506546, 0.018739577382802963, 0.019167441874742508, 0.019611457362771034, 0.020013993605971336, 0.020358318462967873, 0.020751800388097763, 0.021048767492175102, 0.021358756348490715, 0.02167814038693905, 0.0, 0.0], [0.6923036575317383, 0.0005376354674808681, 5.880403841729276e-05, 0.0004898413899354637, 0.0003230763250030577, 0.0011913628550246358, 0.00022543482191395015, 0.00047800075844861567, 0.0002623476320877671, 0.00015469177742488682, 3.835841562249698e-05, 4.152464680373669e-05, 0.00047611852642148733, 9.20492602745071e-05, 4.8021014663390815e-05, 7.413307321257889e-05, 3.992807978647761e-05, 4.870871271123178e-05, 1.6475296433782205e-05, 0.011747338809072971, 0.01347549632191658, 0.014617569744586945, 0.015501358546316624, 0.016265887767076492, 0.016928644850850105, 0.017498401924967766, 0.018018925562500954, 0.018433580175042152, 0.018863877281546593, 0.019254228100180626, 0.019588274881243706, 0.01997031457722187, 0.020258663222193718, 0.020560281351208687, 0.020870808511972427, 0.021246109157800674, 0.0], [0.6830065250396729, 0.0005117960972711444, 5.483673885464668e-05, 0.0004625284345820546, 0.00030444483854807913, 0.001134460442699492, 0.0002134216920239851, 0.0004533671890385449, 0.00024548787041567266, 0.00014581756840925664, 3.567240128177218e-05, 3.859593562083319e-05, 0.00044955129851587117, 8.631548553239554e-05, 4.512296072789468e-05, 6.975729775149375e-05, 3.6991408705944195e-05, 4.5523429434979334e-05, 1.5255231119226664e-05, 0.011279644444584846, 0.012952003628015518, 0.014056858606636524, 0.014911925420165062, 0.015651553869247437, 0.01629272848367691, 0.01684390939772129, 0.017347820103168488, 0.017749078571796417, 0.01816546730697155, 0.018543405458331108, 0.018866820260882378, 0.019237130880355835, 0.019516410306096077, 0.019809164106845856, 0.02011043392121792, 0.020474733784794807, 0.02083544246852398]]], \"attentionHeadNames\": [\"L10H0\", \"L10H1\", \"L10H2\", \"L10H3\", \"L10H4\", \"L10H5\", \"L10H6\", \"L10H7\", \"L10H8\", \"L10H9\", \"L10H10\", \"L10H11\"], \"tokens\": [\"Red\", \"ef\", \"ine\", \":\", \" Darwin\", \" International\", \" Airport\", \" is\", \" located\", \" in\", \" the\", \" country\", \" of\", \" Norway\", \".\", \" Darwin\", \" International\", \" Airport\", \" is\", \" located\", \" in\", \" the\", \" country\", \" of\"]}\n",
       "    )\n",
       "    </script>"
      ],
      "text/plain": [
       "<circuitsvis.utils.render.RenderedHTML at 0x31f1842f0>"
      ]
     },
     "metadata": {},
     "output_type": "display_data"
    }
   ],
   "source": [
    "block = 10\n",
    "\n",
    "print(type(activation_cache))\n",
    "# attention_pattern = activation_cache[\"pattern\", block]\n",
    "cache = activation_cache[f\"blocks.{block}.attn.hook_pattern\"][0]\n",
    "print(cache.shape)\n",
    "gpt2_str_tokens = model.to_str_tokens(prompts[98], prepend_bos=False)\n",
    "\n",
    "print(f\"Layer {block} Head Attention Heads:\")\n",
    "display(cv.attention.attention_heads(\n",
    "    tokens=gpt2_str_tokens, \n",
    "    attention=cache,\n",
    "    attention_head_names=[f\"L{block}H{i}\" for i in range(12)],\n",
    "))"
   ]
  },
  {
   "cell_type": "markdown",
   "metadata": {},
   "source": [
    "### Ablation"
   ]
  },
  {
   "cell_type": "code",
   "execution_count": 15,
   "metadata": {},
   "outputs": [],
   "source": [
    "from dataset import BaseDataset\n",
    "from experiment import Ablator\n",
    "from model import ModelFactory"
   ]
  },
  {
   "cell_type": "code",
   "execution_count": 16,
   "metadata": {},
   "outputs": [
    {
     "name": "stdout",
     "output_type": "stream",
     "text": [
      "\u001b[31m Cuda is not available, switching to cpu \u001b[0;0m\n",
      "Loaded pretrained model gpt2 into HookedTransformer\n"
     ]
    }
   ],
   "source": [
    "ablation_model = ModelFactory.create(\"gpt2\")"
   ]
  },
  {
   "cell_type": "code",
   "execution_count": 54,
   "metadata": {},
   "outputs": [],
   "source": [
    "dataset = BaseDataset(path = \"../data/full_data_sampled_gpt2_with_domains.json\",\n",
    "                      model = ablation_model,\n",
    "                      experiment=\"copyVSfact\",\n",
    "                      prompt_type=\"domain\",\n",
    "                      no_subject=True)\n",
    "ablator = Ablator(model=ablation_model, dataset=dataset, experiment=\"copyVSfact\", batch_size=20)"
   ]
  },
  {
   "cell_type": "code",
   "execution_count": 55,
   "metadata": {},
   "outputs": [
    {
     "name": "stderr",
     "output_type": "stream",
     "text": [
      "Ablating: 100%|██████████| 24/24 [01:17<00:00,  3.21s/it]\n"
     ]
    },
    {
     "data": {
      "text/html": [
       "<div>\n",
       "<style scoped>\n",
       "    .dataframe tbody tr th:only-of-type {\n",
       "        vertical-align: middle;\n",
       "    }\n",
       "\n",
       "    .dataframe tbody tr th {\n",
       "        vertical-align: top;\n",
       "    }\n",
       "\n",
       "    .dataframe thead th {\n",
       "        text-align: right;\n",
       "    }\n",
       "</style>\n",
       "<table border=\"1\" class=\"dataframe\">\n",
       "  <thead>\n",
       "    <tr style=\"text-align: right;\">\n",
       "      <th></th>\n",
       "      <th>mem</th>\n",
       "      <th>cp</th>\n",
       "      <th>diff</th>\n",
       "      <th>mem_std</th>\n",
       "      <th>cp_std</th>\n",
       "      <th>diff_std</th>\n",
       "      <th>mem_win</th>\n",
       "      <th>cp_win</th>\n",
       "    </tr>\n",
       "  </thead>\n",
       "  <tbody>\n",
       "    <tr>\n",
       "      <th>0</th>\n",
       "      <td>13.857364</td>\n",
       "      <td>14.130378</td>\n",
       "      <td>-0.273015</td>\n",
       "      <td>1.666047</td>\n",
       "      <td>2.702236</td>\n",
       "      <td>2.729101</td>\n",
       "      <td>5014.0</td>\n",
       "      <td>4614.0</td>\n",
       "    </tr>\n",
       "  </tbody>\n",
       "</table>\n",
       "</div>"
      ],
      "text/plain": [
       "         mem         cp      diff   mem_std    cp_std  diff_std  mem_win  \\\n",
       "0  13.857364  14.130378 -0.273015  1.666047  2.702236  2.729101   5014.0   \n",
       "\n",
       "   cp_win  \n",
       "0  4614.0  "
      ]
     },
     "execution_count": 55,
     "metadata": {},
     "output_type": "execute_result"
    }
   ],
   "source": [
    "ablator.set_heads(heads=[(10,7), (11,10)], value=5, position=\"attribute\")\n",
    "ablator.run()"
   ]
  },
  {
   "cell_type": "markdown",
   "metadata": {},
   "source": [
    "### Logit Attribution"
   ]
  },
  {
   "cell_type": "code",
   "execution_count": 4,
   "metadata": {},
   "outputs": [],
   "source": [
    "from dataset import BaseDataset\n",
    "from model import ModelFactory\n",
    "from experiment import LogitAttribution"
   ]
  },
  {
   "cell_type": "code",
   "execution_count": 5,
   "metadata": {},
   "outputs": [
    {
     "data": {
      "text/plain": [
       "domain\n",
       "Autos_and_Vehicles           3755\n",
       "Computers_and_Electronics    2406\n",
       "Arts_and_Entertainment        669\n",
       "Law_and_Government            544\n",
       "Jobs_and_Education            484\n",
       "Business_and_Industrial       473\n",
       "People_and_Society            345\n",
       "Games                         267\n",
       "Internet_and_Telecom          235\n",
       "News                          234\n",
       "Sports                        193\n",
       "Travel_and_Transportation      99\n",
       "Sensitive_Subjects             86\n",
       "Science                        46\n",
       "Online_Communities             42\n",
       "Finance                        36\n",
       "Health                         33\n",
       "Books_and_Literature           27\n",
       "Food_and_Drink                 12\n",
       "Real_Estate                     6\n",
       "Shopping                        4\n",
       "Hobbies_and_Leisure             3\n",
       "Home_and_Garden                 1\n",
       "Name: count, dtype: int64"
      ]
     },
     "execution_count": 5,
     "metadata": {},
     "output_type": "execute_result"
    }
   ],
   "source": [
    "domains = [row[\"domain\"] for row in domain_dataset]\n",
    "domains_df = pd.DataFrame({\"domain\": domains})\n",
    "domains_df[\"domain\"].value_counts()"
   ]
  },
  {
   "cell_type": "code",
   "execution_count": 6,
   "metadata": {},
   "outputs": [],
   "source": [
    "MODEL_NAME = \"gpt2\"\n",
    "DOMAIN = \"Sensitive_Subjects\"\n",
    "MODEL_FOLDER = f\"{MODEL_NAME}_domain_{DOMAIN}\"\n",
    "EXPERIMENT = \"copyVSfactDomain\""
   ]
  },
  {
   "cell_type": "code",
   "execution_count": 7,
   "metadata": {},
   "outputs": [
    {
     "name": "stdout",
     "output_type": "stream",
     "text": [
      "\u001b[31m Cuda is not available, switching to cpu \u001b[0;0m\n",
      "Loaded pretrained model gpt2 into HookedTransformer\n"
     ]
    }
   ],
   "source": [
    "logit_attr_model = ModelFactory.create(MODEL_NAME)"
   ]
  },
  {
   "cell_type": "code",
   "execution_count": 8,
   "metadata": {},
   "outputs": [
    {
     "name": "stdout",
     "output_type": "stream",
     "text": [
      "Filtering for Domain Sensitive_Subjects!\n"
     ]
    },
    {
     "name": "stderr",
     "output_type": "stream",
     "text": [
      "Tokenizing and computing lengths:   0%|          | 0/86 [00:00<?, ?it/s]huggingface/tokenizers: The current process just got forked, after parallelism has already been used. Disabling parallelism to avoid deadlocks...\n",
      "To disable this warning, you can either:\n",
      "\t- Avoid using `tokenizers` before the fork if possible\n",
      "\t- Explicitly set the environment variable TOKENIZERS_PARALLELISM=(true | false)\n",
      "Tokenizing and computing lengths: 100%|██████████| 86/86 [00:00<00:00, 409.17it/s]\n"
     ]
    }
   ],
   "source": [
    "dataset = BaseDataset(\n",
    "    path= \"../data/full_data_sampled_gpt2_with_domains.json\",\n",
    "    model=logit_attr_model,\n",
    "    experiment=\"copyVSfact\",\n",
    "    premise=\"Redefine\",\n",
    "    domain=DOMAIN\n",
    ")"
   ]
  },
  {
   "cell_type": "code",
   "execution_count": 10,
   "metadata": {},
   "outputs": [
    {
     "name": "stderr",
     "output_type": "stream",
     "text": [
      "Attributing:   0%|          | 0/11 [00:00<?, ?it/s]"
     ]
    },
    {
     "name": "stdout",
     "output_type": "stream",
     "text": [
      "Tried to stack head results when they weren't cached. Computing head results now\n",
      "Tried to stack head results when they weren't cached. Computing head results now\n",
      "Tried to stack head results when they weren't cached. Computing head results now\n",
      "Tried to stack head results when they weren't cached. Computing head results now\n"
     ]
    },
    {
     "name": "stderr",
     "output_type": "stream",
     "text": [
      "Attributing:   9%|▉         | 1/11 [00:04<00:48,  4.82s/it]"
     ]
    },
    {
     "name": "stdout",
     "output_type": "stream",
     "text": [
      "Tried to stack head results when they weren't cached. Computing head results now\n"
     ]
    },
    {
     "name": "stderr",
     "output_type": "stream",
     "text": [
      "Attributing:  18%|█▊        | 2/11 [00:05<00:22,  2.53s/it]"
     ]
    },
    {
     "name": "stdout",
     "output_type": "stream",
     "text": [
      "Tried to stack head results when they weren't cached. Computing head results now\n"
     ]
    },
    {
     "name": "stderr",
     "output_type": "stream",
     "text": [
      "Attributing:  27%|██▋       | 3/11 [00:20<01:05,  8.21s/it]"
     ]
    },
    {
     "name": "stdout",
     "output_type": "stream",
     "text": [
      "Tried to stack head results when they weren't cached. Computing head results now\n",
      "Tried to stack head results when they weren't cached. Computing head results now\n",
      "Tried to stack head results when they weren't cached. Computing head results now\n"
     ]
    },
    {
     "name": "stderr",
     "output_type": "stream",
     "text": [
      "Attributing:  36%|███▋      | 4/11 [03:06<08:12, 70.36s/it]"
     ]
    },
    {
     "name": "stdout",
     "output_type": "stream",
     "text": [
      "Tried to stack head results when they weren't cached. Computing head results now\n"
     ]
    },
    {
     "name": "stderr",
     "output_type": "stream",
     "text": [
      "Attributing:  45%|████▌     | 5/11 [03:46<05:57, 59.53s/it]"
     ]
    },
    {
     "name": "stdout",
     "output_type": "stream",
     "text": [
      "Tried to stack head results when they weren't cached. Computing head results now\n"
     ]
    },
    {
     "name": "stderr",
     "output_type": "stream",
     "text": [
      "Attributing:  55%|█████▍    | 6/11 [04:04<03:47, 45.44s/it]"
     ]
    },
    {
     "name": "stdout",
     "output_type": "stream",
     "text": [
      "Tried to stack head results when they weren't cached. Computing head results now\n"
     ]
    },
    {
     "name": "stderr",
     "output_type": "stream",
     "text": [
      "Attributing:  64%|██████▎   | 7/11 [04:06<02:04, 31.05s/it]"
     ]
    },
    {
     "name": "stdout",
     "output_type": "stream",
     "text": [
      "Tried to stack head results when they weren't cached. Computing head results now\n"
     ]
    },
    {
     "name": "stderr",
     "output_type": "stream",
     "text": [
      "Attributing:  73%|███████▎  | 8/11 [04:35<01:31, 30.62s/it]"
     ]
    },
    {
     "name": "stdout",
     "output_type": "stream",
     "text": [
      "Tried to stack head results when they weren't cached. Computing head results now\n"
     ]
    },
    {
     "name": "stderr",
     "output_type": "stream",
     "text": [
      "Attributing:  82%|████████▏ | 9/11 [05:12<01:04, 32.50s/it]"
     ]
    },
    {
     "name": "stdout",
     "output_type": "stream",
     "text": [
      "Tried to stack head results when they weren't cached. Computing head results now\n"
     ]
    },
    {
     "name": "stderr",
     "output_type": "stream",
     "text": [
      "Attributing:  91%|█████████ | 10/11 [06:38<00:49, 49.01s/it]"
     ]
    },
    {
     "name": "stdout",
     "output_type": "stream",
     "text": [
      "Tried to stack head results when they weren't cached. Computing head results now\n"
     ]
    },
    {
     "name": "stderr",
     "output_type": "stream",
     "text": [
      "Attributing: 100%|██████████| 11/11 [07:04<00:00, 38.62s/it]\n"
     ]
    },
    {
     "data": {
      "text/html": [
       "<div>\n",
       "<style scoped>\n",
       "    .dataframe tbody tr th:only-of-type {\n",
       "        vertical-align: middle;\n",
       "    }\n",
       "\n",
       "    .dataframe tbody tr th {\n",
       "        vertical-align: top;\n",
       "    }\n",
       "\n",
       "    .dataframe thead th {\n",
       "        text-align: right;\n",
       "    }\n",
       "</style>\n",
       "<table border=\"1\" class=\"dataframe\">\n",
       "  <thead>\n",
       "    <tr style=\"text-align: right;\">\n",
       "      <th></th>\n",
       "      <th>label</th>\n",
       "      <th>position</th>\n",
       "      <th>mem_mean</th>\n",
       "      <th>cp_mean</th>\n",
       "      <th>diff_mean</th>\n",
       "      <th>mem_std</th>\n",
       "      <th>cp_std</th>\n",
       "      <th>diff_std</th>\n",
       "    </tr>\n",
       "  </thead>\n",
       "  <tbody>\n",
       "    <tr>\n",
       "      <th>0</th>\n",
       "      <td>L0H0</td>\n",
       "      <td>0</td>\n",
       "      <td>0.003548</td>\n",
       "      <td>0.000035</td>\n",
       "      <td>0.003513</td>\n",
       "      <td>0.025830</td>\n",
       "      <td>0.031719</td>\n",
       "      <td>0.041834</td>\n",
       "    </tr>\n",
       "    <tr>\n",
       "      <th>1</th>\n",
       "      <td>L0H0</td>\n",
       "      <td>1</td>\n",
       "      <td>0.008058</td>\n",
       "      <td>0.012324</td>\n",
       "      <td>-0.004266</td>\n",
       "      <td>0.022185</td>\n",
       "      <td>0.033281</td>\n",
       "      <td>0.037119</td>\n",
       "    </tr>\n",
       "    <tr>\n",
       "      <th>2</th>\n",
       "      <td>L0H0</td>\n",
       "      <td>2</td>\n",
       "      <td>0.012667</td>\n",
       "      <td>0.017614</td>\n",
       "      <td>-0.004946</td>\n",
       "      <td>0.018517</td>\n",
       "      <td>0.034533</td>\n",
       "      <td>0.036036</td>\n",
       "    </tr>\n",
       "    <tr>\n",
       "      <th>3</th>\n",
       "      <td>L0H0</td>\n",
       "      <td>3</td>\n",
       "      <td>0.018044</td>\n",
       "      <td>0.017581</td>\n",
       "      <td>0.000462</td>\n",
       "      <td>0.023233</td>\n",
       "      <td>0.028651</td>\n",
       "      <td>0.032691</td>\n",
       "    </tr>\n",
       "    <tr>\n",
       "      <th>4</th>\n",
       "      <td>L0H0</td>\n",
       "      <td>4</td>\n",
       "      <td>0.013997</td>\n",
       "      <td>0.010002</td>\n",
       "      <td>0.003995</td>\n",
       "      <td>0.013835</td>\n",
       "      <td>0.024615</td>\n",
       "      <td>0.024437</td>\n",
       "    </tr>\n",
       "    <tr>\n",
       "      <th>...</th>\n",
       "      <td>...</td>\n",
       "      <td>...</td>\n",
       "      <td>...</td>\n",
       "      <td>...</td>\n",
       "      <td>...</td>\n",
       "      <td>...</td>\n",
       "      <td>...</td>\n",
       "      <td>...</td>\n",
       "    </tr>\n",
       "    <tr>\n",
       "      <th>2422</th>\n",
       "      <td>all_heads</td>\n",
       "      <td>12</td>\n",
       "      <td>0.034782</td>\n",
       "      <td>0.046053</td>\n",
       "      <td>0.000000</td>\n",
       "      <td>0.126442</td>\n",
       "      <td>0.170084</td>\n",
       "      <td>0.000000</td>\n",
       "    </tr>\n",
       "    <tr>\n",
       "      <th>2423</th>\n",
       "      <td>all_heads_L10</td>\n",
       "      <td>12</td>\n",
       "      <td>0.092155</td>\n",
       "      <td>0.152299</td>\n",
       "      <td>0.000000</td>\n",
       "      <td>0.205348</td>\n",
       "      <td>0.327262</td>\n",
       "      <td>0.000000</td>\n",
       "    </tr>\n",
       "    <tr>\n",
       "      <th>2424</th>\n",
       "      <td>all_heads_L11</td>\n",
       "      <td>12</td>\n",
       "      <td>0.104581</td>\n",
       "      <td>0.127224</td>\n",
       "      <td>0.000000</td>\n",
       "      <td>0.176058</td>\n",
       "      <td>0.221034</td>\n",
       "      <td>0.000000</td>\n",
       "    </tr>\n",
       "    <tr>\n",
       "      <th>2425</th>\n",
       "      <td>all_heads_L7</td>\n",
       "      <td>12</td>\n",
       "      <td>0.043601</td>\n",
       "      <td>0.043012</td>\n",
       "      <td>0.000000</td>\n",
       "      <td>0.136977</td>\n",
       "      <td>0.143002</td>\n",
       "      <td>0.000000</td>\n",
       "    </tr>\n",
       "    <tr>\n",
       "      <th>2426</th>\n",
       "      <td>all_heads_L9</td>\n",
       "      <td>12</td>\n",
       "      <td>0.078581</td>\n",
       "      <td>0.141345</td>\n",
       "      <td>0.000000</td>\n",
       "      <td>0.191838</td>\n",
       "      <td>0.285027</td>\n",
       "      <td>0.000000</td>\n",
       "    </tr>\n",
       "  </tbody>\n",
       "</table>\n",
       "<p>2427 rows × 8 columns</p>\n",
       "</div>"
      ],
      "text/plain": [
       "              label  position  mem_mean   cp_mean  diff_mean   mem_std  \\\n",
       "0              L0H0         0  0.003548  0.000035   0.003513  0.025830   \n",
       "1              L0H0         1  0.008058  0.012324  -0.004266  0.022185   \n",
       "2              L0H0         2  0.012667  0.017614  -0.004946  0.018517   \n",
       "3              L0H0         3  0.018044  0.017581   0.000462  0.023233   \n",
       "4              L0H0         4  0.013997  0.010002   0.003995  0.013835   \n",
       "...             ...       ...       ...       ...        ...       ...   \n",
       "2422      all_heads        12  0.034782  0.046053   0.000000  0.126442   \n",
       "2423  all_heads_L10        12  0.092155  0.152299   0.000000  0.205348   \n",
       "2424  all_heads_L11        12  0.104581  0.127224   0.000000  0.176058   \n",
       "2425   all_heads_L7        12  0.043601  0.043012   0.000000  0.136977   \n",
       "2426   all_heads_L9        12  0.078581  0.141345   0.000000  0.191838   \n",
       "\n",
       "        cp_std  diff_std  \n",
       "0     0.031719  0.041834  \n",
       "1     0.033281  0.037119  \n",
       "2     0.034533  0.036036  \n",
       "3     0.028651  0.032691  \n",
       "4     0.024615  0.024437  \n",
       "...        ...       ...  \n",
       "2422  0.170084  0.000000  \n",
       "2423  0.327262  0.000000  \n",
       "2424  0.221034  0.000000  \n",
       "2425  0.143002  0.000000  \n",
       "2426  0.285027  0.000000  \n",
       "\n",
       "[2427 rows x 8 columns]"
      ]
     },
     "execution_count": 10,
     "metadata": {},
     "output_type": "execute_result"
    }
   ],
   "source": [
    "logit_attribution = LogitAttribution(\n",
    "    dataset=dataset,\n",
    "    model=logit_attr_model,\n",
    "    batch_size=8,\n",
    "    experiment=\"copyVSfact\",\n",
    ")\n",
    "\n",
    "logit_attr_df = logit_attribution.run()\n",
    "logit_attr_df"
   ]
  },
  {
   "cell_type": "code",
   "execution_count": 11,
   "metadata": {},
   "outputs": [],
   "source": [
    "def save_dataframe(folder_path, file_name, dataframe):\n",
    "    print(folder_path)\n",
    "    if not os.path.exists(folder_path):\n",
    "        os.makedirs(folder_path)\n",
    "    dataframe.to_csv(f\"{folder_path}/{file_name}.csv\", index=False)"
   ]
  },
  {
   "cell_type": "code",
   "execution_count": 13,
   "metadata": {},
   "outputs": [
    {
     "name": "stdout",
     "output_type": "stream",
     "text": [
      "../results/copyVSfactDomain/logit_attribution/gpt2_domain_Sensitive_Subjects\n"
     ]
    }
   ],
   "source": [
    "save_dataframe(\n",
    "    f\"../results/{EXPERIMENT}/logit_attribution/{MODEL_FOLDER}\",\n",
    "    \"logit_attribution_data\",\n",
    "    logit_attr_df,\n",
    ")"
   ]
  },
  {
   "cell_type": "code",
   "execution_count": 215,
   "metadata": {},
   "outputs": [],
   "source": [
    "# !python /Users/udit/PycharmProjects/FACT/FACT_project/plotting_scripts/plot_logit_attribution_fig_3_4a.py \\\n",
    "#     {MODEL_NAME} {EXPERIMENT} {MODEL_FOLDER}"
   ]
  },
  {
   "cell_type": "code",
   "execution_count": null,
   "metadata": {},
   "outputs": [],
   "source": []
  },
  {
   "cell_type": "code",
   "execution_count": null,
   "metadata": {},
   "outputs": [],
   "source": []
  },
  {
   "cell_type": "code",
   "execution_count": null,
   "metadata": {},
   "outputs": [],
   "source": []
  },
  {
   "cell_type": "code",
   "execution_count": null,
   "metadata": {},
   "outputs": [],
   "source": []
  },
  {
   "cell_type": "code",
   "execution_count": null,
   "metadata": {},
   "outputs": [],
   "source": []
  }
 ],
 "metadata": {
  "kernelspec": {
   "display_name": "fact",
   "language": "python",
   "name": "python3"
  },
  "language_info": {
   "codemirror_mode": {
    "name": "ipython",
    "version": 3
   },
   "file_extension": ".py",
   "mimetype": "text/x-python",
   "name": "python",
   "nbconvert_exporter": "python",
   "pygments_lexer": "ipython3",
   "version": "3.12.7"
  }
 },
 "nbformat": 4,
 "nbformat_minor": 2
}
