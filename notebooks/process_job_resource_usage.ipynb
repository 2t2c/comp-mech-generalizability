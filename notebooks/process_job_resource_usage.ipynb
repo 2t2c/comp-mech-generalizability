{
 "cells": [
  {
   "cell_type": "code",
   "execution_count": 4,
   "metadata": {},
   "outputs": [
    {
     "name": "stdout",
     "output_type": "stream",
     "text": [
      "Index(['JOB-STEP-AID', 'USER', 'APPLICATION', 'POLICY', 'NODES', 'AVG', 'DEF',\n",
      "       'IMC(GHz)', 'TIME(s)', 'POWER(W)', 'GBS', 'CPI', 'ENERGY(J)',\n",
      "       'GFLOPS/W', 'IO(MBs)', 'MPI%', 'G-POW (T/U)', 'G-FREQ',\n",
      "       'G-UTIL(G/MEM)'],\n",
      "      dtype='object')\n",
      "total_energy_in_kwh: 40.51kWh\n",
      "total_time_in_hours: 97.79h\n",
      "total_energy_per_hour: 0.41\n"
     ]
    }
   ],
   "source": [
    "import pandas as pd\n",
    "\n",
    "df = pd.read_csv(\"../job_resource_usage_final.csv\", delimiter=\";\")\n",
    "\n",
    "print(df.columns)\n",
    "\n",
    "total_energy_in_joules = df['ENERGY(J)'].sum()\n",
    "total_energy_in_kwh = total_energy_in_joules / 3600000\n",
    "print(f'total_energy_in_kwh: {total_energy_in_kwh:0.2f}kWh')\n",
    "\n",
    "total_time_in_seconds = df['TIME(s)'].sum()\n",
    "total_time_in_hours = total_time_in_seconds / 3600\n",
    "print(f'total_time_in_hours: {total_time_in_hours:0.2f}h')\n",
    "\n",
    "total_energy_per_hour = total_energy_in_kwh / total_time_in_hours\n",
    "print(f'total_energy_per_hour: {total_energy_per_hour:0.2f}')"
   ]
  },
  {
   "cell_type": "code",
   "execution_count": 5,
   "metadata": {},
   "outputs": [
    {
     "name": "stdout",
     "output_type": "stream",
     "text": [
      "     JOB-STEP-AID     USER         APPLICATION POLICY  NODES       AVG  DEF  \\\n",
      "104  9601288-sb-0  mivanov        RunLogitLens     NP      1  2.671393  2.7   \n",
      "7    9639780-sb-0  mivanov        RunLogitLens     NP      1  2.671736  2.7   \n",
      "96   9606475-sb-0  mivanov        RunLogitLens     NP      1  2.673855  2.7   \n",
      "8    9638360-sb-0  mivanov        RunLogitLens     NP      1  2.676157  2.7   \n",
      "6    9639781-sb-0  mivanov        RunLogitLens     NP      1  2.678979  2.7   \n",
      "..            ...      ...                 ...    ...    ...       ...  ...   \n",
      "118  9598292-sb-0  mivanov  InstallEnvironment     NP      1  2.673421  2.7   \n",
      "94   9607004-sb-0  mivanov        RunLogitLens     NP      1  2.672578  2.7   \n",
      "64   9608933-sb-0  mivanov        RunLogitLens     NP      1  2.673000  2.7   \n",
      "129  9592031-sb-0  mivanov             LlamaLL     NP      1  2.673421  2.7   \n",
      "70   9608042-sb-0  mivanov  InstallEnvironment     NP      1  2.673000  2.7   \n",
      "\n",
      "    IMC(GHz)  TIME(s)    POWER(W)  GBS  CPI     ENERGY(J) GFLOPS/W IO(MBs)  \\\n",
      "104      ---  36606.0  483.254028  ---  ---  1.769000e+07      ---     ---   \n",
      "7        ---  35877.0  376.465759  ---  ---  1.350646e+07      ---     ---   \n",
      "96       ---  38481.0  343.886047  ---  ---  1.323308e+07      ---     ---   \n",
      "8        ---  24673.0  502.181549  ---  ---  1.239033e+07      ---     ---   \n",
      "6        ---  26703.0  387.917236  ---  ---  1.035855e+07      ---     ---   \n",
      "..       ...      ...         ...  ...  ...           ...      ...     ...   \n",
      "118      ---      6.0  584.071655  ---  ---  3.504430e+03      ---     ---   \n",
      "94       ---      6.0  427.731659  ---  ---  2.566390e+03      ---     ---   \n",
      "64       ---      6.0  424.750000  ---  ---  2.548500e+03      ---     ---   \n",
      "129      ---      4.0  511.980011  ---  ---  2.047920e+03      ---     ---   \n",
      "70       ---      4.0  511.207489  ---  ---  2.044830e+03      ---     ---   \n",
      "\n",
      "    MPI% G-POW (T/U) G-FREQ G-UTIL(G/MEM)  \n",
      "104  ---         ---    ---           ---  \n",
      "7    ---         ---    ---           ---  \n",
      "96   ---         ---    ---           ---  \n",
      "8    ---         ---    ---           ---  \n",
      "6    ---         ---    ---           ---  \n",
      "..   ...         ...    ...           ...  \n",
      "118  ---         ---    ---           ---  \n",
      "94   ---         ---    ---           ---  \n",
      "64   ---         ---    ---           ---  \n",
      "129  ---         ---    ---           ---  \n",
      "70   ---         ---    ---           ---  \n",
      "\n",
      "[163 rows x 19 columns]\n"
     ]
    }
   ],
   "source": [
    "# Order by total energy\n",
    "df = df.sort_values(by='ENERGY(J)', ascending=False)\n",
    "print(df)"
   ]
  },
  {
   "cell_type": "code",
   "execution_count": null,
   "metadata": {},
   "outputs": [],
   "source": []
  }
 ],
 "metadata": {
  "kernelspec": {
   "display_name": "fact_cpu",
   "language": "python",
   "name": "python3"
  },
  "language_info": {
   "codemirror_mode": {
    "name": "ipython",
    "version": 3
   },
   "file_extension": ".py",
   "mimetype": "text/x-python",
   "name": "python",
   "nbconvert_exporter": "python",
   "pygments_lexer": "ipython3",
   "version": "3.12.7"
  }
 },
 "nbformat": 4,
 "nbformat_minor": 2
}
